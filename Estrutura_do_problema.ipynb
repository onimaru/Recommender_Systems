{
 "cells": [
  {
   "cell_type": "markdown",
   "metadata": {},
   "source": [
    "# Teste Data Science Elo7\n",
    "# Sistema de recomendação com o dataset Movie Lens\n",
    "\n",
    "1.  Sistemas de recomendação: Leitura de artigos sobre sistemas de recomendação\n",
    "    -  O caso Netflix\n",
    "    -  Sistema user-based ou  item-based\n",
    "2. Conhecendo os dados - Movie Lens\n",
    "3. Estrutura do problema\n",
    "    -  Similaridade\n",
    "4. Conclusões\n",
    "    -  Objetivo principal\n",
    "    -  Sobre as features disponíveis\n",
    "    -  Métricas para ranqueamento\n",
    "    -  Modelo\n",
    "    -  Avaliação do modelo"
   ]
  },
  {
   "cell_type": "markdown",
   "metadata": {},
   "source": [
    "## 1. Breve abordagem ao sistema de recomendação do Netflix\n",
    "\n",
    "### O caso Netflix\n",
    "As duas postagens sobre o sistema de recomendação do Netflix apresentam boas táticas que podem ser usadas em sistemas de recomendação de modo geral, embora o sistema atual não seja mais baseado nas \"cinco estrelas\", as postagens são de 2012. A ideia mais óbvia e básica desse sistema é simplesmente recomendar ao usuário filmes com alto *score*. Entretanto, tal método não teria muito sucesso devido a complexidade dos dados e do comportamento dos usuários. Alguns pontos específicos que o sistema de recomendação do Netflix utiliza, ou utilizava em 2012 são abordados a seguir:  \n",
    "-  Usuário variado: uma mesma conta pode ser compartilhada por uma família, portanto não pode-se considerar que todas as sugestões são para uma pessoa. Poderia inicialmente ser identificado quantos usuários utilizam a conta, baseado na dispersão das avaliações dos mesmos, e então um pequeno número de sugestões simultâneas (uma linha na interface do Netflix) deveria atingir cada um destes usuários.\n",
    "-  Confiança do usuário: mostrar para o usuário que a recomendação é personalizada faz com que ele ganhe confiança em futuras recomendações. Isso mostra como uma análise cognitiva do problema pode ser mais eficiente do que um algoritmo complexo ou um grande conjunto de dados. Usualmente isso é feito com recomendações acompanhadas de: \"Como você viu X talvez goste de Y, Z, ...\"; ou \"Recomendações para NomeDeUsuario\". A personalização gera um sentimento de importância e unicidade ao usuário que consequentemente gera confiança na marca ou produto.\n",
    "-  Círculo social: há estudos sobre cognição (**indicar nerdologia**) que mostram que o ser humano muda de ideia ou aceita algo novo com maior facilidade se pessoas conhecidas ou queridas são as responsáveis de alguma forma pela sugestão. Assim também é comum utilizar em uma recomendação algo que já foi avaliado positivamente por um conhecido ou até mesmo outro usuário com perfil similar. Novamente para ganhar confiança é comum mostrar a foto, com ou sem o nome, do \"usuário que indica\".\n",
    "-  Gênero: a sugestão pode também ser feita por gênero e subgênero (ou palavras-chave) utilizando o *score* como critério de ordenamento. Este seria um método mais direto sem uma abordagem psicológica do usuário.\n",
    "-  Similaridade: baseado em uma série de critérios como palavras-chave, gênero, ator, diretor, etc. pode-se agrupar filmes em clusters e então fazer sugestões de um grupo que tem similaridade com filmes avaliados pelo usuário. Uma abordagem com um modelo linear poderia utilizar a correlação entre os critérios.\n",
    "-  Outros: há ainda várias possibilidades de abordagem ou de classificação das sugestões como a popularidade, o interesse visto nas procuras, o contexto ou mesmo a atualidade de um item.\n",
    "\n",
    "O ranqueamento de um sistema pode então utilizar alguns ou todos os métodos citados em um único sistema mais complexo com o objetivo de apresentar as sugestões que serão mais apreciadas pelo usuário. O Netflix utiliza vários modelos apresentando as sugestões nas diferentes linhas mostradas na sua interface. Com o passar do tempo a empresa vem adaptando, melhorando ou adicionando novos modelos se tornando referência na área de sistemas de recomendação.\n",
    "\n",
    "### Sistema user-based ou  item-based\n",
    "\n",
    "A classificação básica de um sistema de recomendação é dada em duas categorias:\n",
    "-  user-based: este tipo de sistema é aquele que busca similaridades entre usuários para fazer ma sugestão. Ex: O usuário A gosta de Star Wars e Star Trek; o usuário B gosta de Star Trek então Star Wars seria uma boa sugestão para B e a similaridade entre A e B é dada pelo gosto mútuo por Star Trek.\n",
    "-  item-based: é o sistema que considera alguma característica do item para fazer a sugestão. Ex: se em um conjunto de filmes de ação Duro de Matar é o que mais gera \"plays\" quando sugerido ele pode ser uma boa sugestão para quem procura um filme de ação.\n",
    "\n",
    "Ambas categorias possuem características positivas e negativas que variam muito com a aplicação, dados disponíveis e modelo escolhido. Aparentemente (é uma opinião minha) hoje em dia o Netflix usa uma combinação desses sistemas, mas o seu sucesso se deve principalmente devido a personalização do sistema, ou seja, o foco é maior em user-based."
   ]
  },
  {
   "cell_type": "markdown",
   "metadata": {},
   "source": [
    "## 2. Conhecendo os dados - Movie Lens\n",
    "\n",
    "Antes de definir um modelo ou uma estratégia devemos entender que informação possuímos no dataset fornecido, Movie Lens. Após uma análise do seu conteúdo, apenas os datasets \"movies\" e \"ratings\" foram utilizados. Destes foram retiradas informações em uma etapa de feature engineering com o objetivo principal de extrair características que pudessem ser utilizadas para encontrar similaridade entre os filmes.\n",
    "\n",
    "Com os dados obtidos procuramos responder algumas questões pertinentes:\n",
    "\n",
    "-  Como as avaliações são distribuídas?\n",
    "-  Quantas avaliações em média tem um filme?\n",
    "-  Qual o número de vezes mínimo significativo que um filme foi avaliado?\n",
    "-  Existe alguma relação entre o gênero do filme e o padrão de avaliação dos usuários?  \n",
    "-  Existe correlação entre os gêneros de filme?\n",
    "-  Usuários que gostam de um gênero também gostam de outro(s)?\n",
    "-  O ano de lançamento do filme influencia na avaliação?\n",
    "-  A hora do dia influencia na avaliação que o usuário dá para um filme?\n",
    "-  Existe correlação entre variedade de gênero de um filme e sua avaliação?"
   ]
  },
  {
   "cell_type": "markdown",
   "metadata": {},
   "source": [
    "## 3. Estrutura do problema\n",
    "\n",
    "Vendo o exemplo do Netflix e os dados disponíveis optou-se por criar um sistema que identifica os três gêneros de filmes favoritos de um usuário informado e em cada um destes recomenda uma lista de cinco filmes.\n",
    "\n",
    "### Similaridade\n",
    "\n",
    "Para essa construção foi utilizada a ideia de similaridade entre os filmes. Esta foi obtida atrvés do algoritmo de treino não-supervisionado NearestNeighbors da biblioteca scikit-learn.\n",
    "\n",
    "A partir disso a métrica utilizada para determinar o sucesso das recomendações foi não usual. Definiu-se como métrica o número de filmes recomendados que se encontram dentro das lista de filmes favoritos do usuário. Os filmes favoritos foram obtidos através de um filtro com as características gênero, rating do usuário e rating médio do filme."
   ]
  },
  {
   "cell_type": "markdown",
   "metadata": {},
   "source": [
    "### 4. Conclusões\n",
    "\n",
    "Vamos discutir vários aspectos do sistema de recomendação construído abordando suas falhas e possíveis melhorias.\n",
    "\n",
    "#### Objetivo principal\n",
    "\n",
    "O objetivo de recomendar filmes para o usuário através da entrada de seu userId foi cumprido e pode ser visto utilizando a função **recom_movie(userId)**. As sugestões são dadas na forma de cinco filmes para cada um dos três gêneros favoritos do usuário.\n",
    "\n",
    "##### Sobre as features disponíveis\n",
    "\n",
    "O link sugerido para acessar o dataset leva ao dataset chamado ml-20m e neste não há informações mais específicas sobre os usuários. Há um dataset menor, ml-100k, na mesma base que possui os dados de idade, gênero, profissão e endereço (zipcode) do usuário. Caso estas informações fossem utilizadas poderíamos encontrar filmes favoritos do usuário com um algoritmo, como o NearestNeighbors, para identificar filmes favoritos e utilizá-los como referência para filmes similares.\n",
    "\n",
    "Outra característica que poderia ser utilizada neste algoritmo seria o 'timestamp', pois filmes vistos por último e com boa avaliação podem ser uma sugestão melhor que filmes vistos há muito tempo com boa avaliação.\n",
    "\n",
    "Como o dataset ml-100k não foi indicado primariamente vamos assumir que não temos estes dados e utilizar a correlação de Pearson e entre o 'rating' e os gêneros para determinar os gêneros favoritos e utilizá-los para fazer a sugestão.\n",
    "\n",
    "Aqui foram usadas variáveis pouco significativas para classificar um filme. Com mais informações como o país de origem, duração, língua, protagonistas e avaliação de sites como Rotten Tomatoes e IMDB enriqueceríamos a capacidade de encontrar semelhanças entre os filmes. Estes dados podem ser encontrados com a própria base de dados do IMDB eo dataset 'links' contém o Id de cada filme para fazer esta busca.\n",
    "\n",
    "#### Métricas para ranqueamento\n",
    "\n",
    "Um sistema com avaliação do tipo \"like\" e \"dislike\" permitiria a construção de um modelo de classificação, que permitiria usar as métricas convencionais (accuracy, precision, F1, Recall e Confusion Matrix) ao invés de uma métrica criada especificamente para esse problema, o número de sucessos.\n",
    "\n",
    "#### Modelo\n",
    "\n",
    "Foi escolhido um modelo que considera um espaço abstrato contendo como datapoints os filmes. A semelhanças entre os filmes é determinada pela proximidade dos datapoints neste espaço. O algoritmo utilizado, NearestNeighbors, utilizou como características (features) dos datapoints o ano de lançamento, os gêneros e a valiação média dos usuários.\n",
    "\n",
    "Poderíamos enriquecer muito as características dos filmes utilizando um pouco de Natural Language Processing para obter informações das palavras contidas nos datasets \"tags\", \"genome_tags\", \"genome_scores\" e também nos títulos dos filmes.\n",
    "\n",
    "Há diversas outras maneiras de realizar a recomendações, por exemplo, o sistema poderia ter como \"target\" prever a nota que o usuário daria para o filme e recomendar os filmes de acordo com as maiores avaliações previstas. A vantagem desse sistema é a fácil verificação de performance através de métricas como RMSE, além disso poderíamos separar o dataset em train set e test set para avalição entre outras coisas a generelização, ovefitting e underfitting.\n",
    "\n",
    "\n",
    "#### Avaliação do modelo\n",
    "\n",
    "O método escolhido dificultou a avaliação do modelo por não se encaixar nos padrões mais conhecidos e então estabelecemos uma métrica qualitativa que conta quantas das recomendações estão entre os filmes favoritos de um usuário. Comparando os resultados obtidos com recomendações feitas ao acaso o sistema construído apresentou um número de sucessos 125 maior. Outro ponto que pode ter afetado o resultado das recomendações é o método escolhido para determinar os filmes favoritos do usuário, pois há grande chance de que todos os 10 filme tenham recebido avaliação 5, assim o critério de desempate seria apenas a avaliação média do filme."
   ]
  }
 ],
 "metadata": {
  "anaconda-cloud": {},
  "kernelspec": {
   "display_name": "Python 3",
   "language": "python",
   "name": "python3"
  },
  "language_info": {
   "codemirror_mode": {
    "name": "ipython",
    "version": 3
   },
   "file_extension": ".py",
   "mimetype": "text/x-python",
   "name": "python",
   "nbconvert_exporter": "python",
   "pygments_lexer": "ipython3",
   "version": "3.6.2"
  }
 },
 "nbformat": 4,
 "nbformat_minor": 2
}
