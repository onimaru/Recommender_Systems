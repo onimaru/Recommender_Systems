{
 "cells": [
  {
   "cell_type": "markdown",
   "metadata": {},
   "source": [
    "Como dito anteriormente, a segunda etapa do processo seletivo é o teste técnico. O objetivo dessa etapa é avaliar como você desenvolve uma tarefa semelhante ao que enfrentaria no dia-a-dia como Data Scientist no Elo7.\n",
    "\n",
    "O enunciado do teste está descrito neste gist: https://gist.github.com/elo7-developer/c7e05b3d6146aa81744f7ee46d93c343#file-teste_data_science-md\n",
    "\n",
    "A entrega da solução deve ser feita em duas partes:\n",
    "Um documento (jupyter notebook) que explique quais serão as etapas que você utilizará para resolver o problema. Esse documento deverá conter apenas texto. Procure estruturar bem as suas ideias. Ele servirá de base para entendermos a sua linha de raciocínio. Esse documento pode mudar em função do andamento da sua solução.\n",
    "Um documento (jupyter notebook) que contém a implementação do seu teste técnico. Esse documento deve conter textos e códigos intercalados de maneira fluída. Tente criar uma história com o seu código e dados! Procure dar prioridade para a explicação das etapas. Não vamos avaliar se você utiliza as técnicas mais complexas, mas sim se o seu raciocínio está bem estruturado. Leia atentamente o enunciado dos testes e nos envie um e-mail se tiver qualquer dúvida!\n",
    "Nós não possuímos um prazo máximo para a entrega da solução do teste. Nós também não vamos utilizar a velocidade de entrega como critério de seleção dos candidatos. Sabemos que existem diferentes graus de disponibilidades dos candidatos. Entretanto, procure enviar as partes intermediárias da sua solução para verificarmos o seu andamento. Não vamos avaliar essas partes, mas poderemos verificar que você está avançando no teste.\n",
    "\n",
    "Qualquer dúvida sobre o enunciado ou o problema em si, por favor envie um e-mail. Sempre estaremos disponíveis para ajudar em qualquer uma das etapas. O objetivo desse teste é para ser bastante transparente. Se não entender alguma coisa, foi uma falha nossa e ela deve ser corrigida."
   ]
  },
  {
   "cell_type": "markdown",
   "metadata": {},
   "source": [
    "## Teste Data Science Elo7\n",
    "\n",
    "Esse teste faz parte da segunda etapa do processo seletivo para a vaga no time Data Science do Elo7. O objetivo do teste é avaliar como você desenvolve uma solução completa (em nível de prova de conceito) para um problema de sistemas de recomendação, que é uma das tarefas que mais realizamos no nosso dia-a-dia.  \n",
    "\n",
    "### Dataset:  \n",
    "O dataset escolhido para esse teste foi a base pública do Movie Lens, que é muito utilizado para avaliar algoritmos de sistemas de recomendação. Ele contém avaliações e tags textuais dadas por usuários a filmes. Os dados podem ser obtidos a partir desse link.  \n",
    "\n",
    "Em resumo, o dataset contém 20.000.263 ratings e 465.564 tags aplicadas a 27.278 filmes, distribuidos em 138.493 usuários. Todos os usuários avaliaram ao menos 20 filmes e todos os filmes possuem, ao menos, 1 avaliação. Mais detalhes sobre a estrutura dos dados se encontram aqui.  \n",
    "\n",
    "Para facilitar a estrutura do teste, nós separamos o desenvolvimento em três etapas: 1) ***Análise Exploratória***, 2) ***Sistema de Recomendação*** e 3) ***Avaliação do sistema de recomendação***.  \n",
    "\n",
    "### Parte 1 - Análise Exploratória  \n",
    "\n",
    "Essa etapa é uma das mais importantes de qualquer trabalho de um Data Scientist. Antes de executar qualquer algoritmo, nós precisamos primeiro entender o nosso problema. Por isso, gostaríamos que você realizasse uma análise exploratória e indicasse as principais características presentes nos dados. Você tem total liberdade para escolher qualquer ferramenta ou algoritmo nessa etapa.  \n",
    "\n",
    "*Dica 1*: Para facilitar um pouco o fluxo de informações, recomendamos começar essa etapa explicitando as perguntas que você deseja responder com as análises. Dessa forma, a análise ficará mais estruturada.  \n",
    "\n",
    "*Dica 2*: Possíveis perguntas que você pode fazer: - Existe alguma relação entre o gênero do filme e o padrão de avaliação dos usuários? - Existe correlação entre os gêneros de filme? Usuários que gostam de um gênero também gostam de outro(s)?  \n",
    "\n",
    "Use bastante criatividade nessa etapa! Muito provavelmente, essa análise fornecerá ideias para o sistema de recomendação que você precisará desenvolver na etapa seguinte.  \n",
    "\n",
    "### Parte 2 - Sistema de Recomendação  \n",
    "\n",
    "Implemente um sistema de recomendação (a nível de prova de conceito) que recomenda filmes que um determinado usuário possa gostar com base nos reviews que ele fez. O input do sistema vai ser o id de um usuário.  \n",
    "\n",
    "Não vamos indicar nenhum algoritmo ou técnica para executar essa tarefa, porque isso enviesaria a sua solução. Entretanto, gostaríamos que você documentasse todas as decisões tomadas. Não se preocupe em encontrar o melhor algoritmo para resolver o problema. Preferimos que você se preocupe em criar uma boa \"história\" com os dados, alternando código e o seu raciocínio.  \n",
    "\n",
    "A avaliação dessa etapa vai consistir nesses pontos:\n",
    "\n",
    "-  Estrutura: Código + história\n",
    "-  Conhecimento do problema:\n",
    "   -  Ferramentas de manipulação dos dados\n",
    "   -  Aplicação das técnicas\n",
    "- **Criatividade =)**  \n",
    "\n",
    "Obs: Não esperamos que você tenha conhecimento prévio em sistemas de recomendação, mas seria interessante estudar um pouco (pouco mesmo!) sobre os tipos de sistemas de recomendação para o problema. Veja também sites como a Amazon, Netflix e Spotify para verificar como eles abordam os sistemas de recomendação deles. Leia também esses artigos interessante do Netflix ([1](https://medium.com/netflix-techblog/netflix-recommendations-beyond-the-5-stars-part-1-55838468f429) e [2](https://medium.com/netflix-techblog/netflix-recommendations-beyond-the-5-stars-part-2-d9b96aa399f5)) sobre as dificuldades práticas de um algoritmo de sistemas de recomendação de filmes na Netflix. A ideia aqui é entender que a solução do problema pode ser um pouco mais complicada do que apenas a implementação de um algoritmo preciso.\n",
    "\n",
    "### Parte 3 - Avaliação do sistema de recomendação  \n",
    "\n",
    "Nessa etapa, gostaríamos que você pensasse sobre que métrica(s) você gostaria de utilizar para avaliar o sistema de recomendação criado na Parte 2.  \n",
    "\n",
    "Essa etapa é muito importante para avaliar e comparar diferentes algoritmos. Podemos utilizar diversas métricas para testar diferentes hipóteses, mas dificilmente teremos uma métrica única para todos os problemas. Que técnica(s) você utilizará para avaliar o seu algoritmo?  \n",
    "\n",
    "*Atenção*: lembre-se de justificar sua escolha da(s) métrica(s) de avaliação.\n",
    "\n",
    "Obs: Novamente, seja **criativo**!\n",
    "\n",
    "### Observações gerais:  \n",
    "\n",
    "Você deve submeter um jupyter notebook com o código desenvolvido por você com a solução de ambos os desafios. Lembre-se de documentar seu código e utilizar células *Markdown* para explicar **detalhadamente** sua solução. Lembre-se de explicar seu raciocínio e justificar os métodos utilizados por você. Explicite os algoritmos utilizados e as etapas de pré-processamento que você recomenda fazer, justificando o porquê de cada uma das decisões tomadas.  \n",
    "\n",
    "Aqui você pode ver uma lista de linguagens compatíveis com o jupyter e aqui algumas instruções que podem auxiliar na instalação da mesma.  \n",
    "\n",
    "Suba um arquivo final .ipynb, um .html e um requirements.txt (gerado pelo comando pip freeze > requirements.txt) em seu github pessoal. Deixe o repositório público e nos mande o link por email. Caso tenha utilizado uma linguagem diferente de Python, nos explique como rodar o seu projeto localmente. Se preferir a utilização do Python, por favor submeta o teste utilizando o Python 3+.  \n",
    "\n",
    "Sinta-se à vontade para fazer o uso de bibliotecas (como o scikit-learn e scipy), mas, novamente, você deve saber explicar o porquê de você aplicar determinado algoritmo para determinada situação.  \n",
    "\n",
    "Não queremos a solução ideal para o problema! Queremos entender sua forma de pensar. =)  \n",
    "\n",
    "IMPORTANTE: Seja criativo na resolução do problema! O trabalho de um Data Scientist envolve conhecimento técnico, metodologia científica e muita criatividade para abordar problemas complexos. Você encontrará muitas formas padrão de resolver o problema de recomendação de filmes para o dataset do MovieLens. Será que você consegue encontrar novas formas de abordar o mesmo problema? Tente formular uma hipótese, crie o algoritmo de recomendação - seja de Machine Learning ou não! - e encontre uma métrica que teste a sua hipótese.  \n",
    "\n",
    "Boa sorte e qualquer dúvida, pode nos mandar um e-mail!"
   ]
  },
  {
   "cell_type": "markdown",
   "metadata": {},
   "source": [
    "# Esclarecimentos\n",
    "\n",
    "**Público**: este notebook está sendo preparado como se fosse apresentado para alguém que possui familiaridade com ciência de dados e não como forma de apresentação final dos resultados para uma comissão de leigos.  \n",
    "**Completude**: a parte exploratória está cerca de 90% concluída; as partes 2 e 3 precisam de explicações e comentários\n",
    "**Objetivo principal**: o sistema de recomendação a partir do id de usuário está funcionando, a qualidade das recomendações precisa ser revista."
   ]
  },
  {
   "cell_type": "markdown",
   "metadata": {},
   "source": [
    "# Parte 1 - Análise Exploratória\n",
    "\n",
    "## Verificando a estrutura dos dados\n",
    "\n",
    "A base de dados possui 6 arquivos identificados como \"genome_scores.csv\", \"genome_tags.csv\", \"links.csv\", \"movies.csv\", \"ratings.csv\" e \"tags.csv\". Inicialmente vamos verificar o conteúdo dos arquivos (com a biblioteca pandas) e da documentação (http://files.grouplens.org/datasets/movielens/ml-20m-README.html). Após a primeira análise vamos poder criar algumas hipóteses."
   ]
  },
  {
   "cell_type": "code",
   "execution_count": 2,
   "metadata": {},
   "outputs": [],
   "source": [
    "import pandas as pd\n",
    "import numpy as np\n",
    "import matplotlib.pyplot as plt\n",
    "import seaborn as sns"
   ]
  },
  {
   "cell_type": "code",
   "execution_count": 3,
   "metadata": {},
   "outputs": [],
   "source": [
    "import warnings\n",
    "warnings.filterwarnings('ignore',category=DeprecationWarning)"
   ]
  },
  {
   "cell_type": "code",
   "execution_count": 4,
   "metadata": {},
   "outputs": [],
   "source": [
    "# importando os arquivos\n",
    "dt_gen_scores = pd.read_csv(r\"ml-20m\\genome-scores.csv\")\n",
    "dt_gen_tags = pd.read_csv(r\"ml-20m\\genome-tags.csv\")\n",
    "dt_links = pd.read_csv(r\"ml-20m\\links.csv\")\n",
    "dt_movies = pd.read_csv(r\"ml-20m\\movies.csv\")\n",
    "dt_ratings = pd.read_csv(r\"ml-20m\\ratings.csv\")\n",
    "dt_tags = pd.read_csv(r\"ml-20m\\tags.csv\")"
   ]
  },
  {
   "cell_type": "code",
   "execution_count": 5,
   "metadata": {},
   "outputs": [
    {
     "data": {
      "text/plain": [
       "'# definindo novos dataframes para manter os originais intactos\\ndt_gen_scores = genome_scores.copy()\\ndt_gen_tags = genome_tags.copy()\\ndt_movies = movies.copy()\\ndt_ratings = ratings.copy()\\ndt_tags = tags.copy()'"
      ]
     },
     "execution_count": 5,
     "metadata": {},
     "output_type": "execute_result"
    }
   ],
   "source": [
    "# Observação: gosto de utilizar esse procedimento para os casos em que modifiquei muito os dados originais e preciso\n",
    "# de alguma informação dos mesmos. Como isso dobra a utilização da memória e meu passou a não aguentar, então decidi\n",
    "# abandonar esta prática.\n",
    "'''# definindo novos dataframes para manter os originais intactos\n",
    "dt_gen_scores = genome_scores.copy()\n",
    "dt_gen_tags = genome_tags.copy()\n",
    "dt_movies = movies.copy()\n",
    "dt_ratings = ratings.copy()\n",
    "dt_tags = tags.copy()'''"
   ]
  },
  {
   "cell_type": "markdown",
   "metadata": {},
   "source": [
    "Definimos uma pequena função para mostrar algumas características básicas dos dataframes."
   ]
  },
  {
   "cell_type": "code",
   "execution_count": 6,
   "metadata": {},
   "outputs": [],
   "source": [
    "def summary(dataframe):\n",
    "    print(\"head: \\n\")\n",
    "    print(dataframe.head(),\"\\n\")\n",
    "    print(\"info: \\n\")\n",
    "    print(dataframe.info(),\"\\n\")\n",
    "    print(\"describe: \\n\")\n",
    "    print(dataframe.describe(),\"\\n\")\n",
    "    print(\"isnull: \\n\")\n",
    "    print(dataframe.isnull().sum(),\"\\n\")\n",
    "    print(\"shape: \\n\")\n",
    "    print(dataframe.shape,\"\\n\")"
   ]
  },
  {
   "cell_type": "markdown",
   "metadata": {},
   "source": [
    "### Dataframes: dt_genome_scores e dt_genome_tags"
   ]
  },
  {
   "cell_type": "code",
   "execution_count": 7,
   "metadata": {},
   "outputs": [
    {
     "name": "stdout",
     "output_type": "stream",
     "text": [
      "head: \n",
      "\n",
      "   movieId  tagId  relevance\n",
      "0        1      1    0.02500\n",
      "1        1      2    0.02500\n",
      "2        1      3    0.05775\n",
      "3        1      4    0.09675\n",
      "4        1      5    0.14675 \n",
      "\n",
      "info: \n",
      "\n",
      "<class 'pandas.core.frame.DataFrame'>\n",
      "RangeIndex: 11709768 entries, 0 to 11709767\n",
      "Data columns (total 3 columns):\n",
      "movieId      int64\n",
      "tagId        int64\n",
      "relevance    float64\n",
      "dtypes: float64(1), int64(2)\n",
      "memory usage: 268.0 MB\n",
      "None \n",
      "\n",
      "describe: \n",
      "\n",
      "            movieId         tagId     relevance\n",
      "count  1.170977e+07  1.170977e+07  1.170977e+07\n",
      "mean   2.584297e+04  5.645000e+02  1.164833e-01\n",
      "std    3.467615e+04  3.256254e+02  1.542463e-01\n",
      "min    1.000000e+00  1.000000e+00  2.500000e-04\n",
      "25%    2.926000e+03  2.827500e+02  2.425000e-02\n",
      "50%    6.017000e+03  5.645000e+02  5.650000e-02\n",
      "75%    4.606200e+04  8.462500e+02  1.415000e-01\n",
      "max    1.311700e+05  1.128000e+03  1.000000e+00 \n",
      "\n",
      "isnull: \n",
      "\n",
      "movieId      0\n",
      "tagId        0\n",
      "relevance    0\n",
      "dtype: int64 \n",
      "\n",
      "shape: \n",
      "\n",
      "(11709768, 3) \n",
      "\n"
     ]
    }
   ],
   "source": [
    "summary(dt_gen_scores)"
   ]
  },
  {
   "cell_type": "code",
   "execution_count": 8,
   "metadata": {},
   "outputs": [
    {
     "name": "stdout",
     "output_type": "stream",
     "text": [
      "head: \n",
      "\n",
      "   tagId           tag\n",
      "0      1           007\n",
      "1      2  007 (series)\n",
      "2      3  18th century\n",
      "3      4         1920s\n",
      "4      5         1930s \n",
      "\n",
      "info: \n",
      "\n",
      "<class 'pandas.core.frame.DataFrame'>\n",
      "RangeIndex: 1128 entries, 0 to 1127\n",
      "Data columns (total 2 columns):\n",
      "tagId    1128 non-null int64\n",
      "tag      1128 non-null object\n",
      "dtypes: int64(1), object(1)\n",
      "memory usage: 17.7+ KB\n",
      "None \n",
      "\n",
      "describe: \n",
      "\n",
      "             tagId\n",
      "count  1128.000000\n",
      "mean    564.500000\n",
      "std     325.769857\n",
      "min       1.000000\n",
      "25%     282.750000\n",
      "50%     564.500000\n",
      "75%     846.250000\n",
      "max    1128.000000 \n",
      "\n",
      "isnull: \n",
      "\n",
      "tagId    0\n",
      "tag      0\n",
      "dtype: int64 \n",
      "\n",
      "shape: \n",
      "\n",
      "(1128, 2) \n",
      "\n"
     ]
    }
   ],
   "source": [
    "summary(dt_gen_tags)"
   ]
  },
  {
   "cell_type": "markdown",
   "metadata": {},
   "source": [
    "Da documentação temos que:\n",
    "'''The tag genome is a data structure that contains tag relevance scores for movies. The structure is a dense matrix: each\n",
    "movie in the genome has a value for every tag in the genome.\n",
    "As described in this article, the tag genome encodes how strongly movies exhibit particular properties represented by tags\n",
    "(atmospheric, thought-provoking, realistic, etc.). The tag genome was computed using a machine learning algorithm on \n",
    "user-contributed content including tags, ratings, and textual reviews.'''\n",
    "\n",
    "Existem 1128 tags e portanto cada filme possui 1128 valores de relevance Aparentemente temos algumas tags diferentes como *strings* e iguais no contexto:"
   ]
  },
  {
   "cell_type": "code",
   "execution_count": 9,
   "metadata": {},
   "outputs": [
    {
     "name": "stdout",
     "output_type": "stream",
     "text": [
      "   tagId           tag\n",
      "0      1           007\n",
      "1      2  007 (series) \n",
      "\n",
      "   tagId           tag\n",
      "3      4         1920s\n",
      "4      5         1930s\n",
      "5      6         1950s\n",
      "6      7         1960s\n",
      "7      8         1970s\n",
      "8      9         1980s\n",
      "9     10  19th century\n"
     ]
    }
   ],
   "source": [
    "# verificando algumas possíveis tags repetidas\n",
    "print(dt_gen_tags[dt_gen_tags['tag'].str.contains('007')],\"\\n\")\n",
    "print(dt_gen_tags[dt_gen_tags['tag'].str.contains('19')])"
   ]
  },
  {
   "cell_type": "markdown",
   "metadata": {},
   "source": [
    "Inicialmente não vemos um problema nessas tags \"repetidas\", já que ainda não sabemos quantas repetem."
   ]
  },
  {
   "cell_type": "markdown",
   "metadata": {},
   "source": [
    "### Dataframe: dt_links"
   ]
  },
  {
   "cell_type": "code",
   "execution_count": 10,
   "metadata": {},
   "outputs": [
    {
     "data": {
      "text/html": [
       "<div>\n",
       "<style scoped>\n",
       "    .dataframe tbody tr th:only-of-type {\n",
       "        vertical-align: middle;\n",
       "    }\n",
       "\n",
       "    .dataframe tbody tr th {\n",
       "        vertical-align: top;\n",
       "    }\n",
       "\n",
       "    .dataframe thead th {\n",
       "        text-align: right;\n",
       "    }\n",
       "</style>\n",
       "<table border=\"1\" class=\"dataframe\">\n",
       "  <thead>\n",
       "    <tr style=\"text-align: right;\">\n",
       "      <th></th>\n",
       "      <th>movieId</th>\n",
       "      <th>imdbId</th>\n",
       "      <th>tmdbId</th>\n",
       "    </tr>\n",
       "  </thead>\n",
       "  <tbody>\n",
       "    <tr>\n",
       "      <th>0</th>\n",
       "      <td>1</td>\n",
       "      <td>114709</td>\n",
       "      <td>862.0</td>\n",
       "    </tr>\n",
       "    <tr>\n",
       "      <th>1</th>\n",
       "      <td>2</td>\n",
       "      <td>113497</td>\n",
       "      <td>8844.0</td>\n",
       "    </tr>\n",
       "    <tr>\n",
       "      <th>2</th>\n",
       "      <td>3</td>\n",
       "      <td>113228</td>\n",
       "      <td>15602.0</td>\n",
       "    </tr>\n",
       "    <tr>\n",
       "      <th>3</th>\n",
       "      <td>4</td>\n",
       "      <td>114885</td>\n",
       "      <td>31357.0</td>\n",
       "    </tr>\n",
       "    <tr>\n",
       "      <th>4</th>\n",
       "      <td>5</td>\n",
       "      <td>113041</td>\n",
       "      <td>11862.0</td>\n",
       "    </tr>\n",
       "  </tbody>\n",
       "</table>\n",
       "</div>"
      ],
      "text/plain": [
       "   movieId  imdbId   tmdbId\n",
       "0        1  114709    862.0\n",
       "1        2  113497   8844.0\n",
       "2        3  113228  15602.0\n",
       "3        4  114885  31357.0\n",
       "4        5  113041  11862.0"
      ]
     },
     "execution_count": 10,
     "metadata": {},
     "output_type": "execute_result"
    }
   ],
   "source": [
    "dt_links.head()"
   ]
  },
  {
   "cell_type": "markdown",
   "metadata": {},
   "source": [
    "### Dataframe: dt_movies"
   ]
  },
  {
   "cell_type": "code",
   "execution_count": 11,
   "metadata": {},
   "outputs": [
    {
     "data": {
      "text/html": [
       "<div>\n",
       "<style scoped>\n",
       "    .dataframe tbody tr th:only-of-type {\n",
       "        vertical-align: middle;\n",
       "    }\n",
       "\n",
       "    .dataframe tbody tr th {\n",
       "        vertical-align: top;\n",
       "    }\n",
       "\n",
       "    .dataframe thead th {\n",
       "        text-align: right;\n",
       "    }\n",
       "</style>\n",
       "<table border=\"1\" class=\"dataframe\">\n",
       "  <thead>\n",
       "    <tr style=\"text-align: right;\">\n",
       "      <th></th>\n",
       "      <th>movieId</th>\n",
       "      <th>title</th>\n",
       "      <th>genres</th>\n",
       "    </tr>\n",
       "  </thead>\n",
       "  <tbody>\n",
       "    <tr>\n",
       "      <th>0</th>\n",
       "      <td>1</td>\n",
       "      <td>Toy Story (1995)</td>\n",
       "      <td>Adventure|Animation|Children|Comedy|Fantasy</td>\n",
       "    </tr>\n",
       "    <tr>\n",
       "      <th>1</th>\n",
       "      <td>2</td>\n",
       "      <td>Jumanji (1995)</td>\n",
       "      <td>Adventure|Children|Fantasy</td>\n",
       "    </tr>\n",
       "    <tr>\n",
       "      <th>2</th>\n",
       "      <td>3</td>\n",
       "      <td>Grumpier Old Men (1995)</td>\n",
       "      <td>Comedy|Romance</td>\n",
       "    </tr>\n",
       "    <tr>\n",
       "      <th>3</th>\n",
       "      <td>4</td>\n",
       "      <td>Waiting to Exhale (1995)</td>\n",
       "      <td>Comedy|Drama|Romance</td>\n",
       "    </tr>\n",
       "    <tr>\n",
       "      <th>4</th>\n",
       "      <td>5</td>\n",
       "      <td>Father of the Bride Part II (1995)</td>\n",
       "      <td>Comedy</td>\n",
       "    </tr>\n",
       "    <tr>\n",
       "      <th>5</th>\n",
       "      <td>6</td>\n",
       "      <td>Heat (1995)</td>\n",
       "      <td>Action|Crime|Thriller</td>\n",
       "    </tr>\n",
       "    <tr>\n",
       "      <th>6</th>\n",
       "      <td>7</td>\n",
       "      <td>Sabrina (1995)</td>\n",
       "      <td>Comedy|Romance</td>\n",
       "    </tr>\n",
       "    <tr>\n",
       "      <th>7</th>\n",
       "      <td>8</td>\n",
       "      <td>Tom and Huck (1995)</td>\n",
       "      <td>Adventure|Children</td>\n",
       "    </tr>\n",
       "    <tr>\n",
       "      <th>8</th>\n",
       "      <td>9</td>\n",
       "      <td>Sudden Death (1995)</td>\n",
       "      <td>Action</td>\n",
       "    </tr>\n",
       "    <tr>\n",
       "      <th>9</th>\n",
       "      <td>10</td>\n",
       "      <td>GoldenEye (1995)</td>\n",
       "      <td>Action|Adventure|Thriller</td>\n",
       "    </tr>\n",
       "    <tr>\n",
       "      <th>10</th>\n",
       "      <td>11</td>\n",
       "      <td>American President, The (1995)</td>\n",
       "      <td>Comedy|Drama|Romance</td>\n",
       "    </tr>\n",
       "    <tr>\n",
       "      <th>11</th>\n",
       "      <td>12</td>\n",
       "      <td>Dracula: Dead and Loving It (1995)</td>\n",
       "      <td>Comedy|Horror</td>\n",
       "    </tr>\n",
       "    <tr>\n",
       "      <th>12</th>\n",
       "      <td>13</td>\n",
       "      <td>Balto (1995)</td>\n",
       "      <td>Adventure|Animation|Children</td>\n",
       "    </tr>\n",
       "    <tr>\n",
       "      <th>13</th>\n",
       "      <td>14</td>\n",
       "      <td>Nixon (1995)</td>\n",
       "      <td>Drama</td>\n",
       "    </tr>\n",
       "    <tr>\n",
       "      <th>14</th>\n",
       "      <td>15</td>\n",
       "      <td>Cutthroat Island (1995)</td>\n",
       "      <td>Action|Adventure|Romance</td>\n",
       "    </tr>\n",
       "  </tbody>\n",
       "</table>\n",
       "</div>"
      ],
      "text/plain": [
       "    movieId                               title  \\\n",
       "0         1                    Toy Story (1995)   \n",
       "1         2                      Jumanji (1995)   \n",
       "2         3             Grumpier Old Men (1995)   \n",
       "3         4            Waiting to Exhale (1995)   \n",
       "4         5  Father of the Bride Part II (1995)   \n",
       "5         6                         Heat (1995)   \n",
       "6         7                      Sabrina (1995)   \n",
       "7         8                 Tom and Huck (1995)   \n",
       "8         9                 Sudden Death (1995)   \n",
       "9        10                    GoldenEye (1995)   \n",
       "10       11      American President, The (1995)   \n",
       "11       12  Dracula: Dead and Loving It (1995)   \n",
       "12       13                        Balto (1995)   \n",
       "13       14                        Nixon (1995)   \n",
       "14       15             Cutthroat Island (1995)   \n",
       "\n",
       "                                         genres  \n",
       "0   Adventure|Animation|Children|Comedy|Fantasy  \n",
       "1                    Adventure|Children|Fantasy  \n",
       "2                                Comedy|Romance  \n",
       "3                          Comedy|Drama|Romance  \n",
       "4                                        Comedy  \n",
       "5                         Action|Crime|Thriller  \n",
       "6                                Comedy|Romance  \n",
       "7                            Adventure|Children  \n",
       "8                                        Action  \n",
       "9                     Action|Adventure|Thriller  \n",
       "10                         Comedy|Drama|Romance  \n",
       "11                                Comedy|Horror  \n",
       "12                 Adventure|Animation|Children  \n",
       "13                                        Drama  \n",
       "14                     Action|Adventure|Romance  "
      ]
     },
     "execution_count": 11,
     "metadata": {},
     "output_type": "execute_result"
    }
   ],
   "source": [
    "dt_movies.head(15)"
   ]
  },
  {
   "cell_type": "code",
   "execution_count": 12,
   "metadata": {},
   "outputs": [
    {
     "data": {
      "text/plain": [
       "(27278, 3)"
      ]
     },
     "execution_count": 12,
     "metadata": {},
     "output_type": "execute_result"
    }
   ],
   "source": [
    "dt_movies.shape"
   ]
  },
  {
   "cell_type": "markdown",
   "metadata": {},
   "source": [
    "### Dataframe: dt_ratings"
   ]
  },
  {
   "cell_type": "code",
   "execution_count": 13,
   "metadata": {},
   "outputs": [
    {
     "data": {
      "text/html": [
       "<div>\n",
       "<style scoped>\n",
       "    .dataframe tbody tr th:only-of-type {\n",
       "        vertical-align: middle;\n",
       "    }\n",
       "\n",
       "    .dataframe tbody tr th {\n",
       "        vertical-align: top;\n",
       "    }\n",
       "\n",
       "    .dataframe thead th {\n",
       "        text-align: right;\n",
       "    }\n",
       "</style>\n",
       "<table border=\"1\" class=\"dataframe\">\n",
       "  <thead>\n",
       "    <tr style=\"text-align: right;\">\n",
       "      <th></th>\n",
       "      <th>userId</th>\n",
       "      <th>movieId</th>\n",
       "      <th>rating</th>\n",
       "      <th>timestamp</th>\n",
       "    </tr>\n",
       "  </thead>\n",
       "  <tbody>\n",
       "    <tr>\n",
       "      <th>0</th>\n",
       "      <td>1</td>\n",
       "      <td>2</td>\n",
       "      <td>3.5</td>\n",
       "      <td>1112486027</td>\n",
       "    </tr>\n",
       "    <tr>\n",
       "      <th>1</th>\n",
       "      <td>1</td>\n",
       "      <td>29</td>\n",
       "      <td>3.5</td>\n",
       "      <td>1112484676</td>\n",
       "    </tr>\n",
       "    <tr>\n",
       "      <th>2</th>\n",
       "      <td>1</td>\n",
       "      <td>32</td>\n",
       "      <td>3.5</td>\n",
       "      <td>1112484819</td>\n",
       "    </tr>\n",
       "    <tr>\n",
       "      <th>3</th>\n",
       "      <td>1</td>\n",
       "      <td>47</td>\n",
       "      <td>3.5</td>\n",
       "      <td>1112484727</td>\n",
       "    </tr>\n",
       "    <tr>\n",
       "      <th>4</th>\n",
       "      <td>1</td>\n",
       "      <td>50</td>\n",
       "      <td>3.5</td>\n",
       "      <td>1112484580</td>\n",
       "    </tr>\n",
       "  </tbody>\n",
       "</table>\n",
       "</div>"
      ],
      "text/plain": [
       "   userId  movieId  rating   timestamp\n",
       "0       1        2     3.5  1112486027\n",
       "1       1       29     3.5  1112484676\n",
       "2       1       32     3.5  1112484819\n",
       "3       1       47     3.5  1112484727\n",
       "4       1       50     3.5  1112484580"
      ]
     },
     "execution_count": 13,
     "metadata": {},
     "output_type": "execute_result"
    }
   ],
   "source": [
    "dt_ratings.head()"
   ]
  },
  {
   "cell_type": "code",
   "execution_count": 14,
   "metadata": {},
   "outputs": [
    {
     "data": {
      "text/plain": [
       "(20000263, 4)"
      ]
     },
     "execution_count": 14,
     "metadata": {},
     "output_type": "execute_result"
    }
   ],
   "source": [
    "dt_ratings.shape"
   ]
  },
  {
   "cell_type": "code",
   "execution_count": 15,
   "metadata": {},
   "outputs": [
    {
     "data": {
      "text/plain": [
       "138493"
      ]
     },
     "execution_count": 15,
     "metadata": {},
     "output_type": "execute_result"
    }
   ],
   "source": [
    "dt_ratings['userId'].max()"
   ]
  },
  {
   "cell_type": "markdown",
   "metadata": {},
   "source": [
    "São mais de 20 milhões de avaliações dos quase 140 mil usuários. Seria ideal utilizar todo este espaço amostral para a análise. Entretanto, há limitações de hardware e vamos optar por utilizar cerca de 5% dos usuários apenas."
   ]
  },
  {
   "cell_type": "code",
   "execution_count": 16,
   "metadata": {},
   "outputs": [
    {
     "data": {
      "text/plain": [
       "(517084, 4)"
      ]
     },
     "execution_count": 16,
     "metadata": {},
     "output_type": "execute_result"
    }
   ],
   "source": [
    "dt_ratings = dt_ratings[dt_ratings['userId']<=3500]\n",
    "dt_ratings.shape"
   ]
  },
  {
   "cell_type": "markdown",
   "metadata": {},
   "source": [
    "**Dataframe: dt_tags**"
   ]
  },
  {
   "cell_type": "code",
   "execution_count": 17,
   "metadata": {},
   "outputs": [
    {
     "data": {
      "text/html": [
       "<div>\n",
       "<style scoped>\n",
       "    .dataframe tbody tr th:only-of-type {\n",
       "        vertical-align: middle;\n",
       "    }\n",
       "\n",
       "    .dataframe tbody tr th {\n",
       "        vertical-align: top;\n",
       "    }\n",
       "\n",
       "    .dataframe thead th {\n",
       "        text-align: right;\n",
       "    }\n",
       "</style>\n",
       "<table border=\"1\" class=\"dataframe\">\n",
       "  <thead>\n",
       "    <tr style=\"text-align: right;\">\n",
       "      <th></th>\n",
       "      <th>userId</th>\n",
       "      <th>movieId</th>\n",
       "      <th>tag</th>\n",
       "      <th>timestamp</th>\n",
       "    </tr>\n",
       "  </thead>\n",
       "  <tbody>\n",
       "    <tr>\n",
       "      <th>0</th>\n",
       "      <td>18</td>\n",
       "      <td>4141</td>\n",
       "      <td>Mark Waters</td>\n",
       "      <td>1240597180</td>\n",
       "    </tr>\n",
       "    <tr>\n",
       "      <th>1</th>\n",
       "      <td>65</td>\n",
       "      <td>208</td>\n",
       "      <td>dark hero</td>\n",
       "      <td>1368150078</td>\n",
       "    </tr>\n",
       "    <tr>\n",
       "      <th>2</th>\n",
       "      <td>65</td>\n",
       "      <td>353</td>\n",
       "      <td>dark hero</td>\n",
       "      <td>1368150079</td>\n",
       "    </tr>\n",
       "    <tr>\n",
       "      <th>3</th>\n",
       "      <td>65</td>\n",
       "      <td>521</td>\n",
       "      <td>noir thriller</td>\n",
       "      <td>1368149983</td>\n",
       "    </tr>\n",
       "    <tr>\n",
       "      <th>4</th>\n",
       "      <td>65</td>\n",
       "      <td>592</td>\n",
       "      <td>dark hero</td>\n",
       "      <td>1368150078</td>\n",
       "    </tr>\n",
       "  </tbody>\n",
       "</table>\n",
       "</div>"
      ],
      "text/plain": [
       "   userId  movieId            tag   timestamp\n",
       "0      18     4141    Mark Waters  1240597180\n",
       "1      65      208      dark hero  1368150078\n",
       "2      65      353      dark hero  1368150079\n",
       "3      65      521  noir thriller  1368149983\n",
       "4      65      592      dark hero  1368150078"
      ]
     },
     "execution_count": 17,
     "metadata": {},
     "output_type": "execute_result"
    }
   ],
   "source": [
    "# da documentação:\n",
    "'''Tags are user-generated metadata about movies. Each tag is typically a single word or short phrase. The meaning, value,\n",
    "and purpose of a particular tag is determined by each user.'''\n",
    "dt_tags.head()"
   ]
  },
  {
   "cell_type": "markdown",
   "metadata": {},
   "source": [
    "Por hora os dataframes \"dt_gen_scores\", \"dt_gen_tags\", \"dt_links\" e \"dt_tags\" não serão usados e vamos apagá-los para utilizar menos memória."
   ]
  },
  {
   "cell_type": "code",
   "execution_count": 18,
   "metadata": {},
   "outputs": [],
   "source": [
    "del dt_gen_scores, dt_gen_tags, dt_links, dt_tags"
   ]
  },
  {
   "cell_type": "markdown",
   "metadata": {},
   "source": [
    "## Perguntas\n",
    "\n",
    "Após a primeira verificação dos dados decidiu-se focar nos dados contidos nos dataframes \"dt_movies\" e \"dt_ratings\". A partir destes haverá uma etapa de feature engineering com o objetivo de responder as perguntas a seguir:  \n",
    "-  Quantas avaliações em média tem um filme?\n",
    "-  Qual o número de vezes mínimo significativo que um filme foi avaliado?\n",
    "-  Existe alguma relação entre o gênero do filme e o padrão de avaliação dos usuários?  \n",
    "-  Existe correlação entre os gêneros de filme? Usuários que gostam de um gênero também gostam de outro(s)?\n",
    "-  Existe correlação entre o ano de lançamento do filme  e a avaliação?\n",
    "-  Existe correlação entre a hora do dia e a avaliação que o usuário dá para um filme?\n",
    "-  Existe correlação entre variedade de gênero de um filme e sua avaliação?\n",
    "\n",
    "### Feature engineering\n",
    "\n",
    "**Dataframe: dt_movies**\n",
    "Este dataset apresenta duas características que podem ser usadas como variáveis separadas: em \"title\" podemos separar o título do filme em título e ano; o gênero é interessante separar em uma matriz esparsa binária (1 se o filme possui o gênero e 0 caso contrário).\n",
    "Para extrair o ano de lançamento do filme **vamos assumir** que este é informado como uma sequência de 4 números na coluna que contém o título."
   ]
  },
  {
   "cell_type": "code",
   "execution_count": 19,
   "metadata": {},
   "outputs": [
    {
     "data": {
      "text/html": [
       "<div>\n",
       "<style scoped>\n",
       "    .dataframe tbody tr th:only-of-type {\n",
       "        vertical-align: middle;\n",
       "    }\n",
       "\n",
       "    .dataframe tbody tr th {\n",
       "        vertical-align: top;\n",
       "    }\n",
       "\n",
       "    .dataframe thead th {\n",
       "        text-align: right;\n",
       "    }\n",
       "</style>\n",
       "<table border=\"1\" class=\"dataframe\">\n",
       "  <thead>\n",
       "    <tr style=\"text-align: right;\">\n",
       "      <th></th>\n",
       "      <th>movieId</th>\n",
       "      <th>title</th>\n",
       "      <th>genres</th>\n",
       "      <th>release_date</th>\n",
       "    </tr>\n",
       "  </thead>\n",
       "  <tbody>\n",
       "    <tr>\n",
       "      <th>0</th>\n",
       "      <td>1</td>\n",
       "      <td>Toy Story (1995)</td>\n",
       "      <td>Adventure|Animation|Children|Comedy|Fantasy</td>\n",
       "      <td>1995.0</td>\n",
       "    </tr>\n",
       "    <tr>\n",
       "      <th>1</th>\n",
       "      <td>2</td>\n",
       "      <td>Jumanji (1995)</td>\n",
       "      <td>Adventure|Children|Fantasy</td>\n",
       "      <td>1995.0</td>\n",
       "    </tr>\n",
       "    <tr>\n",
       "      <th>2</th>\n",
       "      <td>3</td>\n",
       "      <td>Grumpier Old Men (1995)</td>\n",
       "      <td>Comedy|Romance</td>\n",
       "      <td>1995.0</td>\n",
       "    </tr>\n",
       "    <tr>\n",
       "      <th>3</th>\n",
       "      <td>4</td>\n",
       "      <td>Waiting to Exhale (1995)</td>\n",
       "      <td>Comedy|Drama|Romance</td>\n",
       "      <td>1995.0</td>\n",
       "    </tr>\n",
       "    <tr>\n",
       "      <th>4</th>\n",
       "      <td>5</td>\n",
       "      <td>Father of the Bride Part II (1995)</td>\n",
       "      <td>Comedy</td>\n",
       "      <td>1995.0</td>\n",
       "    </tr>\n",
       "  </tbody>\n",
       "</table>\n",
       "</div>"
      ],
      "text/plain": [
       "   movieId                               title  \\\n",
       "0        1                    Toy Story (1995)   \n",
       "1        2                      Jumanji (1995)   \n",
       "2        3             Grumpier Old Men (1995)   \n",
       "3        4            Waiting to Exhale (1995)   \n",
       "4        5  Father of the Bride Part II (1995)   \n",
       "\n",
       "                                        genres  release_date  \n",
       "0  Adventure|Animation|Children|Comedy|Fantasy        1995.0  \n",
       "1                   Adventure|Children|Fantasy        1995.0  \n",
       "2                               Comedy|Romance        1995.0  \n",
       "3                         Comedy|Drama|Romance        1995.0  \n",
       "4                                       Comedy        1995.0  "
      ]
     },
     "execution_count": 19,
     "metadata": {},
     "output_type": "execute_result"
    }
   ],
   "source": [
    "# coluna para o ano de lançamento\n",
    "dt_movies['release_date'] = dt_movies['title'].str.extract('(\\d{4})')\n",
    "dt_movies['release_date'] = pd.to_numeric(dt_movies['release_date'],errors='coerce',downcast='integer')\n",
    "dt_movies.head()"
   ]
  },
  {
   "cell_type": "markdown",
   "metadata": {},
   "source": [
    "Devemos verificar se todos os filmes possuem o ano de lançamento informado como assumimos."
   ]
  },
  {
   "cell_type": "code",
   "execution_count": 20,
   "metadata": {},
   "outputs": [
    {
     "data": {
      "text/plain": [
       "19"
      ]
     },
     "execution_count": 20,
     "metadata": {},
     "output_type": "execute_result"
    }
   ],
   "source": [
    "dt_movies['release_date'].isnull().sum()"
   ]
  },
  {
   "cell_type": "code",
   "execution_count": 21,
   "metadata": {},
   "outputs": [
    {
     "data": {
      "text/plain": [
       "9500.0"
      ]
     },
     "execution_count": 21,
     "metadata": {},
     "output_type": "execute_result"
    }
   ],
   "source": [
    "dt_movies['release_date'].max()"
   ]
  },
  {
   "cell_type": "code",
   "execution_count": 22,
   "metadata": {},
   "outputs": [
    {
     "name": "stdout",
     "output_type": "stream",
     "text": [
      "       movieId                                              title  \\\n",
      "662        671     Mystery Science Theater 3000: The Movie (1996)   \n",
      "2223      2308                                Detroit 9000 (1973)   \n",
      "4065      4159                     3000 Miles to Graceland (2001)   \n",
      "5213      5310                         Transylvania 6-5000 (1985)   \n",
      "8181      8864                                    Mr. 3000 (2004)   \n",
      "9255     27266                                        2046 (2004)   \n",
      "9494     27800  Interstella 5555: The 5tory of the 5ecret 5tar...   \n",
      "16724    84551                                   44500 Max (2009)   \n",
      "18047    90460            2019: After the Fall of New York (1983)   \n",
      "18286    91421                               Red Line 7000 (1965)   \n",
      "18578    92477                              Yes: 9012 Live (1985)   \n",
      "19660    97242           Daleks' Invasion Earth: 2150 A.D. (1966)   \n",
      "19844    98019      Vexille (Bekushiru: 2077 Nihon sakoku) (2007)   \n",
      "20663   101237                                9500 Liberty (2009)   \n",
      "21050   102762                 My Wrongs 8245-8249 and 117 (2002)   \n",
      "21077   102856                                   3096 Days (2013)   \n",
      "21630   104798                      6954 Kilometriä Kotiin (2012)   \n",
      "22741   108862  New Gladiators (I guerrieri dell'anno 2072) (1...   \n",
      "22854   109277                             Love Story 2050 (2008)   \n",
      "23501   111856                                        7500 (2014)   \n",
      "23816   113143                                America 3000 (1986)   \n",
      "24020   113968                                        2081 (2009)   \n",
      "\n",
      "                                           genres  release_date  \n",
      "662                                 Comedy|Sci-Fi        3000.0  \n",
      "2223                                 Action|Crime        9000.0  \n",
      "4065                              Action|Thriller        3000.0  \n",
      "5213                                Comedy|Horror        5000.0  \n",
      "8181                                 Comedy|Drama        3000.0  \n",
      "9255                 Drama|Fantasy|Romance|Sci-Fi        2046.0  \n",
      "9494   Adventure|Animation|Fantasy|Musical|Sci-Fi        5555.0  \n",
      "16724                                 Documentary        4450.0  \n",
      "18047                        Action|Horror|Sci-Fi        2019.0  \n",
      "18286                                Action|Drama        7000.0  \n",
      "18578                         Documentary|Musical        9012.0  \n",
      "19660                            Adventure|Sci-Fi        2150.0  \n",
      "19844                     Action|Animation|Sci-Fi        2077.0  \n",
      "20663                                 Documentary        9500.0  \n",
      "21050                                Comedy|Drama        8245.0  \n",
      "21077                                       Drama        3096.0  \n",
      "21630                                 Documentary        6954.0  \n",
      "22741                        Action|Drama|Mystery        2072.0  \n",
      "22854     Adventure|Comedy|Musical|Romance|Sci-Fi        2050.0  \n",
      "23501              Action|Horror|Mystery|Thriller        7500.0  \n",
      "23816                     Action|Adventure|Sci-Fi        3000.0  \n",
      "24020                               Action|Sci-Fi        2081.0  \n"
     ]
    }
   ],
   "source": [
    "print(dt_movies[dt_movies['release_date']>2018])"
   ]
  },
  {
   "cell_type": "markdown",
   "metadata": {},
   "source": [
    "Há 19 filmes que não possuem uma sequência de 4 dígitos seguidos no título. Assumiremos que o ano de lançamento não foi informado. Em princípio não parece haver necessidade de tirar o ano do título do filme. Há também filmes que possuem quatro dígitos seguidos no título, já que o número é pequeno vamos colocar os anos corretos manualmente."
   ]
  },
  {
   "cell_type": "code",
   "execution_count": 23,
   "metadata": {},
   "outputs": [],
   "source": [
    "rel_date_indices = dt_movies.index[dt_movies['release_date']>2018]"
   ]
  },
  {
   "cell_type": "code",
   "execution_count": 24,
   "metadata": {},
   "outputs": [],
   "source": [
    "rel_date_values = dt_movies['title'][rel_date_indices].str[-5:-1]"
   ]
  },
  {
   "cell_type": "code",
   "execution_count": 25,
   "metadata": {},
   "outputs": [
    {
     "name": "stderr",
     "output_type": "stream",
     "text": [
      "c:\\users\\ninja\\anaconda2\\envs\\tensorflow\\lib\\site-packages\\ipykernel_launcher.py:1: SettingWithCopyWarning: \n",
      "A value is trying to be set on a copy of a slice from a DataFrame\n",
      "\n",
      "See the caveats in the documentation: http://pandas.pydata.org/pandas-docs/stable/indexing.html#indexing-view-versus-copy\n",
      "  \"\"\"Entry point for launching an IPython kernel.\n"
     ]
    }
   ],
   "source": [
    "dt_movies['release_date'][rel_date_indices] =  rel_date_values.values"
   ]
  },
  {
   "cell_type": "code",
   "execution_count": 26,
   "metadata": {},
   "outputs": [
    {
     "data": {
      "text/plain": [
       "662      1996\n",
       "2223     1973\n",
       "4065     2001\n",
       "5213     1985\n",
       "8181     2004\n",
       "9255     2004\n",
       "9494     2003\n",
       "16724    2009\n",
       "18047    1983\n",
       "18286    1965\n",
       "18578    1985\n",
       "19660    1966\n",
       "19844    2007\n",
       "20663    2009\n",
       "21050    2002\n",
       "21077    2013\n",
       "21630    2012\n",
       "22741    1984\n",
       "22854    2008\n",
       "23501    2014\n",
       "23816    1986\n",
       "24020    2009\n",
       "Name: release_date, dtype: object"
      ]
     },
     "execution_count": 26,
     "metadata": {},
     "output_type": "execute_result"
    }
   ],
   "source": [
    "dt_movies['release_date'][rel_date_indices]"
   ]
  },
  {
   "cell_type": "markdown",
   "metadata": {},
   "source": [
    "Vemos agora para o caso de quatro dígitos menor que 1850."
   ]
  },
  {
   "cell_type": "code",
   "execution_count": 27,
   "metadata": {},
   "outputs": [
    {
     "name": "stdout",
     "output_type": "stream",
     "text": [
      "       movieId                                              title  \\\n",
      "1388      1422                              Murder at 1600 (1997)   \n",
      "4216      4311  Bloody Angels (1732 Høtten: Marerittet har et ...   \n",
      "5375      5472                                        1776 (1972)   \n",
      "6191      6290                       House of 1000 Corpses (2003)   \n",
      "6535      6645                                    THX 1138 (1971)   \n",
      "7695      8198  1000 Eyes of Dr. Mabuse, The (Die 1000 Augen d...   \n",
      "8222      8905                  1492: Conquest of Paradise (1992)   \n",
      "11964    53953                                        1408 (2007)   \n",
      "13750    68874  Jeanne Dielman, 23 Quai du Commerce, 1080 Brux...   \n",
      "14768    73862  Note by Note: The Making of Steinway L1037 (2007)   \n",
      "14878    74491                                        1066 (2009)   \n",
      "16103    81453                                   Dial 1119 (1950)   \n",
      "17116    86637             1612: Khroniki smutnogo vremeni (2007)   \n",
      "21163   103130                                      AM1200 (2008)   \n",
      "22287   107155  Captive Women (1000 Years from Now) (3000 A.D....   \n",
      "22922   109514                              Apartment 1303 (2007)   \n",
      "22923   109516                           Apartment 1303 3D (2012)   \n",
      "23297   110867                  Conquest 1453 (Fetih 1453) (2012)   \n",
      "24204   114721   Bugs Bunny's 3rd Movie: 1001 Rabbit Tales (1982)   \n",
      "24537   116157           Electronic Labyrinth THX 1138 4EB (1967)   \n",
      "26279   126164                                 1001 Nights (1990)   \n",
      "26429   126999                               1000 Journals (2007)   \n",
      "\n",
      "                                    genres  release_date  \n",
      "1388          Crime|Drama|Mystery|Thriller        1600.0  \n",
      "4216                              Thriller        1732.0  \n",
      "5375                Children|Drama|Musical        1776.0  \n",
      "6191                                Horror        1000.0  \n",
      "6535         Action|Adventure|Drama|Sci-Fi        1138.0  \n",
      "7695         Crime|Horror|Mystery|Thriller        1000.0  \n",
      "8222                       Adventure|Drama        1492.0  \n",
      "11964                Drama|Horror|Thriller        1408.0  \n",
      "13750                                Drama        1080.0  \n",
      "14768                          Documentary        1037.0  \n",
      "14878                 Action|Adventure|War        1066.0  \n",
      "16103                Crime|Drama|Film-Noir        1119.0  \n",
      "17116                    Drama|Fantasy|War        1612.0  \n",
      "21163                               Horror        1200.0  \n",
      "22287                               Sci-Fi        1000.0  \n",
      "22922                               Horror        1303.0  \n",
      "22923                               Horror        1303.0  \n",
      "23297           Action|Adventure|Drama|War        1453.0  \n",
      "24204  Adventure|Animation|Children|Comedy        1001.0  \n",
      "24537                               Sci-Fi        1138.0  \n",
      "26279             Adventure|Comedy|Fantasy        1001.0  \n",
      "26429                   (no genres listed)        1000.0  \n"
     ]
    }
   ],
   "source": [
    "dt_movies['release_date'] = pd.to_numeric(dt_movies['release_date'],errors='coerce',downcast='integer')\n",
    "print(dt_movies[dt_movies['release_date']<1850])"
   ]
  },
  {
   "cell_type": "code",
   "execution_count": 28,
   "metadata": {},
   "outputs": [
    {
     "name": "stderr",
     "output_type": "stream",
     "text": [
      "c:\\users\\ninja\\anaconda2\\envs\\tensorflow\\lib\\site-packages\\ipykernel_launcher.py:3: SettingWithCopyWarning: \n",
      "A value is trying to be set on a copy of a slice from a DataFrame\n",
      "\n",
      "See the caveats in the documentation: http://pandas.pydata.org/pandas-docs/stable/indexing.html#indexing-view-versus-copy\n",
      "  This is separate from the ipykernel package so we can avoid doing imports until\n"
     ]
    },
    {
     "data": {
      "text/plain": [
       "1388     1997\n",
       "4216     1998\n",
       "5375     1972\n",
       "6191     2003\n",
       "6535     1971\n",
       "7695     1960\n",
       "8222     1992\n",
       "11964    2007\n",
       "13750    1975\n",
       "14768    2007\n",
       "14878    2009\n",
       "16103    1950\n",
       "17116    2007\n",
       "21163    2008\n",
       "22287    1952\n",
       "22922    2007\n",
       "22923    2012\n",
       "23297    2012\n",
       "24204    1982\n",
       "24537    1967\n",
       "26279    1990\n",
       "26429    2007\n",
       "Name: release_date, dtype: object"
      ]
     },
     "execution_count": 28,
     "metadata": {},
     "output_type": "execute_result"
    }
   ],
   "source": [
    "rel_date_indices_min = dt_movies.index[dt_movies['release_date']<1850]\n",
    "rel_date_values_min = dt_movies['title'][rel_date_indices_min].str[-5:-1]\n",
    "dt_movies['release_date'][rel_date_indices_min] =  rel_date_values_min.values\n",
    "dt_movies['release_date'][rel_date_indices_min]\n"
   ]
  },
  {
   "cell_type": "code",
   "execution_count": 29,
   "metadata": {},
   "outputs": [
    {
     "name": "stdout",
     "output_type": "stream",
     "text": [
      "2016.0\n",
      "1861.0\n"
     ]
    }
   ],
   "source": [
    "dt_movies['release_date'] = pd.to_numeric(dt_movies['release_date'],errors='coerce',downcast='integer')\n",
    "print(dt_movies['release_date'].max())\n",
    "print(dt_movies['release_date'].min())"
   ]
  },
  {
   "cell_type": "code",
   "execution_count": 30,
   "metadata": {},
   "outputs": [],
   "source": [
    "# apagando variáveis desnecessárias\n",
    "del rel_date_indices, rel_date_values, rel_date_indices_min, rel_date_values_min"
   ]
  },
  {
   "cell_type": "markdown",
   "metadata": {},
   "source": [
    "Para escrever a matriz dos gêneros separamos cada gênero informado pelo delimitador \"|\" e adicionamos o prefixo \"gen:\" para evitar uma possível confusão."
   ]
  },
  {
   "cell_type": "code",
   "execution_count": 31,
   "metadata": {},
   "outputs": [
    {
     "data": {
      "text/html": [
       "<div>\n",
       "<style scoped>\n",
       "    .dataframe tbody tr th:only-of-type {\n",
       "        vertical-align: middle;\n",
       "    }\n",
       "\n",
       "    .dataframe tbody tr th {\n",
       "        vertical-align: top;\n",
       "    }\n",
       "\n",
       "    .dataframe thead th {\n",
       "        text-align: right;\n",
       "    }\n",
       "</style>\n",
       "<table border=\"1\" class=\"dataframe\">\n",
       "  <thead>\n",
       "    <tr style=\"text-align: right;\">\n",
       "      <th></th>\n",
       "      <th>gen:(no genres listed)</th>\n",
       "      <th>gen:Action</th>\n",
       "      <th>gen:Adventure</th>\n",
       "      <th>gen:Animation</th>\n",
       "      <th>gen:Children</th>\n",
       "      <th>gen:Comedy</th>\n",
       "      <th>gen:Crime</th>\n",
       "      <th>gen:Documentary</th>\n",
       "      <th>gen:Drama</th>\n",
       "      <th>gen:Fantasy</th>\n",
       "      <th>gen:Film-Noir</th>\n",
       "      <th>gen:Horror</th>\n",
       "      <th>gen:IMAX</th>\n",
       "      <th>gen:Musical</th>\n",
       "      <th>gen:Mystery</th>\n",
       "      <th>gen:Romance</th>\n",
       "      <th>gen:Sci-Fi</th>\n",
       "      <th>gen:Thriller</th>\n",
       "      <th>gen:War</th>\n",
       "      <th>gen:Western</th>\n",
       "    </tr>\n",
       "  </thead>\n",
       "  <tbody>\n",
       "    <tr>\n",
       "      <th>0</th>\n",
       "      <td>0</td>\n",
       "      <td>0</td>\n",
       "      <td>1</td>\n",
       "      <td>1</td>\n",
       "      <td>1</td>\n",
       "      <td>1</td>\n",
       "      <td>0</td>\n",
       "      <td>0</td>\n",
       "      <td>0</td>\n",
       "      <td>1</td>\n",
       "      <td>0</td>\n",
       "      <td>0</td>\n",
       "      <td>0</td>\n",
       "      <td>0</td>\n",
       "      <td>0</td>\n",
       "      <td>0</td>\n",
       "      <td>0</td>\n",
       "      <td>0</td>\n",
       "      <td>0</td>\n",
       "      <td>0</td>\n",
       "    </tr>\n",
       "    <tr>\n",
       "      <th>1</th>\n",
       "      <td>0</td>\n",
       "      <td>0</td>\n",
       "      <td>1</td>\n",
       "      <td>0</td>\n",
       "      <td>1</td>\n",
       "      <td>0</td>\n",
       "      <td>0</td>\n",
       "      <td>0</td>\n",
       "      <td>0</td>\n",
       "      <td>1</td>\n",
       "      <td>0</td>\n",
       "      <td>0</td>\n",
       "      <td>0</td>\n",
       "      <td>0</td>\n",
       "      <td>0</td>\n",
       "      <td>0</td>\n",
       "      <td>0</td>\n",
       "      <td>0</td>\n",
       "      <td>0</td>\n",
       "      <td>0</td>\n",
       "    </tr>\n",
       "    <tr>\n",
       "      <th>2</th>\n",
       "      <td>0</td>\n",
       "      <td>0</td>\n",
       "      <td>0</td>\n",
       "      <td>0</td>\n",
       "      <td>0</td>\n",
       "      <td>1</td>\n",
       "      <td>0</td>\n",
       "      <td>0</td>\n",
       "      <td>0</td>\n",
       "      <td>0</td>\n",
       "      <td>0</td>\n",
       "      <td>0</td>\n",
       "      <td>0</td>\n",
       "      <td>0</td>\n",
       "      <td>0</td>\n",
       "      <td>1</td>\n",
       "      <td>0</td>\n",
       "      <td>0</td>\n",
       "      <td>0</td>\n",
       "      <td>0</td>\n",
       "    </tr>\n",
       "    <tr>\n",
       "      <th>3</th>\n",
       "      <td>0</td>\n",
       "      <td>0</td>\n",
       "      <td>0</td>\n",
       "      <td>0</td>\n",
       "      <td>0</td>\n",
       "      <td>1</td>\n",
       "      <td>0</td>\n",
       "      <td>0</td>\n",
       "      <td>1</td>\n",
       "      <td>0</td>\n",
       "      <td>0</td>\n",
       "      <td>0</td>\n",
       "      <td>0</td>\n",
       "      <td>0</td>\n",
       "      <td>0</td>\n",
       "      <td>1</td>\n",
       "      <td>0</td>\n",
       "      <td>0</td>\n",
       "      <td>0</td>\n",
       "      <td>0</td>\n",
       "    </tr>\n",
       "    <tr>\n",
       "      <th>4</th>\n",
       "      <td>0</td>\n",
       "      <td>0</td>\n",
       "      <td>0</td>\n",
       "      <td>0</td>\n",
       "      <td>0</td>\n",
       "      <td>1</td>\n",
       "      <td>0</td>\n",
       "      <td>0</td>\n",
       "      <td>0</td>\n",
       "      <td>0</td>\n",
       "      <td>0</td>\n",
       "      <td>0</td>\n",
       "      <td>0</td>\n",
       "      <td>0</td>\n",
       "      <td>0</td>\n",
       "      <td>0</td>\n",
       "      <td>0</td>\n",
       "      <td>0</td>\n",
       "      <td>0</td>\n",
       "      <td>0</td>\n",
       "    </tr>\n",
       "  </tbody>\n",
       "</table>\n",
       "</div>"
      ],
      "text/plain": [
       "   gen:(no genres listed)  gen:Action  gen:Adventure  gen:Animation  \\\n",
       "0                       0           0              1              1   \n",
       "1                       0           0              1              0   \n",
       "2                       0           0              0              0   \n",
       "3                       0           0              0              0   \n",
       "4                       0           0              0              0   \n",
       "\n",
       "   gen:Children  gen:Comedy  gen:Crime  gen:Documentary  gen:Drama  \\\n",
       "0             1           1          0                0          0   \n",
       "1             1           0          0                0          0   \n",
       "2             0           1          0                0          0   \n",
       "3             0           1          0                0          1   \n",
       "4             0           1          0                0          0   \n",
       "\n",
       "   gen:Fantasy  gen:Film-Noir  gen:Horror  gen:IMAX  gen:Musical  gen:Mystery  \\\n",
       "0            1              0           0         0            0            0   \n",
       "1            1              0           0         0            0            0   \n",
       "2            0              0           0         0            0            0   \n",
       "3            0              0           0         0            0            0   \n",
       "4            0              0           0         0            0            0   \n",
       "\n",
       "   gen:Romance  gen:Sci-Fi  gen:Thriller  gen:War  gen:Western  \n",
       "0            0           0             0        0            0  \n",
       "1            0           0             0        0            0  \n",
       "2            1           0             0        0            0  \n",
       "3            1           0             0        0            0  \n",
       "4            0           0             0        0            0  "
      ]
     },
     "execution_count": 31,
     "metadata": {},
     "output_type": "execute_result"
    }
   ],
   "source": [
    "movies_gen = pd.get_dummies(dt_movies['genres'].str.split('|',expand=True).stack()).sum(level=0).add_prefix('gen:')\n",
    "movies_gen.head()"
   ]
  },
  {
   "cell_type": "code",
   "execution_count": 32,
   "metadata": {},
   "outputs": [
    {
     "data": {
      "text/plain": [
       "(27278, 20)"
      ]
     },
     "execution_count": 32,
     "metadata": {},
     "output_type": "execute_result"
    }
   ],
   "source": [
    "movies_gen.shape"
   ]
  },
  {
   "cell_type": "code",
   "execution_count": 33,
   "metadata": {},
   "outputs": [
    {
     "data": {
      "text/html": [
       "<div>\n",
       "<style scoped>\n",
       "    .dataframe tbody tr th:only-of-type {\n",
       "        vertical-align: middle;\n",
       "    }\n",
       "\n",
       "    .dataframe tbody tr th {\n",
       "        vertical-align: top;\n",
       "    }\n",
       "\n",
       "    .dataframe thead th {\n",
       "        text-align: right;\n",
       "    }\n",
       "</style>\n",
       "<table border=\"1\" class=\"dataframe\">\n",
       "  <thead>\n",
       "    <tr style=\"text-align: right;\">\n",
       "      <th></th>\n",
       "      <th>gen:(no genres listed)</th>\n",
       "      <th>gen:Action</th>\n",
       "      <th>gen:Adventure</th>\n",
       "      <th>gen:Animation</th>\n",
       "      <th>gen:Children</th>\n",
       "      <th>gen:Comedy</th>\n",
       "      <th>gen:Crime</th>\n",
       "      <th>gen:Documentary</th>\n",
       "      <th>gen:Drama</th>\n",
       "      <th>gen:Fantasy</th>\n",
       "      <th>...</th>\n",
       "      <th>gen:Horror</th>\n",
       "      <th>gen:IMAX</th>\n",
       "      <th>gen:Musical</th>\n",
       "      <th>gen:Mystery</th>\n",
       "      <th>gen:Romance</th>\n",
       "      <th>gen:Sci-Fi</th>\n",
       "      <th>gen:Thriller</th>\n",
       "      <th>gen:War</th>\n",
       "      <th>gen:Western</th>\n",
       "      <th>num_gen</th>\n",
       "    </tr>\n",
       "  </thead>\n",
       "  <tbody>\n",
       "    <tr>\n",
       "      <th>0</th>\n",
       "      <td>0</td>\n",
       "      <td>0</td>\n",
       "      <td>1</td>\n",
       "      <td>1</td>\n",
       "      <td>1</td>\n",
       "      <td>1</td>\n",
       "      <td>0</td>\n",
       "      <td>0</td>\n",
       "      <td>0</td>\n",
       "      <td>1</td>\n",
       "      <td>...</td>\n",
       "      <td>0</td>\n",
       "      <td>0</td>\n",
       "      <td>0</td>\n",
       "      <td>0</td>\n",
       "      <td>0</td>\n",
       "      <td>0</td>\n",
       "      <td>0</td>\n",
       "      <td>0</td>\n",
       "      <td>0</td>\n",
       "      <td>5</td>\n",
       "    </tr>\n",
       "    <tr>\n",
       "      <th>1</th>\n",
       "      <td>0</td>\n",
       "      <td>0</td>\n",
       "      <td>1</td>\n",
       "      <td>0</td>\n",
       "      <td>1</td>\n",
       "      <td>0</td>\n",
       "      <td>0</td>\n",
       "      <td>0</td>\n",
       "      <td>0</td>\n",
       "      <td>1</td>\n",
       "      <td>...</td>\n",
       "      <td>0</td>\n",
       "      <td>0</td>\n",
       "      <td>0</td>\n",
       "      <td>0</td>\n",
       "      <td>0</td>\n",
       "      <td>0</td>\n",
       "      <td>0</td>\n",
       "      <td>0</td>\n",
       "      <td>0</td>\n",
       "      <td>3</td>\n",
       "    </tr>\n",
       "    <tr>\n",
       "      <th>2</th>\n",
       "      <td>0</td>\n",
       "      <td>0</td>\n",
       "      <td>0</td>\n",
       "      <td>0</td>\n",
       "      <td>0</td>\n",
       "      <td>1</td>\n",
       "      <td>0</td>\n",
       "      <td>0</td>\n",
       "      <td>0</td>\n",
       "      <td>0</td>\n",
       "      <td>...</td>\n",
       "      <td>0</td>\n",
       "      <td>0</td>\n",
       "      <td>0</td>\n",
       "      <td>0</td>\n",
       "      <td>1</td>\n",
       "      <td>0</td>\n",
       "      <td>0</td>\n",
       "      <td>0</td>\n",
       "      <td>0</td>\n",
       "      <td>2</td>\n",
       "    </tr>\n",
       "    <tr>\n",
       "      <th>3</th>\n",
       "      <td>0</td>\n",
       "      <td>0</td>\n",
       "      <td>0</td>\n",
       "      <td>0</td>\n",
       "      <td>0</td>\n",
       "      <td>1</td>\n",
       "      <td>0</td>\n",
       "      <td>0</td>\n",
       "      <td>1</td>\n",
       "      <td>0</td>\n",
       "      <td>...</td>\n",
       "      <td>0</td>\n",
       "      <td>0</td>\n",
       "      <td>0</td>\n",
       "      <td>0</td>\n",
       "      <td>1</td>\n",
       "      <td>0</td>\n",
       "      <td>0</td>\n",
       "      <td>0</td>\n",
       "      <td>0</td>\n",
       "      <td>3</td>\n",
       "    </tr>\n",
       "    <tr>\n",
       "      <th>4</th>\n",
       "      <td>0</td>\n",
       "      <td>0</td>\n",
       "      <td>0</td>\n",
       "      <td>0</td>\n",
       "      <td>0</td>\n",
       "      <td>1</td>\n",
       "      <td>0</td>\n",
       "      <td>0</td>\n",
       "      <td>0</td>\n",
       "      <td>0</td>\n",
       "      <td>...</td>\n",
       "      <td>0</td>\n",
       "      <td>0</td>\n",
       "      <td>0</td>\n",
       "      <td>0</td>\n",
       "      <td>0</td>\n",
       "      <td>0</td>\n",
       "      <td>0</td>\n",
       "      <td>0</td>\n",
       "      <td>0</td>\n",
       "      <td>1</td>\n",
       "    </tr>\n",
       "  </tbody>\n",
       "</table>\n",
       "<p>5 rows × 21 columns</p>\n",
       "</div>"
      ],
      "text/plain": [
       "   gen:(no genres listed)  gen:Action  gen:Adventure  gen:Animation  \\\n",
       "0                       0           0              1              1   \n",
       "1                       0           0              1              0   \n",
       "2                       0           0              0              0   \n",
       "3                       0           0              0              0   \n",
       "4                       0           0              0              0   \n",
       "\n",
       "   gen:Children  gen:Comedy  gen:Crime  gen:Documentary  gen:Drama  \\\n",
       "0             1           1          0                0          0   \n",
       "1             1           0          0                0          0   \n",
       "2             0           1          0                0          0   \n",
       "3             0           1          0                0          1   \n",
       "4             0           1          0                0          0   \n",
       "\n",
       "   gen:Fantasy   ...     gen:Horror  gen:IMAX  gen:Musical  gen:Mystery  \\\n",
       "0            1   ...              0         0            0            0   \n",
       "1            1   ...              0         0            0            0   \n",
       "2            0   ...              0         0            0            0   \n",
       "3            0   ...              0         0            0            0   \n",
       "4            0   ...              0         0            0            0   \n",
       "\n",
       "   gen:Romance  gen:Sci-Fi  gen:Thriller  gen:War  gen:Western  num_gen  \n",
       "0            0           0             0        0            0        5  \n",
       "1            0           0             0        0            0        3  \n",
       "2            1           0             0        0            0        2  \n",
       "3            1           0             0        0            0        3  \n",
       "4            0           0             0        0            0        1  \n",
       "\n",
       "[5 rows x 21 columns]"
      ]
     },
     "execution_count": 33,
     "metadata": {},
     "output_type": "execute_result"
    }
   ],
   "source": [
    "movies_gen['num_gen'] = movies_gen.sum(axis=1)\n",
    "movies_gen.head()"
   ]
  },
  {
   "cell_type": "code",
   "execution_count": 34,
   "metadata": {},
   "outputs": [
    {
     "data": {
      "text/plain": [
       "(27278, 21)"
      ]
     },
     "execution_count": 34,
     "metadata": {},
     "output_type": "execute_result"
    }
   ],
   "source": [
    "movies_gen.shape"
   ]
  },
  {
   "cell_type": "markdown",
   "metadata": {},
   "source": [
    "Em seguida concatenamos \"dt_movies\" com \"movies_gen\"."
   ]
  },
  {
   "cell_type": "code",
   "execution_count": 35,
   "metadata": {},
   "outputs": [
    {
     "data": {
      "text/html": [
       "<div>\n",
       "<style scoped>\n",
       "    .dataframe tbody tr th:only-of-type {\n",
       "        vertical-align: middle;\n",
       "    }\n",
       "\n",
       "    .dataframe tbody tr th {\n",
       "        vertical-align: top;\n",
       "    }\n",
       "\n",
       "    .dataframe thead th {\n",
       "        text-align: right;\n",
       "    }\n",
       "</style>\n",
       "<table border=\"1\" class=\"dataframe\">\n",
       "  <thead>\n",
       "    <tr style=\"text-align: right;\">\n",
       "      <th></th>\n",
       "      <th>movieId</th>\n",
       "      <th>title</th>\n",
       "      <th>genres</th>\n",
       "      <th>release_date</th>\n",
       "      <th>gen:(no genres listed)</th>\n",
       "      <th>gen:Action</th>\n",
       "      <th>gen:Adventure</th>\n",
       "      <th>gen:Animation</th>\n",
       "      <th>gen:Children</th>\n",
       "      <th>gen:Comedy</th>\n",
       "      <th>...</th>\n",
       "      <th>gen:Horror</th>\n",
       "      <th>gen:IMAX</th>\n",
       "      <th>gen:Musical</th>\n",
       "      <th>gen:Mystery</th>\n",
       "      <th>gen:Romance</th>\n",
       "      <th>gen:Sci-Fi</th>\n",
       "      <th>gen:Thriller</th>\n",
       "      <th>gen:War</th>\n",
       "      <th>gen:Western</th>\n",
       "      <th>num_gen</th>\n",
       "    </tr>\n",
       "  </thead>\n",
       "  <tbody>\n",
       "    <tr>\n",
       "      <th>23890</th>\n",
       "      <td>113466</td>\n",
       "      <td>Far Out Isn't Far Enough: The Tomi Ungerer Sto...</td>\n",
       "      <td>Documentary</td>\n",
       "      <td>2012.0</td>\n",
       "      <td>0</td>\n",
       "      <td>0</td>\n",
       "      <td>0</td>\n",
       "      <td>0</td>\n",
       "      <td>0</td>\n",
       "      <td>0</td>\n",
       "      <td>...</td>\n",
       "      <td>0</td>\n",
       "      <td>0</td>\n",
       "      <td>0</td>\n",
       "      <td>0</td>\n",
       "      <td>0</td>\n",
       "      <td>0</td>\n",
       "      <td>0</td>\n",
       "      <td>0</td>\n",
       "      <td>0</td>\n",
       "      <td>1</td>\n",
       "    </tr>\n",
       "    <tr>\n",
       "      <th>1194</th>\n",
       "      <td>1220</td>\n",
       "      <td>Blues Brothers, The (1980)</td>\n",
       "      <td>Action|Comedy|Musical</td>\n",
       "      <td>1980.0</td>\n",
       "      <td>0</td>\n",
       "      <td>1</td>\n",
       "      <td>0</td>\n",
       "      <td>0</td>\n",
       "      <td>0</td>\n",
       "      <td>1</td>\n",
       "      <td>...</td>\n",
       "      <td>0</td>\n",
       "      <td>0</td>\n",
       "      <td>1</td>\n",
       "      <td>0</td>\n",
       "      <td>0</td>\n",
       "      <td>0</td>\n",
       "      <td>0</td>\n",
       "      <td>0</td>\n",
       "      <td>0</td>\n",
       "      <td>3</td>\n",
       "    </tr>\n",
       "    <tr>\n",
       "      <th>14248</th>\n",
       "      <td>71438</td>\n",
       "      <td>Still Walking (Aruitemo aruitemo) (2008)</td>\n",
       "      <td>Drama</td>\n",
       "      <td>2008.0</td>\n",
       "      <td>0</td>\n",
       "      <td>0</td>\n",
       "      <td>0</td>\n",
       "      <td>0</td>\n",
       "      <td>0</td>\n",
       "      <td>0</td>\n",
       "      <td>...</td>\n",
       "      <td>0</td>\n",
       "      <td>0</td>\n",
       "      <td>0</td>\n",
       "      <td>0</td>\n",
       "      <td>0</td>\n",
       "      <td>0</td>\n",
       "      <td>0</td>\n",
       "      <td>0</td>\n",
       "      <td>0</td>\n",
       "      <td>1</td>\n",
       "    </tr>\n",
       "    <tr>\n",
       "      <th>2926</th>\n",
       "      <td>3012</td>\n",
       "      <td>Battling Butler (1926)</td>\n",
       "      <td>Comedy</td>\n",
       "      <td>1926.0</td>\n",
       "      <td>0</td>\n",
       "      <td>0</td>\n",
       "      <td>0</td>\n",
       "      <td>0</td>\n",
       "      <td>0</td>\n",
       "      <td>1</td>\n",
       "      <td>...</td>\n",
       "      <td>0</td>\n",
       "      <td>0</td>\n",
       "      <td>0</td>\n",
       "      <td>0</td>\n",
       "      <td>0</td>\n",
       "      <td>0</td>\n",
       "      <td>0</td>\n",
       "      <td>0</td>\n",
       "      <td>0</td>\n",
       "      <td>1</td>\n",
       "    </tr>\n",
       "    <tr>\n",
       "      <th>18817</th>\n",
       "      <td>93667</td>\n",
       "      <td>Thousand Months, A (Mille mois) (2003)</td>\n",
       "      <td>Drama</td>\n",
       "      <td>2003.0</td>\n",
       "      <td>0</td>\n",
       "      <td>0</td>\n",
       "      <td>0</td>\n",
       "      <td>0</td>\n",
       "      <td>0</td>\n",
       "      <td>0</td>\n",
       "      <td>...</td>\n",
       "      <td>0</td>\n",
       "      <td>0</td>\n",
       "      <td>0</td>\n",
       "      <td>0</td>\n",
       "      <td>0</td>\n",
       "      <td>0</td>\n",
       "      <td>0</td>\n",
       "      <td>0</td>\n",
       "      <td>0</td>\n",
       "      <td>1</td>\n",
       "    </tr>\n",
       "  </tbody>\n",
       "</table>\n",
       "<p>5 rows × 25 columns</p>\n",
       "</div>"
      ],
      "text/plain": [
       "       movieId                                              title  \\\n",
       "23890   113466  Far Out Isn't Far Enough: The Tomi Ungerer Sto...   \n",
       "1194      1220                         Blues Brothers, The (1980)   \n",
       "14248    71438           Still Walking (Aruitemo aruitemo) (2008)   \n",
       "2926      3012                             Battling Butler (1926)   \n",
       "18817    93667             Thousand Months, A (Mille mois) (2003)   \n",
       "\n",
       "                      genres  release_date  gen:(no genres listed)  \\\n",
       "23890            Documentary        2012.0                       0   \n",
       "1194   Action|Comedy|Musical        1980.0                       0   \n",
       "14248                  Drama        2008.0                       0   \n",
       "2926                  Comedy        1926.0                       0   \n",
       "18817                  Drama        2003.0                       0   \n",
       "\n",
       "       gen:Action  gen:Adventure  gen:Animation  gen:Children  gen:Comedy  \\\n",
       "23890           0              0              0             0           0   \n",
       "1194            1              0              0             0           1   \n",
       "14248           0              0              0             0           0   \n",
       "2926            0              0              0             0           1   \n",
       "18817           0              0              0             0           0   \n",
       "\n",
       "        ...     gen:Horror  gen:IMAX  gen:Musical  gen:Mystery  gen:Romance  \\\n",
       "23890   ...              0         0            0            0            0   \n",
       "1194    ...              0         0            1            0            0   \n",
       "14248   ...              0         0            0            0            0   \n",
       "2926    ...              0         0            0            0            0   \n",
       "18817   ...              0         0            0            0            0   \n",
       "\n",
       "       gen:Sci-Fi  gen:Thriller  gen:War  gen:Western  num_gen  \n",
       "23890           0             0        0            0        1  \n",
       "1194            0             0        0            0        3  \n",
       "14248           0             0        0            0        1  \n",
       "2926            0             0        0            0        1  \n",
       "18817           0             0        0            0        1  \n",
       "\n",
       "[5 rows x 25 columns]"
      ]
     },
     "execution_count": 35,
     "metadata": {},
     "output_type": "execute_result"
    }
   ],
   "source": [
    "dt_movies = pd.concat([dt_movies, movies_gen], axis=1)\n",
    "dt_movies.sample(5)"
   ]
  },
  {
   "cell_type": "code",
   "execution_count": 36,
   "metadata": {},
   "outputs": [
    {
     "data": {
      "text/plain": [
       "(27278, 24)"
      ]
     },
     "execution_count": 36,
     "metadata": {},
     "output_type": "execute_result"
    }
   ],
   "source": [
    "dt_movies = dt_movies.drop('genres',axis=1)\n",
    "dt_movies.shape"
   ]
  },
  {
   "cell_type": "code",
   "execution_count": 37,
   "metadata": {},
   "outputs": [],
   "source": [
    "# movies_gen não é mais necessário\n",
    "del movies_gen"
   ]
  },
  {
   "cell_type": "markdown",
   "metadata": {},
   "source": [
    "**Dataframe: dt_ratings**  \n",
    "Um fator que pode ser importante em uma recomendação é o horário em que ela foi feita. No fim de um dia usualmente estamos mais cansados e portanto somos menos criteriosos ao dar uma nota. Assim transformamos 'timestamp' em categorias de 0 a 23 para as horas."
   ]
  },
  {
   "cell_type": "code",
   "execution_count": 38,
   "metadata": {},
   "outputs": [
    {
     "data": {
      "text/html": [
       "<div>\n",
       "<style scoped>\n",
       "    .dataframe tbody tr th:only-of-type {\n",
       "        vertical-align: middle;\n",
       "    }\n",
       "\n",
       "    .dataframe tbody tr th {\n",
       "        vertical-align: top;\n",
       "    }\n",
       "\n",
       "    .dataframe thead th {\n",
       "        text-align: right;\n",
       "    }\n",
       "</style>\n",
       "<table border=\"1\" class=\"dataframe\">\n",
       "  <thead>\n",
       "    <tr style=\"text-align: right;\">\n",
       "      <th></th>\n",
       "      <th>userId</th>\n",
       "      <th>movieId</th>\n",
       "      <th>rating</th>\n",
       "      <th>timestamp</th>\n",
       "      <th>hour</th>\n",
       "    </tr>\n",
       "  </thead>\n",
       "  <tbody>\n",
       "    <tr>\n",
       "      <th>0</th>\n",
       "      <td>1</td>\n",
       "      <td>2</td>\n",
       "      <td>3.5</td>\n",
       "      <td>1112486027</td>\n",
       "      <td>23</td>\n",
       "    </tr>\n",
       "    <tr>\n",
       "      <th>1</th>\n",
       "      <td>1</td>\n",
       "      <td>29</td>\n",
       "      <td>3.5</td>\n",
       "      <td>1112484676</td>\n",
       "      <td>23</td>\n",
       "    </tr>\n",
       "    <tr>\n",
       "      <th>2</th>\n",
       "      <td>1</td>\n",
       "      <td>32</td>\n",
       "      <td>3.5</td>\n",
       "      <td>1112484819</td>\n",
       "      <td>23</td>\n",
       "    </tr>\n",
       "    <tr>\n",
       "      <th>3</th>\n",
       "      <td>1</td>\n",
       "      <td>47</td>\n",
       "      <td>3.5</td>\n",
       "      <td>1112484727</td>\n",
       "      <td>23</td>\n",
       "    </tr>\n",
       "    <tr>\n",
       "      <th>4</th>\n",
       "      <td>1</td>\n",
       "      <td>50</td>\n",
       "      <td>3.5</td>\n",
       "      <td>1112484580</td>\n",
       "      <td>23</td>\n",
       "    </tr>\n",
       "    <tr>\n",
       "      <th>5</th>\n",
       "      <td>1</td>\n",
       "      <td>112</td>\n",
       "      <td>3.5</td>\n",
       "      <td>1094785740</td>\n",
       "      <td>3</td>\n",
       "    </tr>\n",
       "    <tr>\n",
       "      <th>6</th>\n",
       "      <td>1</td>\n",
       "      <td>151</td>\n",
       "      <td>4.0</td>\n",
       "      <td>1094785734</td>\n",
       "      <td>3</td>\n",
       "    </tr>\n",
       "    <tr>\n",
       "      <th>7</th>\n",
       "      <td>1</td>\n",
       "      <td>223</td>\n",
       "      <td>4.0</td>\n",
       "      <td>1112485573</td>\n",
       "      <td>23</td>\n",
       "    </tr>\n",
       "    <tr>\n",
       "      <th>8</th>\n",
       "      <td>1</td>\n",
       "      <td>253</td>\n",
       "      <td>4.0</td>\n",
       "      <td>1112484940</td>\n",
       "      <td>23</td>\n",
       "    </tr>\n",
       "    <tr>\n",
       "      <th>9</th>\n",
       "      <td>1</td>\n",
       "      <td>260</td>\n",
       "      <td>4.0</td>\n",
       "      <td>1112484826</td>\n",
       "      <td>23</td>\n",
       "    </tr>\n",
       "  </tbody>\n",
       "</table>\n",
       "</div>"
      ],
      "text/plain": [
       "   userId  movieId  rating   timestamp  hour\n",
       "0       1        2     3.5  1112486027    23\n",
       "1       1       29     3.5  1112484676    23\n",
       "2       1       32     3.5  1112484819    23\n",
       "3       1       47     3.5  1112484727    23\n",
       "4       1       50     3.5  1112484580    23\n",
       "5       1      112     3.5  1094785740     3\n",
       "6       1      151     4.0  1094785734     3\n",
       "7       1      223     4.0  1112485573    23\n",
       "8       1      253     4.0  1112484940    23\n",
       "9       1      260     4.0  1112484826    23"
      ]
     },
     "execution_count": 38,
     "metadata": {},
     "output_type": "execute_result"
    }
   ],
   "source": [
    "dt_ratings['hour'] = (dt_ratings['timestamp'] // 3600) % 24\n",
    "dt_ratings.head(10)"
   ]
  },
  {
   "cell_type": "code",
   "execution_count": 39,
   "metadata": {},
   "outputs": [
    {
     "name": "stdout",
     "output_type": "stream",
     "text": [
      "23\n",
      "0\n",
      "12.485919115656257\n",
      "7.317289933681305\n"
     ]
    }
   ],
   "source": [
    "# verificando\n",
    "print(dt_ratings['hour'].max())\n",
    "print(dt_ratings['hour'].min())\n",
    "print(dt_ratings['hour'].mean())\n",
    "print(dt_ratings['hour'].std())"
   ]
  },
  {
   "cell_type": "markdown",
   "metadata": {},
   "source": [
    "Outra característica que pode ser interessante é a avaliação média de cada usuário e de cada filme."
   ]
  },
  {
   "cell_type": "code",
   "execution_count": 40,
   "metadata": {},
   "outputs": [],
   "source": [
    "# rating médio por usuario\n",
    "RMPU = dt_ratings.groupby(['userId']).mean().reset_index()\n",
    "RMPU['mean_rat_user'] = RMPU['rating']\n",
    "RMPU = RMPU[['userId','mean_rat_user']].copy()\n",
    "# rating médio por filme\n",
    "RMPM = dt_ratings.groupby(['movieId']).mean().reset_index()\n",
    "RMPM['mean_rat_movie'] = RMPM['rating']\n",
    "RMPM = RMPM[['movieId','mean_rat_movie']].copy()"
   ]
  },
  {
   "cell_type": "markdown",
   "metadata": {},
   "source": [
    "Agora vamos unir os dataframes de acordo com a variável em comum \"movieId\"."
   ]
  },
  {
   "cell_type": "code",
   "execution_count": 41,
   "metadata": {},
   "outputs": [],
   "source": [
    "dt_ratings = pd.merge(dt_ratings,RMPU,on=['userId','userId'])\n",
    "dt_ratings = pd.merge(dt_ratings,RMPM,on=['movieId','movieId'])"
   ]
  },
  {
   "cell_type": "code",
   "execution_count": 42,
   "metadata": {},
   "outputs": [
    {
     "data": {
      "text/html": [
       "<div>\n",
       "<style scoped>\n",
       "    .dataframe tbody tr th:only-of-type {\n",
       "        vertical-align: middle;\n",
       "    }\n",
       "\n",
       "    .dataframe tbody tr th {\n",
       "        vertical-align: top;\n",
       "    }\n",
       "\n",
       "    .dataframe thead th {\n",
       "        text-align: right;\n",
       "    }\n",
       "</style>\n",
       "<table border=\"1\" class=\"dataframe\">\n",
       "  <thead>\n",
       "    <tr style=\"text-align: right;\">\n",
       "      <th></th>\n",
       "      <th>movieId</th>\n",
       "      <th>title</th>\n",
       "      <th>release_date</th>\n",
       "      <th>gen:(no genres listed)</th>\n",
       "      <th>gen:Action</th>\n",
       "      <th>gen:Adventure</th>\n",
       "      <th>gen:Animation</th>\n",
       "      <th>gen:Children</th>\n",
       "      <th>gen:Comedy</th>\n",
       "      <th>gen:Crime</th>\n",
       "      <th>...</th>\n",
       "      <th>gen:Thriller</th>\n",
       "      <th>gen:War</th>\n",
       "      <th>gen:Western</th>\n",
       "      <th>num_gen</th>\n",
       "      <th>userId</th>\n",
       "      <th>rating</th>\n",
       "      <th>timestamp</th>\n",
       "      <th>hour</th>\n",
       "      <th>mean_rat_user</th>\n",
       "      <th>mean_rat_movie</th>\n",
       "    </tr>\n",
       "  </thead>\n",
       "  <tbody>\n",
       "    <tr>\n",
       "      <th>0</th>\n",
       "      <td>1</td>\n",
       "      <td>Toy Story (1995)</td>\n",
       "      <td>1995.0</td>\n",
       "      <td>0</td>\n",
       "      <td>0</td>\n",
       "      <td>1</td>\n",
       "      <td>1</td>\n",
       "      <td>1</td>\n",
       "      <td>1</td>\n",
       "      <td>0</td>\n",
       "      <td>...</td>\n",
       "      <td>0</td>\n",
       "      <td>0</td>\n",
       "      <td>0</td>\n",
       "      <td>5</td>\n",
       "      <td>3</td>\n",
       "      <td>4.0</td>\n",
       "      <td>944919407</td>\n",
       "      <td>13</td>\n",
       "      <td>4.122995</td>\n",
       "      <td>3.970998</td>\n",
       "    </tr>\n",
       "    <tr>\n",
       "      <th>1</th>\n",
       "      <td>1</td>\n",
       "      <td>Toy Story (1995)</td>\n",
       "      <td>1995.0</td>\n",
       "      <td>0</td>\n",
       "      <td>0</td>\n",
       "      <td>1</td>\n",
       "      <td>1</td>\n",
       "      <td>1</td>\n",
       "      <td>1</td>\n",
       "      <td>0</td>\n",
       "      <td>...</td>\n",
       "      <td>0</td>\n",
       "      <td>0</td>\n",
       "      <td>0</td>\n",
       "      <td>5</td>\n",
       "      <td>6</td>\n",
       "      <td>5.0</td>\n",
       "      <td>858275452</td>\n",
       "      <td>17</td>\n",
       "      <td>3.750000</td>\n",
       "      <td>3.970998</td>\n",
       "    </tr>\n",
       "    <tr>\n",
       "      <th>2</th>\n",
       "      <td>1</td>\n",
       "      <td>Toy Story (1995)</td>\n",
       "      <td>1995.0</td>\n",
       "      <td>0</td>\n",
       "      <td>0</td>\n",
       "      <td>1</td>\n",
       "      <td>1</td>\n",
       "      <td>1</td>\n",
       "      <td>1</td>\n",
       "      <td>0</td>\n",
       "      <td>...</td>\n",
       "      <td>0</td>\n",
       "      <td>0</td>\n",
       "      <td>0</td>\n",
       "      <td>5</td>\n",
       "      <td>8</td>\n",
       "      <td>4.0</td>\n",
       "      <td>833981871</td>\n",
       "      <td>13</td>\n",
       "      <td>3.800000</td>\n",
       "      <td>3.970998</td>\n",
       "    </tr>\n",
       "    <tr>\n",
       "      <th>3</th>\n",
       "      <td>1</td>\n",
       "      <td>Toy Story (1995)</td>\n",
       "      <td>1995.0</td>\n",
       "      <td>0</td>\n",
       "      <td>0</td>\n",
       "      <td>1</td>\n",
       "      <td>1</td>\n",
       "      <td>1</td>\n",
       "      <td>1</td>\n",
       "      <td>0</td>\n",
       "      <td>...</td>\n",
       "      <td>0</td>\n",
       "      <td>0</td>\n",
       "      <td>0</td>\n",
       "      <td>5</td>\n",
       "      <td>10</td>\n",
       "      <td>4.0</td>\n",
       "      <td>943497887</td>\n",
       "      <td>2</td>\n",
       "      <td>3.894737</td>\n",
       "      <td>3.970998</td>\n",
       "    </tr>\n",
       "    <tr>\n",
       "      <th>4</th>\n",
       "      <td>1</td>\n",
       "      <td>Toy Story (1995)</td>\n",
       "      <td>1995.0</td>\n",
       "      <td>0</td>\n",
       "      <td>0</td>\n",
       "      <td>1</td>\n",
       "      <td>1</td>\n",
       "      <td>1</td>\n",
       "      <td>1</td>\n",
       "      <td>0</td>\n",
       "      <td>...</td>\n",
       "      <td>0</td>\n",
       "      <td>0</td>\n",
       "      <td>0</td>\n",
       "      <td>5</td>\n",
       "      <td>11</td>\n",
       "      <td>4.5</td>\n",
       "      <td>1230858821</td>\n",
       "      <td>1</td>\n",
       "      <td>3.945437</td>\n",
       "      <td>3.970998</td>\n",
       "    </tr>\n",
       "  </tbody>\n",
       "</table>\n",
       "<p>5 rows × 30 columns</p>\n",
       "</div>"
      ],
      "text/plain": [
       "   movieId             title  release_date  gen:(no genres listed)  \\\n",
       "0        1  Toy Story (1995)        1995.0                       0   \n",
       "1        1  Toy Story (1995)        1995.0                       0   \n",
       "2        1  Toy Story (1995)        1995.0                       0   \n",
       "3        1  Toy Story (1995)        1995.0                       0   \n",
       "4        1  Toy Story (1995)        1995.0                       0   \n",
       "\n",
       "   gen:Action  gen:Adventure  gen:Animation  gen:Children  gen:Comedy  \\\n",
       "0           0              1              1             1           1   \n",
       "1           0              1              1             1           1   \n",
       "2           0              1              1             1           1   \n",
       "3           0              1              1             1           1   \n",
       "4           0              1              1             1           1   \n",
       "\n",
       "   gen:Crime       ...        gen:Thriller  gen:War  gen:Western  num_gen  \\\n",
       "0          0       ...                   0        0            0        5   \n",
       "1          0       ...                   0        0            0        5   \n",
       "2          0       ...                   0        0            0        5   \n",
       "3          0       ...                   0        0            0        5   \n",
       "4          0       ...                   0        0            0        5   \n",
       "\n",
       "   userId  rating   timestamp  hour  mean_rat_user  mean_rat_movie  \n",
       "0       3     4.0   944919407    13       4.122995        3.970998  \n",
       "1       6     5.0   858275452    17       3.750000        3.970998  \n",
       "2       8     4.0   833981871    13       3.800000        3.970998  \n",
       "3      10     4.0   943497887     2       3.894737        3.970998  \n",
       "4      11     4.5  1230858821     1       3.945437        3.970998  \n",
       "\n",
       "[5 rows x 30 columns]"
      ]
     },
     "execution_count": 42,
     "metadata": {},
     "output_type": "execute_result"
    }
   ],
   "source": [
    "dt_user_movie = pd.merge(dt_movies,dt_ratings,on=['movieId','movieId'])\n",
    "dt_user_movie.head()"
   ]
  },
  {
   "cell_type": "code",
   "execution_count": 43,
   "metadata": {},
   "outputs": [
    {
     "data": {
      "text/plain": [
       "(517084, 29)"
      ]
     },
     "execution_count": 43,
     "metadata": {},
     "output_type": "execute_result"
    }
   ],
   "source": [
    "dt_user_movie = dt_user_movie.drop('timestamp',axis=1)\n",
    "dt_user_movie.shape"
   ]
  },
  {
   "cell_type": "markdown",
   "metadata": {},
   "source": [
    "Atualmente o Netflix não utiliza a avaliação na escala de 5 estrelas e sim apenas como: positiva ou negativa. Poderíamos fazer o mesmo aqui considerando que uma avaliação positiva é aquela acima da média do usuário e negativa abaixo. Entretanto, escolhemos seguir com a escala atual."
   ]
  },
  {
   "cell_type": "code",
   "execution_count": 44,
   "metadata": {},
   "outputs": [],
   "source": [
    "# salvando o dataset para futura análise e apagando a variável por hora\n",
    "dt_ratings = dt_ratings.drop(['timestamp'],axis=1)\n",
    "dt_ratings.to_csv(r'ratings_new.csv',index=False)\n",
    "del dt_ratings, RMPU, RMPM"
   ]
  },
  {
   "cell_type": "markdown",
   "metadata": {},
   "source": [
    "### Análise:  \n",
    "\n",
    "A partir de agora vamos utilizar os dados do dataframe \"dt_user_movie\" para responder as perguntas propostas."
   ]
  },
  {
   "cell_type": "markdown",
   "metadata": {},
   "source": [
    "#### Como o rating é distribuiído?"
   ]
  },
  {
   "cell_type": "code",
   "execution_count": 45,
   "metadata": {},
   "outputs": [
    {
     "data": {
      "text/plain": [
       "Text(0.5,0,'Avaliação')"
      ]
     },
     "execution_count": 45,
     "metadata": {},
     "output_type": "execute_result"
    },
    {
     "data": {
      "image/png": "[encoded data removed]",
      "text/plain": [
       "<Figure size 1080x360 with 1 Axes>"
      ]
     },
     "metadata": {
      "needs_background": "light"
     },
     "output_type": "display_data"
    }
   ],
   "source": [
    "dt_user_movie['rating'].hist(edgecolor='w', figsize=(15,5), bins=24);\n",
    "plt.xlabel('Avaliação')"
   ]
  },
  {
   "cell_type": "code",
   "execution_count": 46,
   "metadata": {},
   "outputs": [
    {
     "data": {
      "text/plain": [
       "Text(0.5,0,'Avaliação média dos usuários')"
      ]
     },
     "execution_count": 46,
     "metadata": {},
     "output_type": "execute_result"
    },
    {
     "data": {
      "image/png": "[encoded data removed]",
      "text/plain": [
       "<Figure size 1080x360 with 1 Axes>"
      ]
     },
     "metadata": {
      "needs_background": "light"
     },
     "output_type": "display_data"
    }
   ],
   "source": [
    "dt_user_movie['mean_rat_user'].hist(edgecolor='w', figsize=(15,5), bins=24);\n",
    "plt.xlabel('Avaliação média dos usuários')"
   ]
  },
  {
   "cell_type": "code",
   "execution_count": 47,
   "metadata": {},
   "outputs": [
    {
     "name": "stdout",
     "output_type": "stream",
     "text": [
      "-0.6098922421392832\n",
      "1.2894303611162998\n"
     ]
    }
   ],
   "source": [
    "print(dt_user_movie['mean_rat_user'].skew())\n",
    "print(dt_user_movie['mean_rat_user'].kurtosis())"
   ]
  },
  {
   "cell_type": "markdown",
   "metadata": {},
   "source": [
    "Podemos observar que a distribuição das avaliações é bem próxima de uma distribuição normal. Este pode ter sido um dos fatores que o Netflix mudar seu sistema de avaliação."
   ]
  },
  {
   "cell_type": "code",
   "execution_count": 48,
   "metadata": {
    "scrolled": true
   },
   "outputs": [
    {
     "data": {
      "text/plain": [
       "Text(0.5,0,'Avaliação média dos filmes')"
      ]
     },
     "execution_count": 48,
     "metadata": {},
     "output_type": "execute_result"
    },
    {
     "data": {
      "image/png": "[encoded data removed]",
      "text/plain": [
       "<Figure size 1080x360 with 1 Axes>"
      ]
     },
     "metadata": {
      "needs_background": "light"
     },
     "output_type": "display_data"
    }
   ],
   "source": [
    "dt_user_movie['mean_rat_movie'].hist(edgecolor='w', figsize=(15,5), bins=24);\n",
    "plt.xlabel('Avaliação média dos filmes')"
   ]
  },
  {
   "cell_type": "code",
   "execution_count": 49,
   "metadata": {},
   "outputs": [
    {
     "name": "stdout",
     "output_type": "stream",
     "text": [
      "-1.0282920552153105\n",
      "1.8817094498449984\n"
     ]
    }
   ],
   "source": [
    "print(dt_user_movie['mean_rat_movie'].skew())\n",
    "print(dt_user_movie['mean_rat_movie'].kurtosis())"
   ]
  },
  {
   "cell_type": "markdown",
   "metadata": {},
   "source": [
    "A distribuição das avaliações médias dos filmes é um pouco menos simétrica, mas ainda pode-se aproximar para uma normal."
   ]
  },
  {
   "cell_type": "markdown",
   "metadata": {},
   "source": [
    "#### Quantas avaliações em média tem um filme? Qual o número de vezes mínimo significativo que um filme foi avaliado?\n",
    "\n",
    "O número de vezes que um filme foi avaliado é importante para um modelo estatístico, por exemplo, um filme que só foi avaliado uma vez e obteve boa avaliação pode ser erroneamente sugerido ao usuário no lugar de um com avaliação mediana e muitas avaliações. Vamos então contar quantas vezes cada filme foi avaliado."
   ]
  },
  {
   "cell_type": "code",
   "execution_count": 50,
   "metadata": {},
   "outputs": [],
   "source": [
    "freq_count = dt_user_movie.groupby(['movieId']).count()"
   ]
  },
  {
   "cell_type": "code",
   "execution_count": 51,
   "metadata": {},
   "outputs": [
    {
     "data": {
      "text/plain": [
       "movieId\n",
       "1    1293\n",
       "2     569\n",
       "3     324\n",
       "4      59\n",
       "5     336\n",
       "Name: title, dtype: int64"
      ]
     },
     "execution_count": 51,
     "metadata": {},
     "output_type": "execute_result"
    }
   ],
   "source": [
    "freq_count['title'].head()"
   ]
  },
  {
   "cell_type": "code",
   "execution_count": 52,
   "metadata": {},
   "outputs": [
    {
     "name": "stdout",
     "output_type": "stream",
     "text": [
      "Número máximo de avaliações: 1751\n",
      "Número mínimo de avaliações: 1\n",
      "Número total de avaliações: 517084\n",
      "Número médio de avaliações: 41.920064856100524\n",
      "Desvio padrão do número médio de avaliações: 113.82852723767354\n",
      "Variância do número médio de avaliações: 0.15829622823550427\n"
     ]
    }
   ],
   "source": [
    "print(\"Número máximo de avaliações:\",freq_count['title'].max())\n",
    "print(\"Número mínimo de avaliações:\",freq_count['title'].min())\n",
    "print(\"Número total de avaliações:\",freq_count['title'].sum())\n",
    "print(\"Número médio de avaliações:\",freq_count['title'].mean())\n",
    "print(\"Desvio padrão do número médio de avaliações:\",freq_count['title'].std())\n",
    "print(\"Variância do número médio de avaliações:\",freq_count['title'].std()/np.sqrt(freq_count['title'].sum()))"
   ]
  },
  {
   "cell_type": "code",
   "execution_count": 53,
   "metadata": {},
   "outputs": [
    {
     "data": {
      "image/png": "[encoded data removed]",
      "text/plain": [
       "<Figure size 1080x360 with 1 Axes>"
      ]
     },
     "metadata": {
      "needs_background": "light"
     },
     "output_type": "display_data"
    }
   ],
   "source": [
    "freq_count['title'].hist(edgecolor='w', bins=50,figsize=(15,5));"
   ]
  },
  {
   "cell_type": "code",
   "execution_count": 54,
   "metadata": {},
   "outputs": [
    {
     "data": {
      "image/png": "[encoded data removed]",
      "text/plain": [
       "<Figure size 1080x360 with 1 Axes>"
      ]
     },
     "metadata": {
      "needs_background": "light"
     },
     "output_type": "display_data"
    }
   ],
   "source": [
    "freq_count['title'][freq_count['title']<400].hist(edgecolor='w', bins=50,figsize=(15,5));"
   ]
  },
  {
   "cell_type": "markdown",
   "metadata": {},
   "source": [
    "Essa distribuição claramente não é gaussiana, de acordo com o significado dos dados, esta poderia se adequar a uma distribuição de Poisson, já que um filme tem maior chance de ser assistido com o passar do tempo (se os dados vierem de um sistema de recomendação essa estatística pode ser alterada). Um teste $\\chi^{2}$ poderia ser utilizado para confirmar ou não se a distribuição é de Poisson, entretanto não utilizaremos isso aqui para que a análise seja mais rápida. Em seguida vamos utilizar a correlação de Pearson e para tal é usual considerar o número mínimo significativo de observações sendo 25, ou seja, um filme com 25 avaliações já pode ser considerado em nossa estatística."
   ]
  },
  {
   "cell_type": "code",
   "execution_count": 55,
   "metadata": {},
   "outputs": [],
   "source": [
    "# nomes das colunas que contém o gênero\n",
    "gen_cols = ['gen:(no genres listed)','gen:Action','gen:Adventure','gen:Animation','gen:Children','gen:Comedy','gen:Crime',\n",
    "            'gen:Documentary','gen:Drama','gen:Fantasy','gen:Film-Noir','gen:Horror','gen:IMAX','gen:Musical','gen:Mystery',\n",
    "            'gen:Romance', 'gen:Sci-Fi','gen:Thriller','gen:War','gen:Western']"
   ]
  },
  {
   "cell_type": "code",
   "execution_count": 56,
   "metadata": {},
   "outputs": [
    {
     "data": {
      "image/png": "[encoded data removed]",
      "text/plain": [
       "<Figure size 1440x1008 with 20 Axes>"
      ]
     },
     "metadata": {
      "needs_background": "light"
     },
     "output_type": "display_data"
    }
   ],
   "source": [
    "dt_user_movie[gen_cols].hist(bins=30, figsize=(20,14),edgecolor='w');"
   ]
  },
  {
   "cell_type": "code",
   "execution_count": 57,
   "metadata": {},
   "outputs": [],
   "source": [
    "n_crit = 25\n",
    "corr_pearson = dt_user_movie.corr(method='pearson',min_periods=n_crit)"
   ]
  },
  {
   "cell_type": "code",
   "execution_count": 58,
   "metadata": {},
   "outputs": [],
   "source": [
    "corr_spearman = dt_user_movie.corr(method='spearman',min_periods=n_crit)"
   ]
  },
  {
   "cell_type": "code",
   "execution_count": 59,
   "metadata": {},
   "outputs": [
    {
     "name": "stdout",
     "output_type": "stream",
     "text": [
      "(28, 28)\n",
      "(28, 28)\n"
     ]
    }
   ],
   "source": [
    "print(corr_pearson.shape)\n",
    "print(corr_spearman.shape)"
   ]
  },
  {
   "cell_type": "code",
   "execution_count": 60,
   "metadata": {
    "scrolled": true
   },
   "outputs": [
    {
     "data": {
      "text/html": [
       "<div>\n",
       "<style scoped>\n",
       "    .dataframe tbody tr th:only-of-type {\n",
       "        vertical-align: middle;\n",
       "    }\n",
       "\n",
       "    .dataframe tbody tr th {\n",
       "        vertical-align: top;\n",
       "    }\n",
       "\n",
       "    .dataframe thead th {\n",
       "        text-align: right;\n",
       "    }\n",
       "</style>\n",
       "<table border=\"1\" class=\"dataframe\">\n",
       "  <thead>\n",
       "    <tr style=\"text-align: right;\">\n",
       "      <th></th>\n",
       "      <th>movieId</th>\n",
       "      <th>release_date</th>\n",
       "      <th>gen:(no genres listed)</th>\n",
       "      <th>gen:Action</th>\n",
       "      <th>gen:Adventure</th>\n",
       "      <th>gen:Animation</th>\n",
       "      <th>gen:Children</th>\n",
       "      <th>gen:Comedy</th>\n",
       "      <th>gen:Crime</th>\n",
       "      <th>gen:Documentary</th>\n",
       "      <th>...</th>\n",
       "      <th>gen:Sci-Fi</th>\n",
       "      <th>gen:Thriller</th>\n",
       "      <th>gen:War</th>\n",
       "      <th>gen:Western</th>\n",
       "      <th>num_gen</th>\n",
       "      <th>userId</th>\n",
       "      <th>rating</th>\n",
       "      <th>hour</th>\n",
       "      <th>mean_rat_user</th>\n",
       "      <th>mean_rat_movie</th>\n",
       "    </tr>\n",
       "  </thead>\n",
       "  <tbody>\n",
       "    <tr>\n",
       "      <th>movieId</th>\n",
       "      <td>1.000000</td>\n",
       "      <td>0.379795</td>\n",
       "      <td>0.012208</td>\n",
       "      <td>0.045970</td>\n",
       "      <td>0.016972</td>\n",
       "      <td>0.044988</td>\n",
       "      <td>-0.013147</td>\n",
       "      <td>-0.043462</td>\n",
       "      <td>0.019867</td>\n",
       "      <td>0.062718</td>\n",
       "      <td>...</td>\n",
       "      <td>0.038479</td>\n",
       "      <td>0.028382</td>\n",
       "      <td>-0.009994</td>\n",
       "      <td>-0.017892</td>\n",
       "      <td>0.088686</td>\n",
       "      <td>0.016272</td>\n",
       "      <td>0.000675</td>\n",
       "      <td>-0.015962</td>\n",
       "      <td>0.005569</td>\n",
       "      <td>0.001421</td>\n",
       "    </tr>\n",
       "    <tr>\n",
       "      <th>release_date</th>\n",
       "      <td>0.379795</td>\n",
       "      <td>1.000000</td>\n",
       "      <td>0.002996</td>\n",
       "      <td>0.105445</td>\n",
       "      <td>0.022544</td>\n",
       "      <td>-0.002355</td>\n",
       "      <td>-0.053920</td>\n",
       "      <td>0.053602</td>\n",
       "      <td>0.049682</td>\n",
       "      <td>0.049917</td>\n",
       "      <td>...</td>\n",
       "      <td>0.039353</td>\n",
       "      <td>0.110608</td>\n",
       "      <td>-0.075871</td>\n",
       "      <td>-0.076820</td>\n",
       "      <td>0.071607</td>\n",
       "      <td>0.013297</td>\n",
       "      <td>-0.099745</td>\n",
       "      <td>-0.004575</td>\n",
       "      <td>-0.037544</td>\n",
       "      <td>-0.210139</td>\n",
       "    </tr>\n",
       "    <tr>\n",
       "      <th>gen:(no genres listed)</th>\n",
       "      <td>0.012208</td>\n",
       "      <td>0.002996</td>\n",
       "      <td>1.000000</td>\n",
       "      <td>-0.001232</td>\n",
       "      <td>-0.001044</td>\n",
       "      <td>-0.000478</td>\n",
       "      <td>-0.000591</td>\n",
       "      <td>-0.001536</td>\n",
       "      <td>-0.000873</td>\n",
       "      <td>-0.000216</td>\n",
       "      <td>...</td>\n",
       "      <td>-0.000856</td>\n",
       "      <td>-0.001185</td>\n",
       "      <td>-0.000457</td>\n",
       "      <td>-0.000292</td>\n",
       "      <td>-0.002812</td>\n",
       "      <td>0.000256</td>\n",
       "      <td>0.000432</td>\n",
       "      <td>0.000676</td>\n",
       "      <td>0.001458</td>\n",
       "      <td>0.000911</td>\n",
       "    </tr>\n",
       "    <tr>\n",
       "      <th>gen:Action</th>\n",
       "      <td>0.045970</td>\n",
       "      <td>0.105445</td>\n",
       "      <td>-0.001232</td>\n",
       "      <td>1.000000</td>\n",
       "      <td>0.330866</td>\n",
       "      <td>-0.100106</td>\n",
       "      <td>-0.142678</td>\n",
       "      <td>-0.236511</td>\n",
       "      <td>0.096602</td>\n",
       "      <td>-0.064966</td>\n",
       "      <td>...</td>\n",
       "      <td>0.309599</td>\n",
       "      <td>0.272789</td>\n",
       "      <td>0.062011</td>\n",
       "      <td>0.032073</td>\n",
       "      <td>0.389909</td>\n",
       "      <td>-0.000032</td>\n",
       "      <td>-0.042399</td>\n",
       "      <td>0.004990</td>\n",
       "      <td>0.002774</td>\n",
       "      <td>-0.089323</td>\n",
       "    </tr>\n",
       "    <tr>\n",
       "      <th>gen:Adventure</th>\n",
       "      <td>0.016972</td>\n",
       "      <td>0.022544</td>\n",
       "      <td>-0.001044</td>\n",
       "      <td>0.330866</td>\n",
       "      <td>1.000000</td>\n",
       "      <td>0.222515</td>\n",
       "      <td>0.224056</td>\n",
       "      <td>-0.068900</td>\n",
       "      <td>-0.173130</td>\n",
       "      <td>-0.054286</td>\n",
       "      <td>...</td>\n",
       "      <td>0.236649</td>\n",
       "      <td>-0.038794</td>\n",
       "      <td>-0.047615</td>\n",
       "      <td>0.044065</td>\n",
       "      <td>0.426767</td>\n",
       "      <td>0.003563</td>\n",
       "      <td>-0.007464</td>\n",
       "      <td>-0.001755</td>\n",
       "      <td>0.019276</td>\n",
       "      <td>-0.015726</td>\n",
       "    </tr>\n",
       "  </tbody>\n",
       "</table>\n",
       "<p>5 rows × 28 columns</p>\n",
       "</div>"
      ],
      "text/plain": [
       "                         movieId  release_date  gen:(no genres listed)  \\\n",
       "movieId                 1.000000      0.379795                0.012208   \n",
       "release_date            0.379795      1.000000                0.002996   \n",
       "gen:(no genres listed)  0.012208      0.002996                1.000000   \n",
       "gen:Action              0.045970      0.105445               -0.001232   \n",
       "gen:Adventure           0.016972      0.022544               -0.001044   \n",
       "\n",
       "                        gen:Action  gen:Adventure  gen:Animation  \\\n",
       "movieId                   0.045970       0.016972       0.044988   \n",
       "release_date              0.105445       0.022544      -0.002355   \n",
       "gen:(no genres listed)   -0.001232      -0.001044      -0.000478   \n",
       "gen:Action                1.000000       0.330866      -0.100106   \n",
       "gen:Adventure             0.330866       1.000000       0.222515   \n",
       "\n",
       "                        gen:Children  gen:Comedy  gen:Crime  gen:Documentary  \\\n",
       "movieId                    -0.013147   -0.043462   0.019867         0.062718   \n",
       "release_date               -0.053920    0.053602   0.049682         0.049917   \n",
       "gen:(no genres listed)     -0.000591   -0.001536  -0.000873        -0.000216   \n",
       "gen:Action                 -0.142678   -0.236511   0.096602        -0.064966   \n",
       "gen:Adventure               0.224056   -0.068900  -0.173130        -0.054286   \n",
       "\n",
       "                             ...        gen:Sci-Fi  gen:Thriller   gen:War  \\\n",
       "movieId                      ...          0.038479      0.028382 -0.009994   \n",
       "release_date                 ...          0.039353      0.110608 -0.075871   \n",
       "gen:(no genres listed)       ...         -0.000856     -0.001185 -0.000457   \n",
       "gen:Action                   ...          0.309599      0.272789  0.062011   \n",
       "gen:Adventure                ...          0.236649     -0.038794 -0.047615   \n",
       "\n",
       "                        gen:Western   num_gen    userId    rating      hour  \\\n",
       "movieId                   -0.017892  0.088686  0.016272  0.000675 -0.015962   \n",
       "release_date              -0.076820  0.071607  0.013297 -0.099745 -0.004575   \n",
       "gen:(no genres listed)    -0.000292 -0.002812  0.000256  0.000432  0.000676   \n",
       "gen:Action                 0.032073  0.389909 -0.000032 -0.042399  0.004990   \n",
       "gen:Adventure              0.044065  0.426767  0.003563 -0.007464 -0.001755   \n",
       "\n",
       "                        mean_rat_user  mean_rat_movie  \n",
       "movieId                      0.005569        0.001421  \n",
       "release_date                -0.037544       -0.210139  \n",
       "gen:(no genres listed)       0.001458        0.000911  \n",
       "gen:Action                   0.002774       -0.089323  \n",
       "gen:Adventure                0.019276       -0.015726  \n",
       "\n",
       "[5 rows x 28 columns]"
      ]
     },
     "execution_count": 60,
     "metadata": {},
     "output_type": "execute_result"
    }
   ],
   "source": [
    "corr_pearson.head()"
   ]
  },
  {
   "cell_type": "markdown",
   "metadata": {},
   "source": [
    "Para eliminar os filmes com menos de 25 avaliações fazemos:"
   ]
  },
  {
   "cell_type": "code",
   "execution_count": 61,
   "metadata": {},
   "outputs": [
    {
     "name": "stdout",
     "output_type": "stream",
     "text": [
      "10257\n"
     ]
    },
    {
     "data": {
      "text/plain": [
       "array([     8,     13,     27, ..., 129707, 130219, 130490], dtype=int64)"
      ]
     },
     "execution_count": 61,
     "metadata": {},
     "output_type": "execute_result"
    }
   ],
   "source": [
    "# n_crit alterado para 50 para diminuir o volume de dados\n",
    "freq_min = freq_count[freq_count['title']<=50].index.values\n",
    "print(len(freq_min))\n",
    "freq_min"
   ]
  },
  {
   "cell_type": "code",
   "execution_count": 62,
   "metadata": {},
   "outputs": [],
   "source": [
    "dt_user_movie = dt_user_movie[~dt_user_movie['movieId'].isin(freq_min)]"
   ]
  },
  {
   "cell_type": "code",
   "execution_count": 63,
   "metadata": {},
   "outputs": [
    {
     "data": {
      "text/plain": [
       "(422364, 29)"
      ]
     },
     "execution_count": 63,
     "metadata": {},
     "output_type": "execute_result"
    }
   ],
   "source": [
    "dt_user_movie.shape"
   ]
  },
  {
   "cell_type": "code",
   "execution_count": 64,
   "metadata": {},
   "outputs": [],
   "source": [
    "# A e freq_count não são mais necessários\n",
    "del freq_min, freq_count"
   ]
  },
  {
   "cell_type": "markdown",
   "metadata": {},
   "source": [
    "#### Existe alguma relação entre o gênero do filme e o padrão de avaliação dos usuários?"
   ]
  },
  {
   "cell_type": "code",
   "execution_count": 65,
   "metadata": {},
   "outputs": [
    {
     "data": {
      "text/plain": [
       "gen:Drama                 0.125735\n",
       "gen:War                   0.065713\n",
       "gen:Crime                 0.065199\n",
       "gen:Film-Noir             0.042751\n",
       "gen:Mystery               0.039409\n",
       "gen:Documentary           0.025295\n",
       "gen:IMAX                  0.019764\n",
       "gen:Animation             0.017719\n",
       "gen:Romance               0.008751\n",
       "gen:Western               0.004628\n",
       "gen:Musical               0.004128\n",
       "gen:(no genres listed)    0.000432\n",
       "gen:Fantasy              -0.003916\n",
       "gen:Thriller             -0.005943\n",
       "gen:Adventure            -0.007464\n",
       "gen:Children             -0.037082\n",
       "gen:Sci-Fi               -0.037281\n",
       "gen:Action               -0.042399\n",
       "gen:Horror               -0.071306\n",
       "gen:Comedy               -0.074352\n",
       "Name: rating, dtype: float64"
      ]
     },
     "execution_count": 65,
     "metadata": {},
     "output_type": "execute_result"
    }
   ],
   "source": [
    "corr_pearson['rating'][gen_cols].sort_values(ascending=False)"
   ]
  },
  {
   "cell_type": "code",
   "execution_count": 66,
   "metadata": {},
   "outputs": [
    {
     "data": {
      "text/plain": [
       "gen:Drama                 0.123220\n",
       "gen:War                   0.068570\n",
       "gen:Crime                 0.065854\n",
       "gen:Film-Noir             0.044877\n",
       "gen:Mystery               0.040339\n",
       "gen:Documentary           0.029835\n",
       "gen:IMAX                  0.019792\n",
       "gen:Animation             0.017434\n",
       "gen:Romance               0.004972\n",
       "gen:Musical               0.003947\n",
       "gen:Western               0.003693\n",
       "gen:(no genres listed)    0.000360\n",
       "gen:Fantasy              -0.003871\n",
       "gen:Adventure            -0.009885\n",
       "gen:Thriller             -0.011729\n",
       "gen:Sci-Fi               -0.036377\n",
       "gen:Children             -0.036477\n",
       "gen:Action               -0.046091\n",
       "gen:Horror               -0.064424\n",
       "gen:Comedy               -0.075600\n",
       "Name: rating, dtype: float64"
      ]
     },
     "execution_count": 66,
     "metadata": {},
     "output_type": "execute_result"
    }
   ],
   "source": [
    "corr_spearman['rating'][gen_cols].sort_values(ascending=False)"
   ]
  },
  {
   "cell_type": "code",
   "execution_count": 67,
   "metadata": {},
   "outputs": [
    {
     "data": {
      "text/plain": [
       "<matplotlib.axes._subplots.AxesSubplot at 0x9103826128>"
      ]
     },
     "execution_count": 67,
     "metadata": {},
     "output_type": "execute_result"
    },
    {
     "data": {
      "image/png": "[encoded data removed]",
      "text/plain": [
       "<Figure size 864x576 with 1 Axes>"
      ]
     },
     "metadata": {
      "needs_background": "light"
     },
     "output_type": "display_data"
    }
   ],
   "source": [
    "plt.figure(figsize=(12,8))\n",
    "plt.title('Correlação: Rating X gêneros')\n",
    "corr_pearson['rating'][gen_cols].sort_values(ascending=False).plot.bar()"
   ]
  },
  {
   "cell_type": "markdown",
   "metadata": {},
   "source": [
    "O gênero \"Drama\" é o que apresenta maior correlação com a variável \"rating\" e mesmo sendo o maior apresenta uma correlação baixa. Isso indica que um sistema de recomendação baseado apenas no gênero dificilmente resultaria em avaliações altas. Em destaque os gêneros \"Comedy\" e \"Horror\" (há outros) apresentam correlação negativa indicando que filmes com estes gêneros tendem a não ser bem classificados.  Com isso podemos perceber que \"Drama\", \"War\", \"Crime\", e \"Film-Noir\" são gêneros com maior correlação com \"rating\" e este fato pode ser explicado. Tais gêneros são geralmente considerados mais cultos e há maior investimento e qualidade na feitura dos mesmos, resultando em avaliações melhores.\n",
    "Entretanto, estressamos que estes valores de correlação são pequenos e nenhuma decisão deve ser baseada unicamente neste parâmetro."
   ]
  },
  {
   "cell_type": "markdown",
   "metadata": {},
   "source": [
    "**O que fazer aqui?**  \n",
    "\n",
    "**Utilizar algum gráfico de bolhas**"
   ]
  },
  {
   "cell_type": "markdown",
   "metadata": {},
   "source": [
    "#### Existe correlação entre os gêneros de filme?"
   ]
  },
  {
   "cell_type": "code",
   "execution_count": 68,
   "metadata": {},
   "outputs": [
    {
     "data": {
      "image/png": "[encoded data removed]",
      "text/plain": [
       "<Figure size 1080x720 with 2 Axes>"
      ]
     },
     "metadata": {
      "needs_background": "light"
     },
     "output_type": "display_data"
    }
   ],
   "source": [
    "corr_map = corr_pearson.loc[gen_cols, gen_cols]\n",
    "mask = np.zeros_like(corr_map)\n",
    "mask[np.triu_indices_from(mask)] = True\n",
    "plt.subplots(figsize=(15, 10))\n",
    "cmap = sns.diverging_palette(240, 10, n=9, as_cmap=True)\n",
    "grid = sns.heatmap(corr_map, mask=mask, square=True, annot=True, fmt='.1f', cmap=cmap, vmin=-1, center=0, linewidths=.5)\n",
    "plt.show()"
   ]
  },
  {
   "cell_type": "code",
   "execution_count": 69,
   "metadata": {},
   "outputs": [],
   "source": [
    "def gen_similar(genero):\n",
    "    print('Filmes do gênero',genero,'são similares a:')\n",
    "    return corr_pearson['gen:'+genero][gen_cols].sort_values(ascending=False)[1:4]"
   ]
  },
  {
   "cell_type": "code",
   "execution_count": 70,
   "metadata": {},
   "outputs": [
    {
     "name": "stdout",
     "output_type": "stream",
     "text": [
      "Filmes do gênero Comedy são similares a:\n"
     ]
    },
    {
     "data": {
      "text/plain": [
       "gen:Romance      0.188896\n",
       "gen:Children     0.104562\n",
       "gen:Animation    0.074553\n",
       "Name: gen:Comedy, dtype: float64"
      ]
     },
     "execution_count": 70,
     "metadata": {},
     "output_type": "execute_result"
    }
   ],
   "source": [
    "gen_similar('Comedy')"
   ]
  },
  {
   "cell_type": "markdown",
   "metadata": {},
   "source": [
    "Como os gêneros estão distribuídos?"
   ]
  },
  {
   "cell_type": "markdown",
   "metadata": {},
   "source": [
    "Usualmente uma correlação é considerada \"forte\" ou \"alta\" quando é maior que |0.5|. Podemos usar o contexto do problema para entender isto:\n",
    "-  Os gêneros \"Children\" e \"Animation\" são os únicos que tem correlação maior que 0.5, isto faz sentido já que a maior parte do conteúdo infantil é também uma animação. Vamos então considerar que estes gêneros representam categorias diferentes para o caso de uma recomendação por gênero;\n",
    "-  \"Musical\" e \"Animation\"  apresentam correlação igual a 0.4. Vários musicais são também uma animação, entretanto se assumirmos que podemos descartar o gênero \"Musical\" um usuário que gosta deste gênero receberia muitas sugestões que não são musicais."
   ]
  },
  {
   "cell_type": "code",
   "execution_count": 71,
   "metadata": {},
   "outputs": [
    {
     "name": "stdout",
     "output_type": "stream",
     "text": [
      "gen:(no genres listed) :     0\n",
      "gen:Action :     130220\n",
      "gen:Adventure :     102774\n",
      "gen:Animation :     25104\n",
      "gen:Children :     36142\n",
      "gen:Comedy :     159716\n",
      "gen:Crime :     74287\n",
      "gen:Documentary :     2442\n",
      "gen:Drama :     181912\n",
      "gen:Fantasy :     47861\n",
      "gen:Film-Noir :     4695\n",
      "gen:Horror :     28603\n",
      "gen:IMAX :     10604\n",
      "gen:Musical :     18631\n",
      "gen:Mystery :     35259\n",
      "gen:Romance :     82299\n",
      "gen:Sci-Fi :     73963\n",
      "gen:Thriller :     119416\n",
      "gen:War :     22709\n",
      "gen:Western :     9326\n"
     ]
    }
   ],
   "source": [
    "for item in gen_cols:\n",
    "    print(item,':    ',dt_user_movie[item].sum())"
   ]
  },
  {
   "cell_type": "markdown",
   "metadata": {},
   "source": [
    "A decisão de descartar ou não um gênero é importante para o modelo e deve ser discutida e analisada com cuidado. Aqui decidimos excluir nenhum gênero baseado no fato de que todas as correlações são pequenas. Poderíamos ainda pensar que todos os filmes que pertenceriam a uma categoria chamada \"Anime\" teriam dificuldades em serem sugeridos e portanto \"Animation\" deveria continuar como um gênero válido."
   ]
  },
  {
   "cell_type": "markdown",
   "metadata": {},
   "source": [
    " #### Usuários que gostam de um gênero também gostam de outro(s)?  "
   ]
  },
  {
   "cell_type": "code",
   "execution_count": null,
   "metadata": {},
   "outputs": [],
   "source": []
  },
  {
   "cell_type": "markdown",
   "metadata": {},
   "source": [
    "#### Existe correlação entre a hora do dia e a avaliação que o usuário dá para um filme?"
   ]
  },
  {
   "cell_type": "code",
   "execution_count": 92,
   "metadata": {},
   "outputs": [
    {
     "data": {
      "text/plain": [
       "Text(0.5,0,'Hora da avaliação')"
      ]
     },
     "execution_count": 92,
     "metadata": {},
     "output_type": "execute_result"
    },
    {
     "data": {
      "image/png": "[encoded data removed]",
      "text/plain": [
       "<Figure size 1080x360 with 1 Axes>"
      ]
     },
     "metadata": {
      "needs_background": "light"
     },
     "output_type": "display_data"
    }
   ],
   "source": [
    "dt_user_movie['hour'].hist(edgecolor='w', figsize=(15,5), bins=24)\n",
    "plt.xlabel('Hora da avaliação')"
   ]
  },
  {
   "cell_type": "markdown",
   "metadata": {},
   "source": [
    "Não faz sentido verificar se existe correlação entre \"rating\" e \"hour\", pois não existe uma relação linear entre eles neste contexto. Neste caso o que pode ser feito é, assim como para os gêneros, criar uma matrix esparsa binária para as horas e assim calcular a correlação de Pearson. Outra coisa é utilizar a correlação de Spearman, pois ela não assume linearidade entre as variáveis.\n",
    "\n",
    "A ideia é verificar se há uma hora específica em que os usuários são menos rigorosos na sua avaliação. Este entendimento traria uma opção de ação diferenciada na sugestão, por exemplo: Supomos que identificamos que os usuários costumam avaliar melhor um produto por volta de 22h. Isto significa que neste momento estão menos rigorosos e portanto mais abertos a sugestões de produtos novos. Com isso um cliente poderia pagar para que um produto novo fosse sugerido neste horário facilitando a aceitação do mesmo.\n",
    "\n",
    "Outra característica do usuário que pode ser entendida com \"hour\" é identificar qual pessoa de uma família está utilizando o serviço, por exemplo: Um criança pode utilizar o serviço durante a manhã e os pais a noite. Novamente, produtos mais personalizados podem ser sugeridos."
   ]
  },
  {
   "cell_type": "markdown",
   "metadata": {},
   "source": [
    "#### O que fazer aqui?\n",
    "\n",
    "**Fazer gráficos de rating por hora usando uma barra de cores identificando o gênero**  \n",
    "**Fazer a matriz esparsa das horas e calcular a correlação**  \n",
    "**Verificar a aplicação da correlação de Spearman**"
   ]
  },
  {
   "cell_type": "code",
   "execution_count": 86,
   "metadata": {
    "collapsed": true
   },
   "outputs": [
    {
     "data": {
      "image/png": "[encoded data removed]",
      "text/plain": [
       "<Figure size 1080x720 with 2 Axes>"
      ]
     },
     "metadata": {
      "needs_background": "light"
     },
     "output_type": "display_data"
    }
   ],
   "source": [
    "dt_user_movie.plot(kind='scatter',x='hour',y='rating',alpha=0.4,c='num_gen',cmap=plt.get_cmap(\"jet\"),colorbar=True, figsize=(15,10));"
   ]
  },
  {
   "cell_type": "code",
   "execution_count": 89,
   "metadata": {
    "collapsed": true
   },
   "outputs": [
    {
     "data": {
      "image/png": "[encoded data removed]",
      "text/plain": [
       "<Figure size 1080x720 with 4 Axes>"
      ]
     },
     "metadata": {
      "needs_background": "light"
     },
     "output_type": "display_data"
    }
   ],
   "source": [
    "from pandas.plotting import scatter_matrix\n",
    "scatter_matrix(dt_user_movie[['hour','rating']], figsize=(15,10));"
   ]
  },
  {
   "cell_type": "code",
   "execution_count": null,
   "metadata": {},
   "outputs": [],
   "source": [
    "scatter_matrix(dt_user_movie[['hour','rating']], figsize=(15,10));"
   ]
  },
  {
   "cell_type": "code",
   "execution_count": 65,
   "metadata": {},
   "outputs": [],
   "source": [
    "#movies_hour = pd.get_dummies(dt_user_movie['hour']).sum(level=0).add_prefix('h:')\n",
    "#movies_hour.head()"
   ]
  },
  {
   "cell_type": "markdown",
   "metadata": {},
   "source": [
    "#### Existe correlação entre o ano de lançamento do filme  e a avaliação?"
   ]
  },
  {
   "cell_type": "code",
   "execution_count": 66,
   "metadata": {},
   "outputs": [],
   "source": [
    "#dt_user_movie.plot.scatter(x='release_date',y='rating',c='DarkBlue',alpha=0.5)"
   ]
  },
  {
   "cell_type": "code",
   "execution_count": 101,
   "metadata": {},
   "outputs": [
    {
     "data": {
      "image/png": "[encoded data removed]",
      "text/plain": [
       "<Figure size 1080x720 with 4 Axes>"
      ]
     },
     "metadata": {
      "needs_background": "light"
     },
     "output_type": "display_data"
    }
   ],
   "source": [
    "scatter_matrix(dt_user_movie[['release_date','rating']], figsize=(15,10));"
   ]
  },
  {
   "cell_type": "markdown",
   "metadata": {},
   "source": [
    "É comum que um usuário goste mais de filmes de um período específico: isso até pode ser visto no dataframe \"dt_tags\", no qual várias tags se referem ao ano; ou mesmo pela nostalgia que parece ser cada vez mais evidente. O Netflix identificou que séries focadas nos anos 80 são bem vistas pelos usuários, já séries focadas nos anos 90 parecem não ter tanto apelo."
   ]
  },
  {
   "cell_type": "markdown",
   "metadata": {},
   "source": [
    "#### O que fazer aqui?\n",
    "\n",
    "**Fazer gráficos de rating por ano de lançamento usando uma barra de cores identificando o gênero**  \n",
    "**Fazer a matriz esparsa do ano e calcular a correlação**  \n",
    "**Verificar a aplicação da correlação de Spearman**"
   ]
  },
  {
   "cell_type": "markdown",
   "metadata": {},
   "source": [
    "#### Existe correlação entre variedade de gênero de um filme e sua avaliação?"
   ]
  },
  {
   "cell_type": "code",
   "execution_count": 93,
   "metadata": {},
   "outputs": [
    {
     "data": {
      "text/plain": [
       "0.022550603675298136"
      ]
     },
     "execution_count": 93,
     "metadata": {},
     "output_type": "execute_result"
    }
   ],
   "source": [
    "corr_pearson['num_gen']['rating']"
   ]
  },
  {
   "cell_type": "code",
   "execution_count": 94,
   "metadata": {},
   "outputs": [
    {
     "data": {
      "text/plain": [
       "0.019116005436275372"
      ]
     },
     "execution_count": 94,
     "metadata": {},
     "output_type": "execute_result"
    }
   ],
   "source": [
    "corr_spearman['num_gen']['rating']"
   ]
  },
  {
   "cell_type": "code",
   "execution_count": 95,
   "metadata": {},
   "outputs": [
    {
     "data": {
      "text/plain": [
       "<matplotlib.axes._subplots.AxesSubplot at 0xd505670a20>"
      ]
     },
     "execution_count": 95,
     "metadata": {},
     "output_type": "execute_result"
    },
    {
     "data": {
      "image/png": "[encoded data removed]",
      "text/plain": [
       "<Figure size 432x288 with 1 Axes>"
      ]
     },
     "metadata": {
      "needs_background": "light"
     },
     "output_type": "display_data"
    }
   ],
   "source": [
    "dt_user_movie[['num_gen','mean_rat_movie']].plot.kde()"
   ]
  },
  {
   "cell_type": "code",
   "execution_count": null,
   "metadata": {},
   "outputs": [],
   "source": [
    "dt_user_movie.plot.barh(x='num_gen', y='rating')"
   ]
  },
  {
   "cell_type": "code",
   "execution_count": null,
   "metadata": {},
   "outputs": [],
   "source": [
    "plt.figure(figsize=(10,7))\n",
    "grid = sns.swarmplot(y=\"rating\", x='num_gen', hue='mean_rat_movie', data=dt_user_movie, alpha=.5)"
   ]
  },
  {
   "cell_type": "code",
   "execution_count": 100,
   "metadata": {},
   "outputs": [
    {
     "data": {
      "image/png": "[encoded data removed]",
      "text/plain": [
       "<Figure size 1080x720 with 4 Axes>"
      ]
     },
     "metadata": {
      "needs_background": "light"
     },
     "output_type": "display_data"
    }
   ],
   "source": [
    "scatter_matrix(dt_user_movie[['num_gen','rating']], figsize=(15,10));"
   ]
  },
  {
   "cell_type": "markdown",
   "metadata": {},
   "source": [
    "A correlação é pequena, talvez a relação não seja linear e tenha um número ótimo de categorias. Assim como no caso da hora e do ano de lançamento."
   ]
  },
  {
   "cell_type": "code",
   "execution_count": 68,
   "metadata": {},
   "outputs": [],
   "source": [
    "#dt_user_movie.plot.scatter(x='num_gen',y='rating',c='DarkBlue',alpha=0.5)"
   ]
  },
  {
   "cell_type": "code",
   "execution_count": 69,
   "metadata": {},
   "outputs": [],
   "source": [
    "#df.plot.bar(stacked=True)"
   ]
  },
  {
   "cell_type": "markdown",
   "metadata": {},
   "source": [
    "# Fazer ainda:\n",
    "\n",
    "-  (rating por filme) médio\n",
    "-  (rating por gênero) médio\n",
    "\n",
    "## plots que valem a pena fazer:"
   ]
  },
  {
   "cell_type": "raw",
   "metadata": {},
   "source": [
    "'''\n",
    "\n",
    "grid = train.plot(kind=\"scatter\", y='SalePrice', x='LotFrontage',s=40, edgecolor='w', alpha=0.6, figsize=(10,5), \n",
    "                              c=\"PoolArea\", cmap=plt.get_cmap(\"rainbow\"), colorbar=True, sharex=False)\n",
    "plt.show()\n",
    "\n",
    "plt.figure(figsize=(10,7))\n",
    "grid = sns.swarmplot(y='SalePrice', x=[\"\"]*len(train), hue='PoolQC', data=train, size=4)\n",
    "plt.show()\n",
    "\n",
    "grid = sns.lmplot(x=\"LotFrontage\", y=\"SalePrice\", data=train, scatter_kws={'edgecolor':'w', 'alpha':0.6, 's':50}, \n",
    "               size=5, aspect=1.5)\n",
    "plt.show()\n",
    "\n",
    "plt.figure(figsize=(10,7))\n",
    "grid = sns.swarmplot(y=\"SalePrice\", x='FireplacesBin', hue='FireplaceQu_ord', data=train, size=4, alpha=.5)\n",
    "grid = sns.boxplot(y=\"SalePrice\", x='FireplacesBin', data=train, color='1')\n",
    "plt.xlabel('Number of Fireplaces')\n",
    "plt.show()\n",
    "\n",
    "''''''"
   ]
  },
  {
   "cell_type": "code",
   "execution_count": null,
   "metadata": {},
   "outputs": [],
   "source": [
    "#print(dt_user_movie[dt_user_movie['userId']])"
   ]
  },
  {
   "cell_type": "markdown",
   "metadata": {},
   "source": [
    "### Salvando o dataset final"
   ]
  },
  {
   "cell_type": "code",
   "execution_count": 72,
   "metadata": {},
   "outputs": [],
   "source": [
    "#dt_user_movie.to_csv(r'movie_dataset.csv',index=False)"
   ]
  },
  {
   "cell_type": "markdown",
   "metadata": {},
   "source": [
    "## Salvando dataset para similaridade"
   ]
  },
  {
   "cell_type": "code",
   "execution_count": 102,
   "metadata": {},
   "outputs": [],
   "source": [
    "#user_movie = dt_user_movie[['movieId','userId','rating','hour','release_date']].copy()\n",
    "#user_movie.to_csv(r'user_movie.csv',index=False)\n",
    "#del user_movie"
   ]
  },
  {
   "cell_type": "code",
   "execution_count": null,
   "metadata": {},
   "outputs": [],
   "source": []
  }
 ],
 "metadata": {
  "kernelspec": {
   "display_name": "Python 3",
   "language": "python",
   "name": "python3"
  },
  "language_info": {
   "codemirror_mode": {
    "name": "ipython",
    "version": 3
   },
   "file_extension": ".py",
   "mimetype": "text/x-python",
   "name": "python",
   "nbconvert_exporter": "python",
   "pygments_lexer": "ipython3",
   "version": "3.6.2"
  }
 },
 "nbformat": 4,
 "nbformat_minor": 2
}
