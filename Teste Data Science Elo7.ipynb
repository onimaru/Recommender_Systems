{
 "cells": [
  {
   "cell_type": "markdown",
   "metadata": {},
   "source": [
    "## Teste Data Science Elo7\n",
    "\n",
    "Esse teste faz parte da segunda etapa do processo seletivo para a vaga no time Data Science do Elo7. O objetivo do teste é avaliar como você desenvolve uma solução completa (em nível de prova de conceito) para um problema de sistemas de recomendação, que é uma das tarefas que mais realizamos no nosso dia-a-dia.  \n",
    "\n",
    "### Dataset:  \n",
    "O dataset escolhido para esse teste foi a base pública do Movie Lens, que é muito utilizado para avaliar algoritmos de sistemas de recomendação. Ele contém avaliações e tags textuais dadas por usuários a filmes. Os dados podem ser obtidos a partir desse link.  \n",
    "\n",
    "Em resumo, o dataset contém 20.000.263 ratings e 465.564 tags aplicadas a 27.278 filmes, distribuidos em 138.493 usuários. Todos os usuários avaliaram ao menos 20 filmes e todos os filmes possuem, ao menos, 1 avaliação. Mais detalhes sobre a estrutura dos dados se encontram aqui.  \n",
    "\n",
    "Para facilitar a estrutura do teste, nós separamos o desenvolvimento em três etapas: 1) ***Análise Exploratória***, 2) ***Sistema de Recomendação*** e 3) ***Avaliação do sistema de recomendação***.  \n",
    "\n",
    "### Parte 1 - Análise Exploratória  \n",
    "\n",
    "Essa etapa é uma das mais importantes de qualquer trabalho de um Data Scientist. Antes de executar qualquer algoritmo, nós precisamos primeiro entender o nosso problema. Por isso, gostaríamos que você realizasse uma análise exploratória e indicasse as principais características presentes nos dados. Você tem total liberdade para escolher qualquer ferramenta ou algoritmo nessa etapa.  \n",
    "\n",
    "*Dica 1*: Para facilitar um pouco o fluxo de informações, recomendamos começar essa etapa explicitando as perguntas que você deseja responder com as análises. Dessa forma, a análise ficará mais estruturada.  \n",
    "\n",
    "*Dica 2*: Possíveis perguntas que você pode fazer: - Existe alguma relação entre o gênero do filme e o padrão de avaliação dos usuários? - Existe correlação entre os gêneros de filme? Usuários que gostam de um gênero também gostam de outro(s)?  \n",
    "\n",
    "Use bastante criatividade nessa etapa! Muito provavelmente, essa análise fornecerá ideias para o sistema de recomendação que você precisará desenvolver na etapa seguinte.  \n",
    "\n",
    "### Parte 2 - Sistema de Recomendação  \n",
    "\n",
    "Implemente um sistema de recomendação (a nível de prova de conceito) que recomenda filmes que um determinado usuário possa gostar com base nos reviews que ele fez. O input do sistema vai ser o id de um usuário.  \n",
    "\n",
    "Não vamos indicar nenhum algoritmo ou técnica para executar essa tarefa, porque isso enviesaria a sua solução. Entretanto, gostaríamos que você documentasse todas as decisões tomadas. Não se preocupe em encontrar o melhor algoritmo para resolver o problema. Preferimos que você se preocupe em criar uma boa \"história\" com os dados, alternando código e o seu raciocínio.  \n",
    "\n",
    "A avaliação dessa etapa vai consistir nesses pontos:\n",
    "\n",
    "-  Estrutura: Código + história\n",
    "-  Conhecimento do problema:\n",
    "   -  Ferramentas de manipulação dos dados\n",
    "   -  Aplicação das técnicas\n",
    "- **Criatividade =)**  \n",
    "\n",
    "Obs: Não esperamos que você tenha conhecimento prévio em sistemas de recomendação, mas seria interessante estudar um pouco (pouco mesmo!) sobre os tipos de sistemas de recomendação para o problema. Veja também sites como a Amazon, Netflix e Spotify para verificar como eles abordam os sistemas de recomendação deles. Leia também esses artigos interessante do Netflix ([1](https://medium.com/netflix-techblog/netflix-recommendations-beyond-the-5-stars-part-1-55838468f429) e [2](https://medium.com/netflix-techblog/netflix-recommendations-beyond-the-5-stars-part-2-d9b96aa399f5)) sobre as dificuldades práticas de um algoritmo de sistemas de recomendação de filmes na Netflix. A ideia aqui é entender que a solução do problema pode ser um pouco mais complicada do que apenas a implementação de um algoritmo preciso.\n",
    "\n",
    "### Parte 3 - Avaliação do sistema de recomendação  \n",
    "\n",
    "Nessa etapa, gostaríamos que você pensasse sobre que métrica(s) você gostaria de utilizar para avaliar o sistema de recomendação criado na Parte 2.  \n",
    "\n",
    "Essa etapa é muito importante para avaliar e comparar diferentes algoritmos. Podemos utilizar diversas métricas para testar diferentes hipóteses, mas dificilmente teremos uma métrica única para todos os problemas. Que técnica(s) você utilizará para avaliar o seu algoritmo?  \n",
    "\n",
    "*Atenção*: lembre-se de justificar sua escolha da(s) métrica(s) de avaliação.\n",
    "\n",
    "Obs: Novamente, seja **criativo**!\n",
    "\n",
    "### Observações gerais:  \n",
    "\n",
    "Você deve submeter um jupyter notebook com o código desenvolvido por você com a solução de ambos os desafios. Lembre-se de documentar seu código e utilizar células *Markdown* para explicar **detalhadamente** sua solução. Lembre-se de explicar seu raciocínio e justificar os métodos utilizados por você. Explicite os algoritmos utilizados e as etapas de pré-processamento que você recomenda fazer, justificando o porquê de cada uma das decisões tomadas.  \n",
    "\n",
    "Aqui você pode ver uma lista de linguagens compatíveis com o jupyter e aqui algumas instruções que podem auxiliar na instalação da mesma.  \n",
    "\n",
    "Suba um arquivo final .ipynb, um .html e um requirements.txt (gerado pelo comando pip freeze > requirements.txt) em seu github pessoal. Deixe o repositório público e nos mande o link por email. Caso tenha utilizado uma linguagem diferente de Python, nos explique como rodar o seu projeto localmente. Se preferir a utilização do Python, por favor submeta o teste utilizando o Python 3+.  \n",
    "\n",
    "Sinta-se à vontade para fazer o uso de bibliotecas (como o scikit-learn e scipy), mas, novamente, você deve saber explicar o porquê de você aplicar determinado algoritmo para determinada situação.  \n",
    "\n",
    "Não queremos a solução ideal para o problema! Queremos entender sua forma de pensar. =)  \n",
    "\n",
    "IMPORTANTE: Seja criativo na resolução do problema! O trabalho de um Data Scientist envolve conhecimento técnico, metodologia científica e muita criatividade para abordar problemas complexos. Você encontrará muitas formas padrão de resolver o problema de recomendação de filmes para o dataset do MovieLens. Será que você consegue encontrar novas formas de abordar o mesmo problema? Tente formular uma hipótese, crie o algoritmo de recomendação - seja de Machine Learning ou não! - e encontre uma métrica que teste a sua hipótese.  \n",
    "\n",
    "Boa sorte e qualquer dúvida, pode nos mandar um e-mail!"
   ]
  },
  {
   "cell_type": "markdown",
   "metadata": {},
   "source": [
    "# Esclarecimentos\n",
    "\n",
    "**Público**: este notebook está sendo preparado como se fosse apresentado para alguém que possui familiaridade com ciência de dados e não como forma de apresentação final dos resultados para uma comissão de leigos.  \n",
    "**Completude**: a parte exploratória está cerca de 70% concluída. as partes 2 e 3 ainda não foram implementadas."
   ]
  },
  {
   "cell_type": "markdown",
   "metadata": {},
   "source": [
    "# Parte 1 - Análise Exploratória\n",
    "\n",
    "## Verificando a estrutura dos dados\n",
    "\n",
    "A base de dados possui 6 arquivos identificados como \"genome_scores.csv\", \"genome_tags.csv\", \"links.csv\", \"movies.csv\", \"ratings.csv\" e \"tags.csv\". Inicialmente vamos verificar o conteúdo dos arquivos (com a biblioteca pandas) e da documentação (http://files.grouplens.org/datasets/movielens/ml-20m-README.html). Após a primeira análise vamos poder criar algumas hipóteses."
   ]
  },
  {
   "cell_type": "code",
   "execution_count": 1,
   "metadata": {
    "collapsed": true
   },
   "outputs": [],
   "source": [
    "import pandas as pd\n",
    "import numpy as np\n",
    "import matplotlib.pyplot as plt\n",
    "import seaborn as sns"
   ]
  },
  {
   "cell_type": "code",
   "execution_count": 2,
   "metadata": {
    "collapsed": true
   },
   "outputs": [],
   "source": [
    "# importando os arquivos\n",
    "genome_scores = pd.read_csv(r\"ml-20m\\genome-scores.csv\")\n",
    "genome_tags = pd.read_csv(r\"ml-20m\\genome-tags.csv\")\n",
    "links = pd.read_csv(r\"ml-20m\\links.csv\")\n",
    "movies = pd.read_csv(r\"ml-20m\\movies.csv\")\n",
    "ratings = pd.read_csv(r\"ml-20m\\ratings.csv\")\n",
    "tags = pd.read_csv(r\"ml-20m\\tags.csv\")"
   ]
  },
  {
   "cell_type": "code",
   "execution_count": 3,
   "metadata": {
    "collapsed": true
   },
   "outputs": [],
   "source": [
    "# definindo novos dataframes para manter os originais intactos\n",
    "dt_gen_scores = genome_scores.copy()\n",
    "dt_gen_tags = genome_tags.copy()\n",
    "dt_movies = movies.copy()\n",
    "dt_ratings = ratings.copy()\n",
    "dt_tags = tags.copy()"
   ]
  },
  {
   "cell_type": "markdown",
   "metadata": {},
   "source": [
    "Definimos uma pequena função para mostrar algumas características básicas dos dataframes."
   ]
  },
  {
   "cell_type": "code",
   "execution_count": 4,
   "metadata": {
    "collapsed": true
   },
   "outputs": [],
   "source": [
    "def summary(dataframe):\n",
    "    print(\"head: \\n\")\n",
    "    print(dataframe.head(),\"\\n\")\n",
    "    print(\"info: \\n\")\n",
    "    print(dataframe.info(),\"\\n\")\n",
    "    print(\"describe: \\n\")\n",
    "    print(dataframe.describe(),\"\\n\")\n",
    "    print(\"isnull: \\n\")\n",
    "    print(dataframe.isnull().sum(),\"\\n\")\n",
    "    print(\"shape: \\n\")\n",
    "    print(dataframe.shape,\"\\n\")"
   ]
  },
  {
   "cell_type": "markdown",
   "metadata": {},
   "source": [
    "### Dataframes: dt_genome_scores e dt_genome_tags"
   ]
  },
  {
   "cell_type": "code",
   "execution_count": 5,
   "metadata": {
    "collapsed": false
   },
   "outputs": [
    {
     "name": "stdout",
     "output_type": "stream",
     "text": [
      "head: \n",
      "\n",
      "   movieId  tagId  relevance\n",
      "0        1      1    0.02500\n",
      "1        1      2    0.02500\n",
      "2        1      3    0.05775\n",
      "3        1      4    0.09675\n",
      "4        1      5    0.14675 \n",
      "\n",
      "info: \n",
      "\n",
      "<class 'pandas.core.frame.DataFrame'>\n",
      "RangeIndex: 11709768 entries, 0 to 11709767\n",
      "Data columns (total 3 columns):\n",
      "movieId      int64\n",
      "tagId        int64\n",
      "relevance    float64\n",
      "dtypes: float64(1), int64(2)\n",
      "memory usage: 268.0 MB\n",
      "None \n",
      "\n",
      "describe: \n",
      "\n",
      "            movieId         tagId     relevance\n",
      "count  1.170977e+07  1.170977e+07  1.170977e+07\n",
      "mean   2.584297e+04  5.645000e+02  1.164833e-01\n",
      "std    3.467615e+04  3.256254e+02  1.542463e-01\n",
      "min    1.000000e+00  1.000000e+00  2.500000e-04\n",
      "25%    2.926000e+03  2.827500e+02  2.425000e-02\n",
      "50%    6.017000e+03  5.645000e+02  5.650000e-02\n",
      "75%    4.606200e+04  8.462500e+02  1.415000e-01\n",
      "max    1.311700e+05  1.128000e+03  1.000000e+00 \n",
      "\n",
      "isnull: \n",
      "\n",
      "movieId      0\n",
      "tagId        0\n",
      "relevance    0\n",
      "dtype: int64 \n",
      "\n",
      "shape: \n",
      "\n",
      "(11709768, 3) \n",
      "\n"
     ]
    }
   ],
   "source": [
    "summary(dt_gen_scores)"
   ]
  },
  {
   "cell_type": "code",
   "execution_count": 6,
   "metadata": {
    "collapsed": false
   },
   "outputs": [
    {
     "name": "stdout",
     "output_type": "stream",
     "text": [
      "head: \n",
      "\n",
      "   tagId           tag\n",
      "0      1           007\n",
      "1      2  007 (series)\n",
      "2      3  18th century\n",
      "3      4         1920s\n",
      "4      5         1930s \n",
      "\n",
      "info: \n",
      "\n",
      "<class 'pandas.core.frame.DataFrame'>\n",
      "RangeIndex: 1128 entries, 0 to 1127\n",
      "Data columns (total 2 columns):\n",
      "tagId    1128 non-null int64\n",
      "tag      1128 non-null object\n",
      "dtypes: int64(1), object(1)\n",
      "memory usage: 17.7+ KB\n",
      "None \n",
      "\n",
      "describe: \n",
      "\n",
      "             tagId\n",
      "count  1128.000000\n",
      "mean    564.500000\n",
      "std     325.769857\n",
      "min       1.000000\n",
      "25%     282.750000\n",
      "50%     564.500000\n",
      "75%     846.250000\n",
      "max    1128.000000 \n",
      "\n",
      "isnull: \n",
      "\n",
      "tagId    0\n",
      "tag      0\n",
      "dtype: int64 \n",
      "\n",
      "shape: \n",
      "\n",
      "(1128, 2) \n",
      "\n"
     ]
    }
   ],
   "source": [
    "summary(dt_gen_tags)"
   ]
  },
  {
   "cell_type": "markdown",
   "metadata": {},
   "source": [
    "Da documentação temos que:\n",
    "'''The tag genome is a data structure that contains tag relevance scores for movies. The structure is a dense matrix: each\n",
    "movie in the genome has a value for every tag in the genome.\n",
    "As described in this article, the tag genome encodes how strongly movies exhibit particular properties represented by tags\n",
    "(atmospheric, thought-provoking, realistic, etc.). The tag genome was computed using a machine learning algorithm on \n",
    "user-contributed content including tags, ratings, and textual reviews.'''\n",
    "\n",
    "Existem 1128 tags e portanto cada filme possui 1128 valores de relevance Aparentemente temos algumas tags diferentes como *strings* e iguais no contexto:"
   ]
  },
  {
   "cell_type": "code",
   "execution_count": 7,
   "metadata": {
    "collapsed": false
   },
   "outputs": [
    {
     "name": "stdout",
     "output_type": "stream",
     "text": [
      "   tagId           tag\n",
      "0      1           007\n",
      "1      2  007 (series) \n",
      "\n",
      "   tagId           tag\n",
      "3      4         1920s\n",
      "4      5         1930s\n",
      "5      6         1950s\n",
      "6      7         1960s\n",
      "7      8         1970s\n",
      "8      9         1980s\n",
      "9     10  19th century\n"
     ]
    }
   ],
   "source": [
    "# verificando algumas possíveis tags repetidas\n",
    "print(dt_gen_tags[dt_gen_tags['tag'].str.contains('007')],\"\\n\")\n",
    "print(dt_gen_tags[dt_gen_tags['tag'].str.contains('19')])"
   ]
  },
  {
   "cell_type": "markdown",
   "metadata": {},
   "source": [
    "Inicialmente não vemos um problema nessas tags \"repetidas\", já que ainda não sabemos quantas repetem."
   ]
  },
  {
   "cell_type": "markdown",
   "metadata": {},
   "source": [
    "### Dataframe: dt_links"
   ]
  },
  {
   "cell_type": "code",
   "execution_count": 8,
   "metadata": {
    "collapsed": false
   },
   "outputs": [
    {
     "data": {
      "text/html": [
       "<div>\n",
       "<style scoped>\n",
       "    .dataframe tbody tr th:only-of-type {\n",
       "        vertical-align: middle;\n",
       "    }\n",
       "\n",
       "    .dataframe tbody tr th {\n",
       "        vertical-align: top;\n",
       "    }\n",
       "\n",
       "    .dataframe thead th {\n",
       "        text-align: right;\n",
       "    }\n",
       "</style>\n",
       "<table border=\"1\" class=\"dataframe\">\n",
       "  <thead>\n",
       "    <tr style=\"text-align: right;\">\n",
       "      <th></th>\n",
       "      <th>movieId</th>\n",
       "      <th>imdbId</th>\n",
       "      <th>tmdbId</th>\n",
       "    </tr>\n",
       "  </thead>\n",
       "  <tbody>\n",
       "    <tr>\n",
       "      <th>0</th>\n",
       "      <td>1</td>\n",
       "      <td>114709</td>\n",
       "      <td>862.0</td>\n",
       "    </tr>\n",
       "    <tr>\n",
       "      <th>1</th>\n",
       "      <td>2</td>\n",
       "      <td>113497</td>\n",
       "      <td>8844.0</td>\n",
       "    </tr>\n",
       "    <tr>\n",
       "      <th>2</th>\n",
       "      <td>3</td>\n",
       "      <td>113228</td>\n",
       "      <td>15602.0</td>\n",
       "    </tr>\n",
       "    <tr>\n",
       "      <th>3</th>\n",
       "      <td>4</td>\n",
       "      <td>114885</td>\n",
       "      <td>31357.0</td>\n",
       "    </tr>\n",
       "    <tr>\n",
       "      <th>4</th>\n",
       "      <td>5</td>\n",
       "      <td>113041</td>\n",
       "      <td>11862.0</td>\n",
       "    </tr>\n",
       "  </tbody>\n",
       "</table>\n",
       "</div>"
      ],
      "text/plain": [
       "   movieId  imdbId   tmdbId\n",
       "0        1  114709    862.0\n",
       "1        2  113497   8844.0\n",
       "2        3  113228  15602.0\n",
       "3        4  114885  31357.0\n",
       "4        5  113041  11862.0"
      ]
     },
     "execution_count": 8,
     "metadata": {},
     "output_type": "execute_result"
    }
   ],
   "source": [
    "links.head()"
   ]
  },
  {
   "cell_type": "markdown",
   "metadata": {},
   "source": [
    "### Dataframe: dt_movies"
   ]
  },
  {
   "cell_type": "code",
   "execution_count": 9,
   "metadata": {
    "collapsed": false
   },
   "outputs": [
    {
     "data": {
      "text/html": [
       "<div>\n",
       "<style scoped>\n",
       "    .dataframe tbody tr th:only-of-type {\n",
       "        vertical-align: middle;\n",
       "    }\n",
       "\n",
       "    .dataframe tbody tr th {\n",
       "        vertical-align: top;\n",
       "    }\n",
       "\n",
       "    .dataframe thead th {\n",
       "        text-align: right;\n",
       "    }\n",
       "</style>\n",
       "<table border=\"1\" class=\"dataframe\">\n",
       "  <thead>\n",
       "    <tr style=\"text-align: right;\">\n",
       "      <th></th>\n",
       "      <th>movieId</th>\n",
       "      <th>title</th>\n",
       "      <th>genres</th>\n",
       "    </tr>\n",
       "  </thead>\n",
       "  <tbody>\n",
       "    <tr>\n",
       "      <th>0</th>\n",
       "      <td>1</td>\n",
       "      <td>Toy Story (1995)</td>\n",
       "      <td>Adventure|Animation|Children|Comedy|Fantasy</td>\n",
       "    </tr>\n",
       "    <tr>\n",
       "      <th>1</th>\n",
       "      <td>2</td>\n",
       "      <td>Jumanji (1995)</td>\n",
       "      <td>Adventure|Children|Fantasy</td>\n",
       "    </tr>\n",
       "    <tr>\n",
       "      <th>2</th>\n",
       "      <td>3</td>\n",
       "      <td>Grumpier Old Men (1995)</td>\n",
       "      <td>Comedy|Romance</td>\n",
       "    </tr>\n",
       "    <tr>\n",
       "      <th>3</th>\n",
       "      <td>4</td>\n",
       "      <td>Waiting to Exhale (1995)</td>\n",
       "      <td>Comedy|Drama|Romance</td>\n",
       "    </tr>\n",
       "    <tr>\n",
       "      <th>4</th>\n",
       "      <td>5</td>\n",
       "      <td>Father of the Bride Part II (1995)</td>\n",
       "      <td>Comedy</td>\n",
       "    </tr>\n",
       "    <tr>\n",
       "      <th>5</th>\n",
       "      <td>6</td>\n",
       "      <td>Heat (1995)</td>\n",
       "      <td>Action|Crime|Thriller</td>\n",
       "    </tr>\n",
       "    <tr>\n",
       "      <th>6</th>\n",
       "      <td>7</td>\n",
       "      <td>Sabrina (1995)</td>\n",
       "      <td>Comedy|Romance</td>\n",
       "    </tr>\n",
       "    <tr>\n",
       "      <th>7</th>\n",
       "      <td>8</td>\n",
       "      <td>Tom and Huck (1995)</td>\n",
       "      <td>Adventure|Children</td>\n",
       "    </tr>\n",
       "    <tr>\n",
       "      <th>8</th>\n",
       "      <td>9</td>\n",
       "      <td>Sudden Death (1995)</td>\n",
       "      <td>Action</td>\n",
       "    </tr>\n",
       "    <tr>\n",
       "      <th>9</th>\n",
       "      <td>10</td>\n",
       "      <td>GoldenEye (1995)</td>\n",
       "      <td>Action|Adventure|Thriller</td>\n",
       "    </tr>\n",
       "    <tr>\n",
       "      <th>10</th>\n",
       "      <td>11</td>\n",
       "      <td>American President, The (1995)</td>\n",
       "      <td>Comedy|Drama|Romance</td>\n",
       "    </tr>\n",
       "    <tr>\n",
       "      <th>11</th>\n",
       "      <td>12</td>\n",
       "      <td>Dracula: Dead and Loving It (1995)</td>\n",
       "      <td>Comedy|Horror</td>\n",
       "    </tr>\n",
       "    <tr>\n",
       "      <th>12</th>\n",
       "      <td>13</td>\n",
       "      <td>Balto (1995)</td>\n",
       "      <td>Adventure|Animation|Children</td>\n",
       "    </tr>\n",
       "    <tr>\n",
       "      <th>13</th>\n",
       "      <td>14</td>\n",
       "      <td>Nixon (1995)</td>\n",
       "      <td>Drama</td>\n",
       "    </tr>\n",
       "    <tr>\n",
       "      <th>14</th>\n",
       "      <td>15</td>\n",
       "      <td>Cutthroat Island (1995)</td>\n",
       "      <td>Action|Adventure|Romance</td>\n",
       "    </tr>\n",
       "  </tbody>\n",
       "</table>\n",
       "</div>"
      ],
      "text/plain": [
       "    movieId                               title  \\\n",
       "0         1                    Toy Story (1995)   \n",
       "1         2                      Jumanji (1995)   \n",
       "2         3             Grumpier Old Men (1995)   \n",
       "3         4            Waiting to Exhale (1995)   \n",
       "4         5  Father of the Bride Part II (1995)   \n",
       "5         6                         Heat (1995)   \n",
       "6         7                      Sabrina (1995)   \n",
       "7         8                 Tom and Huck (1995)   \n",
       "8         9                 Sudden Death (1995)   \n",
       "9        10                    GoldenEye (1995)   \n",
       "10       11      American President, The (1995)   \n",
       "11       12  Dracula: Dead and Loving It (1995)   \n",
       "12       13                        Balto (1995)   \n",
       "13       14                        Nixon (1995)   \n",
       "14       15             Cutthroat Island (1995)   \n",
       "\n",
       "                                         genres  \n",
       "0   Adventure|Animation|Children|Comedy|Fantasy  \n",
       "1                    Adventure|Children|Fantasy  \n",
       "2                                Comedy|Romance  \n",
       "3                          Comedy|Drama|Romance  \n",
       "4                                        Comedy  \n",
       "5                         Action|Crime|Thriller  \n",
       "6                                Comedy|Romance  \n",
       "7                            Adventure|Children  \n",
       "8                                        Action  \n",
       "9                     Action|Adventure|Thriller  \n",
       "10                         Comedy|Drama|Romance  \n",
       "11                                Comedy|Horror  \n",
       "12                 Adventure|Animation|Children  \n",
       "13                                        Drama  \n",
       "14                     Action|Adventure|Romance  "
      ]
     },
     "execution_count": 9,
     "metadata": {},
     "output_type": "execute_result"
    }
   ],
   "source": [
    "dt_movies.head(15)"
   ]
  },
  {
   "cell_type": "markdown",
   "metadata": {},
   "source": [
    "### Dataframe: dt_ratings"
   ]
  },
  {
   "cell_type": "code",
   "execution_count": 10,
   "metadata": {
    "collapsed": false
   },
   "outputs": [
    {
     "data": {
      "text/html": [
       "<div>\n",
       "<style scoped>\n",
       "    .dataframe tbody tr th:only-of-type {\n",
       "        vertical-align: middle;\n",
       "    }\n",
       "\n",
       "    .dataframe tbody tr th {\n",
       "        vertical-align: top;\n",
       "    }\n",
       "\n",
       "    .dataframe thead th {\n",
       "        text-align: right;\n",
       "    }\n",
       "</style>\n",
       "<table border=\"1\" class=\"dataframe\">\n",
       "  <thead>\n",
       "    <tr style=\"text-align: right;\">\n",
       "      <th></th>\n",
       "      <th>userId</th>\n",
       "      <th>movieId</th>\n",
       "      <th>rating</th>\n",
       "      <th>timestamp</th>\n",
       "    </tr>\n",
       "  </thead>\n",
       "  <tbody>\n",
       "    <tr>\n",
       "      <th>0</th>\n",
       "      <td>1</td>\n",
       "      <td>2</td>\n",
       "      <td>3.5</td>\n",
       "      <td>1112486027</td>\n",
       "    </tr>\n",
       "    <tr>\n",
       "      <th>1</th>\n",
       "      <td>1</td>\n",
       "      <td>29</td>\n",
       "      <td>3.5</td>\n",
       "      <td>1112484676</td>\n",
       "    </tr>\n",
       "    <tr>\n",
       "      <th>2</th>\n",
       "      <td>1</td>\n",
       "      <td>32</td>\n",
       "      <td>3.5</td>\n",
       "      <td>1112484819</td>\n",
       "    </tr>\n",
       "    <tr>\n",
       "      <th>3</th>\n",
       "      <td>1</td>\n",
       "      <td>47</td>\n",
       "      <td>3.5</td>\n",
       "      <td>1112484727</td>\n",
       "    </tr>\n",
       "    <tr>\n",
       "      <th>4</th>\n",
       "      <td>1</td>\n",
       "      <td>50</td>\n",
       "      <td>3.5</td>\n",
       "      <td>1112484580</td>\n",
       "    </tr>\n",
       "  </tbody>\n",
       "</table>\n",
       "</div>"
      ],
      "text/plain": [
       "   userId  movieId  rating   timestamp\n",
       "0       1        2     3.5  1112486027\n",
       "1       1       29     3.5  1112484676\n",
       "2       1       32     3.5  1112484819\n",
       "3       1       47     3.5  1112484727\n",
       "4       1       50     3.5  1112484580"
      ]
     },
     "execution_count": 10,
     "metadata": {},
     "output_type": "execute_result"
    }
   ],
   "source": [
    "dt_ratings.head()"
   ]
  },
  {
   "cell_type": "markdown",
   "metadata": {},
   "source": [
    "**Dataframe: dt_tags**"
   ]
  },
  {
   "cell_type": "code",
   "execution_count": 11,
   "metadata": {
    "collapsed": false
   },
   "outputs": [
    {
     "data": {
      "text/html": [
       "<div>\n",
       "<style scoped>\n",
       "    .dataframe tbody tr th:only-of-type {\n",
       "        vertical-align: middle;\n",
       "    }\n",
       "\n",
       "    .dataframe tbody tr th {\n",
       "        vertical-align: top;\n",
       "    }\n",
       "\n",
       "    .dataframe thead th {\n",
       "        text-align: right;\n",
       "    }\n",
       "</style>\n",
       "<table border=\"1\" class=\"dataframe\">\n",
       "  <thead>\n",
       "    <tr style=\"text-align: right;\">\n",
       "      <th></th>\n",
       "      <th>userId</th>\n",
       "      <th>movieId</th>\n",
       "      <th>tag</th>\n",
       "      <th>timestamp</th>\n",
       "    </tr>\n",
       "  </thead>\n",
       "  <tbody>\n",
       "    <tr>\n",
       "      <th>0</th>\n",
       "      <td>18</td>\n",
       "      <td>4141</td>\n",
       "      <td>Mark Waters</td>\n",
       "      <td>1240597180</td>\n",
       "    </tr>\n",
       "    <tr>\n",
       "      <th>1</th>\n",
       "      <td>65</td>\n",
       "      <td>208</td>\n",
       "      <td>dark hero</td>\n",
       "      <td>1368150078</td>\n",
       "    </tr>\n",
       "    <tr>\n",
       "      <th>2</th>\n",
       "      <td>65</td>\n",
       "      <td>353</td>\n",
       "      <td>dark hero</td>\n",
       "      <td>1368150079</td>\n",
       "    </tr>\n",
       "    <tr>\n",
       "      <th>3</th>\n",
       "      <td>65</td>\n",
       "      <td>521</td>\n",
       "      <td>noir thriller</td>\n",
       "      <td>1368149983</td>\n",
       "    </tr>\n",
       "    <tr>\n",
       "      <th>4</th>\n",
       "      <td>65</td>\n",
       "      <td>592</td>\n",
       "      <td>dark hero</td>\n",
       "      <td>1368150078</td>\n",
       "    </tr>\n",
       "  </tbody>\n",
       "</table>\n",
       "</div>"
      ],
      "text/plain": [
       "   userId  movieId            tag   timestamp\n",
       "0      18     4141    Mark Waters  1240597180\n",
       "1      65      208      dark hero  1368150078\n",
       "2      65      353      dark hero  1368150079\n",
       "3      65      521  noir thriller  1368149983\n",
       "4      65      592      dark hero  1368150078"
      ]
     },
     "execution_count": 11,
     "metadata": {},
     "output_type": "execute_result"
    }
   ],
   "source": [
    "# da documentação:\n",
    "'''Tags are user-generated metadata about movies. Each tag is typically a single word or short phrase. The meaning, value,\n",
    "and purpose of a particular tag is determined by each user.'''\n",
    "dt_tags.head()"
   ]
  },
  {
   "cell_type": "markdown",
   "metadata": {},
   "source": [
    "## Perguntas\n",
    "\n",
    "Após a primeira verificação dos dados decidiu-se focar nos dados contidos nos dataframes \"dt_movies\" e \"dt_ratings\". A partir destes haverá uma etapa de feature engineering com o objetivo de responder as perguntas a seguir:  \n",
    "-  Quantas avaliações em média tem um filme?\n",
    "-  Qual o número de vezes mínimo significativo que um filme foi avaliado?\n",
    "-  Existe alguma relação entre o gênero do filme e o padrão de avaliação dos usuários?  \n",
    "-  Existe correlação entre os gêneros de filme? Usuários que gostam de um gênero também gostam de outro(s)?\n",
    "-  Existe correlação entre o ano de lançamento do filme  e a avaliação?\n",
    "-  Existe correlação entre a hora do dia e a avaliação que o usuário dá para um filme?\n",
    "-  Existe correlação entre variedade de gênero de um filme e sua avaliação?\n",
    "\n",
    "### Feature engineering\n",
    "\n",
    "**Dataframe: dt_movies**\n",
    "Este dataset apresenta duas características que podem ser usadas como variáveis separadas: em \"title\" podemos separar o título do filme em título e ano; o gênero é interessante separar em uma matriz esparsa binária (1 se o filme possui o gênero e 0 caso contrário).\n",
    "Para extrair o ano de lançamento do filme **vamos assumir** que este é informado como uma sequência de 4 números na coluna que contém o título."
   ]
  },
  {
   "cell_type": "code",
   "execution_count": 12,
   "metadata": {
    "collapsed": false
   },
   "outputs": [
    {
     "data": {
      "text/html": [
       "<div>\n",
       "<style scoped>\n",
       "    .dataframe tbody tr th:only-of-type {\n",
       "        vertical-align: middle;\n",
       "    }\n",
       "\n",
       "    .dataframe tbody tr th {\n",
       "        vertical-align: top;\n",
       "    }\n",
       "\n",
       "    .dataframe thead th {\n",
       "        text-align: right;\n",
       "    }\n",
       "</style>\n",
       "<table border=\"1\" class=\"dataframe\">\n",
       "  <thead>\n",
       "    <tr style=\"text-align: right;\">\n",
       "      <th></th>\n",
       "      <th>movieId</th>\n",
       "      <th>title</th>\n",
       "      <th>genres</th>\n",
       "      <th>release_date</th>\n",
       "    </tr>\n",
       "  </thead>\n",
       "  <tbody>\n",
       "    <tr>\n",
       "      <th>0</th>\n",
       "      <td>1</td>\n",
       "      <td>Toy Story (1995)</td>\n",
       "      <td>Adventure|Animation|Children|Comedy|Fantasy</td>\n",
       "      <td>1995.0</td>\n",
       "    </tr>\n",
       "    <tr>\n",
       "      <th>1</th>\n",
       "      <td>2</td>\n",
       "      <td>Jumanji (1995)</td>\n",
       "      <td>Adventure|Children|Fantasy</td>\n",
       "      <td>1995.0</td>\n",
       "    </tr>\n",
       "    <tr>\n",
       "      <th>2</th>\n",
       "      <td>3</td>\n",
       "      <td>Grumpier Old Men (1995)</td>\n",
       "      <td>Comedy|Romance</td>\n",
       "      <td>1995.0</td>\n",
       "    </tr>\n",
       "    <tr>\n",
       "      <th>3</th>\n",
       "      <td>4</td>\n",
       "      <td>Waiting to Exhale (1995)</td>\n",
       "      <td>Comedy|Drama|Romance</td>\n",
       "      <td>1995.0</td>\n",
       "    </tr>\n",
       "    <tr>\n",
       "      <th>4</th>\n",
       "      <td>5</td>\n",
       "      <td>Father of the Bride Part II (1995)</td>\n",
       "      <td>Comedy</td>\n",
       "      <td>1995.0</td>\n",
       "    </tr>\n",
       "  </tbody>\n",
       "</table>\n",
       "</div>"
      ],
      "text/plain": [
       "   movieId                               title  \\\n",
       "0        1                    Toy Story (1995)   \n",
       "1        2                      Jumanji (1995)   \n",
       "2        3             Grumpier Old Men (1995)   \n",
       "3        4            Waiting to Exhale (1995)   \n",
       "4        5  Father of the Bride Part II (1995)   \n",
       "\n",
       "                                        genres  release_date  \n",
       "0  Adventure|Animation|Children|Comedy|Fantasy        1995.0  \n",
       "1                   Adventure|Children|Fantasy        1995.0  \n",
       "2                               Comedy|Romance        1995.0  \n",
       "3                         Comedy|Drama|Romance        1995.0  \n",
       "4                                       Comedy        1995.0  "
      ]
     },
     "execution_count": 12,
     "metadata": {},
     "output_type": "execute_result"
    }
   ],
   "source": [
    "# coluna para o ano de lançamento\n",
    "dt_movies['release_date'] = dt_movies['title'].str.extract('(\\d{4})')\n",
    "dt_movies['release_date'] = pd.to_numeric(dt_movies['release_date'],errors='coerce',downcast='integer')\n",
    "dt_movies.head()"
   ]
  },
  {
   "cell_type": "markdown",
   "metadata": {},
   "source": [
    "Devemos verificar se todos os filmes possuem o ano de lançamento informado como assumimos."
   ]
  },
  {
   "cell_type": "code",
   "execution_count": 13,
   "metadata": {
    "collapsed": false
   },
   "outputs": [
    {
     "data": {
      "text/plain": [
       "19"
      ]
     },
     "execution_count": 13,
     "metadata": {},
     "output_type": "execute_result"
    }
   ],
   "source": [
    "dt_movies['release_date'].isnull().sum()"
   ]
  },
  {
   "cell_type": "code",
   "execution_count": 14,
   "metadata": {
    "collapsed": false
   },
   "outputs": [
    {
     "data": {
      "text/plain": [
       "9500.0"
      ]
     },
     "execution_count": 14,
     "metadata": {},
     "output_type": "execute_result"
    }
   ],
   "source": [
    "dt_movies['release_date'].max()"
   ]
  },
  {
   "cell_type": "code",
   "execution_count": 15,
   "metadata": {
    "collapsed": false
   },
   "outputs": [
    {
     "name": "stdout",
     "output_type": "stream",
     "text": [
      "       movieId                                              title  \\\n",
      "662        671     Mystery Science Theater 3000: The Movie (1996)   \n",
      "2223      2308                                Detroit 9000 (1973)   \n",
      "4065      4159                     3000 Miles to Graceland (2001)   \n",
      "5213      5310                         Transylvania 6-5000 (1985)   \n",
      "8181      8864                                    Mr. 3000 (2004)   \n",
      "9255     27266                                        2046 (2004)   \n",
      "9494     27800  Interstella 5555: The 5tory of the 5ecret 5tar...   \n",
      "16724    84551                                   44500 Max (2009)   \n",
      "18047    90460            2019: After the Fall of New York (1983)   \n",
      "18286    91421                               Red Line 7000 (1965)   \n",
      "18578    92477                              Yes: 9012 Live (1985)   \n",
      "19660    97242           Daleks' Invasion Earth: 2150 A.D. (1966)   \n",
      "19844    98019      Vexille (Bekushiru: 2077 Nihon sakoku) (2007)   \n",
      "20663   101237                                9500 Liberty (2009)   \n",
      "21050   102762                 My Wrongs 8245-8249 and 117 (2002)   \n",
      "21077   102856                                   3096 Days (2013)   \n",
      "21630   104798                      6954 Kilometriä Kotiin (2012)   \n",
      "22741   108862  New Gladiators (I guerrieri dell'anno 2072) (1...   \n",
      "22854   109277                             Love Story 2050 (2008)   \n",
      "23501   111856                                        7500 (2014)   \n",
      "23816   113143                                America 3000 (1986)   \n",
      "24020   113968                                        2081 (2009)   \n",
      "\n",
      "                                           genres  release_date  \n",
      "662                                 Comedy|Sci-Fi        3000.0  \n",
      "2223                                 Action|Crime        9000.0  \n",
      "4065                              Action|Thriller        3000.0  \n",
      "5213                                Comedy|Horror        5000.0  \n",
      "8181                                 Comedy|Drama        3000.0  \n",
      "9255                 Drama|Fantasy|Romance|Sci-Fi        2046.0  \n",
      "9494   Adventure|Animation|Fantasy|Musical|Sci-Fi        5555.0  \n",
      "16724                                 Documentary        4450.0  \n",
      "18047                        Action|Horror|Sci-Fi        2019.0  \n",
      "18286                                Action|Drama        7000.0  \n",
      "18578                         Documentary|Musical        9012.0  \n",
      "19660                            Adventure|Sci-Fi        2150.0  \n",
      "19844                     Action|Animation|Sci-Fi        2077.0  \n",
      "20663                                 Documentary        9500.0  \n",
      "21050                                Comedy|Drama        8245.0  \n",
      "21077                                       Drama        3096.0  \n",
      "21630                                 Documentary        6954.0  \n",
      "22741                        Action|Drama|Mystery        2072.0  \n",
      "22854     Adventure|Comedy|Musical|Romance|Sci-Fi        2050.0  \n",
      "23501              Action|Horror|Mystery|Thriller        7500.0  \n",
      "23816                     Action|Adventure|Sci-Fi        3000.0  \n",
      "24020                               Action|Sci-Fi        2081.0  \n"
     ]
    }
   ],
   "source": [
    "print(dt_movies[dt_movies['release_date']>2018])"
   ]
  },
  {
   "cell_type": "markdown",
   "metadata": {},
   "source": [
    "Há 19 filmes que não possuem uma sequência de 4 dígitos seguidos no título. Assumiremos que o ano de lançamento não foi informado. Em princípio não parece haver necessidade de tirar o ano do título do filme. Há também filmes que possuem quatro dígitos seguidos no título, já que o número é pequeno vamos colocar os anos corretos manualmente."
   ]
  },
  {
   "cell_type": "code",
   "execution_count": 16,
   "metadata": {
    "collapsed": true
   },
   "outputs": [],
   "source": [
    "rel_date_indices = dt_movies.index[dt_movies['release_date']>2018]"
   ]
  },
  {
   "cell_type": "code",
   "execution_count": 17,
   "metadata": {
    "collapsed": true
   },
   "outputs": [],
   "source": [
    "rel_date_values = dt_movies['title'][rel_date_indices].str[-5:-1]"
   ]
  },
  {
   "cell_type": "code",
   "execution_count": 18,
   "metadata": {
    "collapsed": false
   },
   "outputs": [
    {
     "name": "stderr",
     "output_type": "stream",
     "text": [
      "C:\\Users\\Ninja\\Anaconda2\\envs\\tensorflow\\lib\\site-packages\\ipykernel\\__main__.py:1: SettingWithCopyWarning: \n",
      "A value is trying to be set on a copy of a slice from a DataFrame\n",
      "\n",
      "See the caveats in the documentation: http://pandas.pydata.org/pandas-docs/stable/indexing.html#indexing-view-versus-copy\n",
      "  if __name__ == '__main__':\n"
     ]
    }
   ],
   "source": [
    "dt_movies['release_date'][rel_date_indices] =  rel_date_values.values"
   ]
  },
  {
   "cell_type": "code",
   "execution_count": 19,
   "metadata": {
    "collapsed": false
   },
   "outputs": [
    {
     "data": {
      "text/plain": [
       "662      1996\n",
       "2223     1973\n",
       "4065     2001\n",
       "5213     1985\n",
       "8181     2004\n",
       "9255     2004\n",
       "9494     2003\n",
       "16724    2009\n",
       "18047    1983\n",
       "18286    1965\n",
       "18578    1985\n",
       "19660    1966\n",
       "19844    2007\n",
       "20663    2009\n",
       "21050    2002\n",
       "21077    2013\n",
       "21630    2012\n",
       "22741    1984\n",
       "22854    2008\n",
       "23501    2014\n",
       "23816    1986\n",
       "24020    2009\n",
       "Name: release_date, dtype: object"
      ]
     },
     "execution_count": 19,
     "metadata": {},
     "output_type": "execute_result"
    }
   ],
   "source": [
    "dt_movies['release_date'][rel_date_indices]"
   ]
  },
  {
   "cell_type": "markdown",
   "metadata": {},
   "source": [
    "Vemos agora para o caso de 1uatro dígitos menor que 1850."
   ]
  },
  {
   "cell_type": "code",
   "execution_count": 20,
   "metadata": {
    "collapsed": false,
    "scrolled": true
   },
   "outputs": [
    {
     "name": "stdout",
     "output_type": "stream",
     "text": [
      "       movieId                                              title  \\\n",
      "1388      1422                              Murder at 1600 (1997)   \n",
      "4216      4311  Bloody Angels (1732 Høtten: Marerittet har et ...   \n",
      "5375      5472                                        1776 (1972)   \n",
      "6191      6290                       House of 1000 Corpses (2003)   \n",
      "6535      6645                                    THX 1138 (1971)   \n",
      "7695      8198  1000 Eyes of Dr. Mabuse, The (Die 1000 Augen d...   \n",
      "8222      8905                  1492: Conquest of Paradise (1992)   \n",
      "11964    53953                                        1408 (2007)   \n",
      "13750    68874  Jeanne Dielman, 23 Quai du Commerce, 1080 Brux...   \n",
      "14768    73862  Note by Note: The Making of Steinway L1037 (2007)   \n",
      "14878    74491                                        1066 (2009)   \n",
      "16103    81453                                   Dial 1119 (1950)   \n",
      "17116    86637             1612: Khroniki smutnogo vremeni (2007)   \n",
      "21163   103130                                      AM1200 (2008)   \n",
      "22287   107155  Captive Women (1000 Years from Now) (3000 A.D....   \n",
      "22922   109514                              Apartment 1303 (2007)   \n",
      "22923   109516                           Apartment 1303 3D (2012)   \n",
      "23297   110867                  Conquest 1453 (Fetih 1453) (2012)   \n",
      "24204   114721   Bugs Bunny's 3rd Movie: 1001 Rabbit Tales (1982)   \n",
      "24537   116157           Electronic Labyrinth THX 1138 4EB (1967)   \n",
      "26279   126164                                 1001 Nights (1990)   \n",
      "26429   126999                               1000 Journals (2007)   \n",
      "\n",
      "                                    genres  release_date  \n",
      "1388          Crime|Drama|Mystery|Thriller        1600.0  \n",
      "4216                              Thriller        1732.0  \n",
      "5375                Children|Drama|Musical        1776.0  \n",
      "6191                                Horror        1000.0  \n",
      "6535         Action|Adventure|Drama|Sci-Fi        1138.0  \n",
      "7695         Crime|Horror|Mystery|Thriller        1000.0  \n",
      "8222                       Adventure|Drama        1492.0  \n",
      "11964                Drama|Horror|Thriller        1408.0  \n",
      "13750                                Drama        1080.0  \n",
      "14768                          Documentary        1037.0  \n",
      "14878                 Action|Adventure|War        1066.0  \n",
      "16103                Crime|Drama|Film-Noir        1119.0  \n",
      "17116                    Drama|Fantasy|War        1612.0  \n",
      "21163                               Horror        1200.0  \n",
      "22287                               Sci-Fi        1000.0  \n",
      "22922                               Horror        1303.0  \n",
      "22923                               Horror        1303.0  \n",
      "23297           Action|Adventure|Drama|War        1453.0  \n",
      "24204  Adventure|Animation|Children|Comedy        1001.0  \n",
      "24537                               Sci-Fi        1138.0  \n",
      "26279             Adventure|Comedy|Fantasy        1001.0  \n",
      "26429                   (no genres listed)        1000.0  \n"
     ]
    }
   ],
   "source": [
    "dt_movies['release_date'] = pd.to_numeric(dt_movies['release_date'],errors='coerce',downcast='integer')\n",
    "print(dt_movies[dt_movies['release_date']<1850])"
   ]
  },
  {
   "cell_type": "code",
   "execution_count": 21,
   "metadata": {
    "collapsed": false
   },
   "outputs": [
    {
     "name": "stderr",
     "output_type": "stream",
     "text": [
      "C:\\Users\\Ninja\\Anaconda2\\envs\\tensorflow\\lib\\site-packages\\ipykernel\\__main__.py:3: SettingWithCopyWarning: \n",
      "A value is trying to be set on a copy of a slice from a DataFrame\n",
      "\n",
      "See the caveats in the documentation: http://pandas.pydata.org/pandas-docs/stable/indexing.html#indexing-view-versus-copy\n",
      "  app.launch_new_instance()\n"
     ]
    },
    {
     "data": {
      "text/plain": [
       "1388     1997\n",
       "4216     1998\n",
       "5375     1972\n",
       "6191     2003\n",
       "6535     1971\n",
       "7695     1960\n",
       "8222     1992\n",
       "11964    2007\n",
       "13750    1975\n",
       "14768    2007\n",
       "14878    2009\n",
       "16103    1950\n",
       "17116    2007\n",
       "21163    2008\n",
       "22287    1952\n",
       "22922    2007\n",
       "22923    2012\n",
       "23297    2012\n",
       "24204    1982\n",
       "24537    1967\n",
       "26279    1990\n",
       "26429    2007\n",
       "Name: release_date, dtype: object"
      ]
     },
     "execution_count": 21,
     "metadata": {},
     "output_type": "execute_result"
    }
   ],
   "source": [
    "rel_date_indices_min = dt_movies.index[dt_movies['release_date']<1850]\n",
    "rel_date_values_min = dt_movies['title'][rel_date_indices_min].str[-5:-1]\n",
    "dt_movies['release_date'][rel_date_indices_min] =  rel_date_values_min.values\n",
    "dt_movies['release_date'][rel_date_indices_min]\n"
   ]
  },
  {
   "cell_type": "code",
   "execution_count": 22,
   "metadata": {
    "collapsed": false
   },
   "outputs": [
    {
     "name": "stdout",
     "output_type": "stream",
     "text": [
      "2016.0\n",
      "1861.0\n"
     ]
    }
   ],
   "source": [
    "dt_movies['release_date'] = pd.to_numeric(dt_movies['release_date'],errors='coerce',downcast='integer')\n",
    "print(dt_movies['release_date'].max())\n",
    "print(dt_movies['release_date'].min())"
   ]
  },
  {
   "cell_type": "markdown",
   "metadata": {},
   "source": [
    "Para escrever a matriz dos gêneros separamos cada gênero informado pelo delimitador \"|\" e adicionamos o prefixo \"gen:\" para evitar uma possível confusão."
   ]
  },
  {
   "cell_type": "code",
   "execution_count": 23,
   "metadata": {
    "collapsed": false
   },
   "outputs": [
    {
     "data": {
      "text/html": [
       "<div>\n",
       "<style scoped>\n",
       "    .dataframe tbody tr th:only-of-type {\n",
       "        vertical-align: middle;\n",
       "    }\n",
       "\n",
       "    .dataframe tbody tr th {\n",
       "        vertical-align: top;\n",
       "    }\n",
       "\n",
       "    .dataframe thead th {\n",
       "        text-align: right;\n",
       "    }\n",
       "</style>\n",
       "<table border=\"1\" class=\"dataframe\">\n",
       "  <thead>\n",
       "    <tr style=\"text-align: right;\">\n",
       "      <th></th>\n",
       "      <th>gen:(no genres listed)</th>\n",
       "      <th>gen:Action</th>\n",
       "      <th>gen:Adventure</th>\n",
       "      <th>gen:Animation</th>\n",
       "      <th>gen:Children</th>\n",
       "      <th>gen:Comedy</th>\n",
       "      <th>gen:Crime</th>\n",
       "      <th>gen:Documentary</th>\n",
       "      <th>gen:Drama</th>\n",
       "      <th>gen:Fantasy</th>\n",
       "      <th>gen:Film-Noir</th>\n",
       "      <th>gen:Horror</th>\n",
       "      <th>gen:IMAX</th>\n",
       "      <th>gen:Musical</th>\n",
       "      <th>gen:Mystery</th>\n",
       "      <th>gen:Romance</th>\n",
       "      <th>gen:Sci-Fi</th>\n",
       "      <th>gen:Thriller</th>\n",
       "      <th>gen:War</th>\n",
       "      <th>gen:Western</th>\n",
       "    </tr>\n",
       "  </thead>\n",
       "  <tbody>\n",
       "    <tr>\n",
       "      <th>0</th>\n",
       "      <td>0</td>\n",
       "      <td>0</td>\n",
       "      <td>1</td>\n",
       "      <td>1</td>\n",
       "      <td>1</td>\n",
       "      <td>1</td>\n",
       "      <td>0</td>\n",
       "      <td>0</td>\n",
       "      <td>0</td>\n",
       "      <td>1</td>\n",
       "      <td>0</td>\n",
       "      <td>0</td>\n",
       "      <td>0</td>\n",
       "      <td>0</td>\n",
       "      <td>0</td>\n",
       "      <td>0</td>\n",
       "      <td>0</td>\n",
       "      <td>0</td>\n",
       "      <td>0</td>\n",
       "      <td>0</td>\n",
       "    </tr>\n",
       "    <tr>\n",
       "      <th>1</th>\n",
       "      <td>0</td>\n",
       "      <td>0</td>\n",
       "      <td>1</td>\n",
       "      <td>0</td>\n",
       "      <td>1</td>\n",
       "      <td>0</td>\n",
       "      <td>0</td>\n",
       "      <td>0</td>\n",
       "      <td>0</td>\n",
       "      <td>1</td>\n",
       "      <td>0</td>\n",
       "      <td>0</td>\n",
       "      <td>0</td>\n",
       "      <td>0</td>\n",
       "      <td>0</td>\n",
       "      <td>0</td>\n",
       "      <td>0</td>\n",
       "      <td>0</td>\n",
       "      <td>0</td>\n",
       "      <td>0</td>\n",
       "    </tr>\n",
       "    <tr>\n",
       "      <th>2</th>\n",
       "      <td>0</td>\n",
       "      <td>0</td>\n",
       "      <td>0</td>\n",
       "      <td>0</td>\n",
       "      <td>0</td>\n",
       "      <td>1</td>\n",
       "      <td>0</td>\n",
       "      <td>0</td>\n",
       "      <td>0</td>\n",
       "      <td>0</td>\n",
       "      <td>0</td>\n",
       "      <td>0</td>\n",
       "      <td>0</td>\n",
       "      <td>0</td>\n",
       "      <td>0</td>\n",
       "      <td>1</td>\n",
       "      <td>0</td>\n",
       "      <td>0</td>\n",
       "      <td>0</td>\n",
       "      <td>0</td>\n",
       "    </tr>\n",
       "    <tr>\n",
       "      <th>3</th>\n",
       "      <td>0</td>\n",
       "      <td>0</td>\n",
       "      <td>0</td>\n",
       "      <td>0</td>\n",
       "      <td>0</td>\n",
       "      <td>1</td>\n",
       "      <td>0</td>\n",
       "      <td>0</td>\n",
       "      <td>1</td>\n",
       "      <td>0</td>\n",
       "      <td>0</td>\n",
       "      <td>0</td>\n",
       "      <td>0</td>\n",
       "      <td>0</td>\n",
       "      <td>0</td>\n",
       "      <td>1</td>\n",
       "      <td>0</td>\n",
       "      <td>0</td>\n",
       "      <td>0</td>\n",
       "      <td>0</td>\n",
       "    </tr>\n",
       "    <tr>\n",
       "      <th>4</th>\n",
       "      <td>0</td>\n",
       "      <td>0</td>\n",
       "      <td>0</td>\n",
       "      <td>0</td>\n",
       "      <td>0</td>\n",
       "      <td>1</td>\n",
       "      <td>0</td>\n",
       "      <td>0</td>\n",
       "      <td>0</td>\n",
       "      <td>0</td>\n",
       "      <td>0</td>\n",
       "      <td>0</td>\n",
       "      <td>0</td>\n",
       "      <td>0</td>\n",
       "      <td>0</td>\n",
       "      <td>0</td>\n",
       "      <td>0</td>\n",
       "      <td>0</td>\n",
       "      <td>0</td>\n",
       "      <td>0</td>\n",
       "    </tr>\n",
       "  </tbody>\n",
       "</table>\n",
       "</div>"
      ],
      "text/plain": [
       "   gen:(no genres listed)  gen:Action  gen:Adventure  gen:Animation  \\\n",
       "0                       0           0              1              1   \n",
       "1                       0           0              1              0   \n",
       "2                       0           0              0              0   \n",
       "3                       0           0              0              0   \n",
       "4                       0           0              0              0   \n",
       "\n",
       "   gen:Children  gen:Comedy  gen:Crime  gen:Documentary  gen:Drama  \\\n",
       "0             1           1          0                0          0   \n",
       "1             1           0          0                0          0   \n",
       "2             0           1          0                0          0   \n",
       "3             0           1          0                0          1   \n",
       "4             0           1          0                0          0   \n",
       "\n",
       "   gen:Fantasy  gen:Film-Noir  gen:Horror  gen:IMAX  gen:Musical  gen:Mystery  \\\n",
       "0            1              0           0         0            0            0   \n",
       "1            1              0           0         0            0            0   \n",
       "2            0              0           0         0            0            0   \n",
       "3            0              0           0         0            0            0   \n",
       "4            0              0           0         0            0            0   \n",
       "\n",
       "   gen:Romance  gen:Sci-Fi  gen:Thriller  gen:War  gen:Western  \n",
       "0            0           0             0        0            0  \n",
       "1            0           0             0        0            0  \n",
       "2            1           0             0        0            0  \n",
       "3            1           0             0        0            0  \n",
       "4            0           0             0        0            0  "
      ]
     },
     "execution_count": 23,
     "metadata": {},
     "output_type": "execute_result"
    }
   ],
   "source": [
    "movies_gen = pd.get_dummies(movies['genres'].str.split('|',expand=True).stack()).sum(level=0).add_prefix('gen:')\n",
    "movies_gen.head()"
   ]
  },
  {
   "cell_type": "code",
   "execution_count": 24,
   "metadata": {
    "collapsed": false
   },
   "outputs": [
    {
     "data": {
      "text/plain": [
       "(27278, 20)"
      ]
     },
     "execution_count": 24,
     "metadata": {},
     "output_type": "execute_result"
    }
   ],
   "source": [
    "movies_gen.shape"
   ]
  },
  {
   "cell_type": "code",
   "execution_count": 25,
   "metadata": {
    "collapsed": false
   },
   "outputs": [
    {
     "data": {
      "text/html": [
       "<div>\n",
       "<style scoped>\n",
       "    .dataframe tbody tr th:only-of-type {\n",
       "        vertical-align: middle;\n",
       "    }\n",
       "\n",
       "    .dataframe tbody tr th {\n",
       "        vertical-align: top;\n",
       "    }\n",
       "\n",
       "    .dataframe thead th {\n",
       "        text-align: right;\n",
       "    }\n",
       "</style>\n",
       "<table border=\"1\" class=\"dataframe\">\n",
       "  <thead>\n",
       "    <tr style=\"text-align: right;\">\n",
       "      <th></th>\n",
       "      <th>gen:(no genres listed)</th>\n",
       "      <th>gen:Action</th>\n",
       "      <th>gen:Adventure</th>\n",
       "      <th>gen:Animation</th>\n",
       "      <th>gen:Children</th>\n",
       "      <th>gen:Comedy</th>\n",
       "      <th>gen:Crime</th>\n",
       "      <th>gen:Documentary</th>\n",
       "      <th>gen:Drama</th>\n",
       "      <th>gen:Fantasy</th>\n",
       "      <th>...</th>\n",
       "      <th>gen:Horror</th>\n",
       "      <th>gen:IMAX</th>\n",
       "      <th>gen:Musical</th>\n",
       "      <th>gen:Mystery</th>\n",
       "      <th>gen:Romance</th>\n",
       "      <th>gen:Sci-Fi</th>\n",
       "      <th>gen:Thriller</th>\n",
       "      <th>gen:War</th>\n",
       "      <th>gen:Western</th>\n",
       "      <th>num_gen</th>\n",
       "    </tr>\n",
       "  </thead>\n",
       "  <tbody>\n",
       "    <tr>\n",
       "      <th>0</th>\n",
       "      <td>0</td>\n",
       "      <td>0</td>\n",
       "      <td>1</td>\n",
       "      <td>1</td>\n",
       "      <td>1</td>\n",
       "      <td>1</td>\n",
       "      <td>0</td>\n",
       "      <td>0</td>\n",
       "      <td>0</td>\n",
       "      <td>1</td>\n",
       "      <td>...</td>\n",
       "      <td>0</td>\n",
       "      <td>0</td>\n",
       "      <td>0</td>\n",
       "      <td>0</td>\n",
       "      <td>0</td>\n",
       "      <td>0</td>\n",
       "      <td>0</td>\n",
       "      <td>0</td>\n",
       "      <td>0</td>\n",
       "      <td>5</td>\n",
       "    </tr>\n",
       "    <tr>\n",
       "      <th>1</th>\n",
       "      <td>0</td>\n",
       "      <td>0</td>\n",
       "      <td>1</td>\n",
       "      <td>0</td>\n",
       "      <td>1</td>\n",
       "      <td>0</td>\n",
       "      <td>0</td>\n",
       "      <td>0</td>\n",
       "      <td>0</td>\n",
       "      <td>1</td>\n",
       "      <td>...</td>\n",
       "      <td>0</td>\n",
       "      <td>0</td>\n",
       "      <td>0</td>\n",
       "      <td>0</td>\n",
       "      <td>0</td>\n",
       "      <td>0</td>\n",
       "      <td>0</td>\n",
       "      <td>0</td>\n",
       "      <td>0</td>\n",
       "      <td>3</td>\n",
       "    </tr>\n",
       "    <tr>\n",
       "      <th>2</th>\n",
       "      <td>0</td>\n",
       "      <td>0</td>\n",
       "      <td>0</td>\n",
       "      <td>0</td>\n",
       "      <td>0</td>\n",
       "      <td>1</td>\n",
       "      <td>0</td>\n",
       "      <td>0</td>\n",
       "      <td>0</td>\n",
       "      <td>0</td>\n",
       "      <td>...</td>\n",
       "      <td>0</td>\n",
       "      <td>0</td>\n",
       "      <td>0</td>\n",
       "      <td>0</td>\n",
       "      <td>1</td>\n",
       "      <td>0</td>\n",
       "      <td>0</td>\n",
       "      <td>0</td>\n",
       "      <td>0</td>\n",
       "      <td>2</td>\n",
       "    </tr>\n",
       "    <tr>\n",
       "      <th>3</th>\n",
       "      <td>0</td>\n",
       "      <td>0</td>\n",
       "      <td>0</td>\n",
       "      <td>0</td>\n",
       "      <td>0</td>\n",
       "      <td>1</td>\n",
       "      <td>0</td>\n",
       "      <td>0</td>\n",
       "      <td>1</td>\n",
       "      <td>0</td>\n",
       "      <td>...</td>\n",
       "      <td>0</td>\n",
       "      <td>0</td>\n",
       "      <td>0</td>\n",
       "      <td>0</td>\n",
       "      <td>1</td>\n",
       "      <td>0</td>\n",
       "      <td>0</td>\n",
       "      <td>0</td>\n",
       "      <td>0</td>\n",
       "      <td>3</td>\n",
       "    </tr>\n",
       "    <tr>\n",
       "      <th>4</th>\n",
       "      <td>0</td>\n",
       "      <td>0</td>\n",
       "      <td>0</td>\n",
       "      <td>0</td>\n",
       "      <td>0</td>\n",
       "      <td>1</td>\n",
       "      <td>0</td>\n",
       "      <td>0</td>\n",
       "      <td>0</td>\n",
       "      <td>0</td>\n",
       "      <td>...</td>\n",
       "      <td>0</td>\n",
       "      <td>0</td>\n",
       "      <td>0</td>\n",
       "      <td>0</td>\n",
       "      <td>0</td>\n",
       "      <td>0</td>\n",
       "      <td>0</td>\n",
       "      <td>0</td>\n",
       "      <td>0</td>\n",
       "      <td>1</td>\n",
       "    </tr>\n",
       "  </tbody>\n",
       "</table>\n",
       "<p>5 rows × 21 columns</p>\n",
       "</div>"
      ],
      "text/plain": [
       "   gen:(no genres listed)  gen:Action  gen:Adventure  gen:Animation  \\\n",
       "0                       0           0              1              1   \n",
       "1                       0           0              1              0   \n",
       "2                       0           0              0              0   \n",
       "3                       0           0              0              0   \n",
       "4                       0           0              0              0   \n",
       "\n",
       "   gen:Children  gen:Comedy  gen:Crime  gen:Documentary  gen:Drama  \\\n",
       "0             1           1          0                0          0   \n",
       "1             1           0          0                0          0   \n",
       "2             0           1          0                0          0   \n",
       "3             0           1          0                0          1   \n",
       "4             0           1          0                0          0   \n",
       "\n",
       "   gen:Fantasy   ...     gen:Horror  gen:IMAX  gen:Musical  gen:Mystery  \\\n",
       "0            1   ...              0         0            0            0   \n",
       "1            1   ...              0         0            0            0   \n",
       "2            0   ...              0         0            0            0   \n",
       "3            0   ...              0         0            0            0   \n",
       "4            0   ...              0         0            0            0   \n",
       "\n",
       "   gen:Romance  gen:Sci-Fi  gen:Thriller  gen:War  gen:Western  num_gen  \n",
       "0            0           0             0        0            0        5  \n",
       "1            0           0             0        0            0        3  \n",
       "2            1           0             0        0            0        2  \n",
       "3            1           0             0        0            0        3  \n",
       "4            0           0             0        0            0        1  \n",
       "\n",
       "[5 rows x 21 columns]"
      ]
     },
     "execution_count": 25,
     "metadata": {},
     "output_type": "execute_result"
    }
   ],
   "source": [
    "movies_gen['num_gen'] = movies_gen.sum(axis=1)\n",
    "movies_gen.head()"
   ]
  },
  {
   "cell_type": "code",
   "execution_count": 26,
   "metadata": {
    "collapsed": false
   },
   "outputs": [
    {
     "data": {
      "text/plain": [
       "(27278, 21)"
      ]
     },
     "execution_count": 26,
     "metadata": {},
     "output_type": "execute_result"
    }
   ],
   "source": [
    "movies_gen.shape"
   ]
  },
  {
   "cell_type": "markdown",
   "metadata": {},
   "source": [
    "Em seguida concatenamos \"dt_movies\" com \"movies_gen\"."
   ]
  },
  {
   "cell_type": "code",
   "execution_count": 27,
   "metadata": {
    "collapsed": false
   },
   "outputs": [
    {
     "data": {
      "text/html": [
       "<div>\n",
       "<style scoped>\n",
       "    .dataframe tbody tr th:only-of-type {\n",
       "        vertical-align: middle;\n",
       "    }\n",
       "\n",
       "    .dataframe tbody tr th {\n",
       "        vertical-align: top;\n",
       "    }\n",
       "\n",
       "    .dataframe thead th {\n",
       "        text-align: right;\n",
       "    }\n",
       "</style>\n",
       "<table border=\"1\" class=\"dataframe\">\n",
       "  <thead>\n",
       "    <tr style=\"text-align: right;\">\n",
       "      <th></th>\n",
       "      <th>movieId</th>\n",
       "      <th>title</th>\n",
       "      <th>genres</th>\n",
       "      <th>release_date</th>\n",
       "      <th>gen:(no genres listed)</th>\n",
       "      <th>gen:Action</th>\n",
       "      <th>gen:Adventure</th>\n",
       "      <th>gen:Animation</th>\n",
       "      <th>gen:Children</th>\n",
       "      <th>gen:Comedy</th>\n",
       "      <th>...</th>\n",
       "      <th>gen:Horror</th>\n",
       "      <th>gen:IMAX</th>\n",
       "      <th>gen:Musical</th>\n",
       "      <th>gen:Mystery</th>\n",
       "      <th>gen:Romance</th>\n",
       "      <th>gen:Sci-Fi</th>\n",
       "      <th>gen:Thriller</th>\n",
       "      <th>gen:War</th>\n",
       "      <th>gen:Western</th>\n",
       "      <th>num_gen</th>\n",
       "    </tr>\n",
       "  </thead>\n",
       "  <tbody>\n",
       "    <tr>\n",
       "      <th>7304</th>\n",
       "      <td>7416</td>\n",
       "      <td>Sunshine Boys, The (1975)</td>\n",
       "      <td>Comedy</td>\n",
       "      <td>1975.0</td>\n",
       "      <td>0</td>\n",
       "      <td>0</td>\n",
       "      <td>0</td>\n",
       "      <td>0</td>\n",
       "      <td>0</td>\n",
       "      <td>1</td>\n",
       "      <td>...</td>\n",
       "      <td>0</td>\n",
       "      <td>0</td>\n",
       "      <td>0</td>\n",
       "      <td>0</td>\n",
       "      <td>0</td>\n",
       "      <td>0</td>\n",
       "      <td>0</td>\n",
       "      <td>0</td>\n",
       "      <td>0</td>\n",
       "      <td>1</td>\n",
       "    </tr>\n",
       "    <tr>\n",
       "      <th>19541</th>\n",
       "      <td>96817</td>\n",
       "      <td>Boxing Gym (2010)</td>\n",
       "      <td>Documentary</td>\n",
       "      <td>2010.0</td>\n",
       "      <td>0</td>\n",
       "      <td>0</td>\n",
       "      <td>0</td>\n",
       "      <td>0</td>\n",
       "      <td>0</td>\n",
       "      <td>0</td>\n",
       "      <td>...</td>\n",
       "      <td>0</td>\n",
       "      <td>0</td>\n",
       "      <td>0</td>\n",
       "      <td>0</td>\n",
       "      <td>0</td>\n",
       "      <td>0</td>\n",
       "      <td>0</td>\n",
       "      <td>0</td>\n",
       "      <td>0</td>\n",
       "      <td>1</td>\n",
       "    </tr>\n",
       "    <tr>\n",
       "      <th>784</th>\n",
       "      <td>797</td>\n",
       "      <td>Old Lady Who Walked in the Sea, The (Vieille q...</td>\n",
       "      <td>Comedy</td>\n",
       "      <td>1991.0</td>\n",
       "      <td>0</td>\n",
       "      <td>0</td>\n",
       "      <td>0</td>\n",
       "      <td>0</td>\n",
       "      <td>0</td>\n",
       "      <td>1</td>\n",
       "      <td>...</td>\n",
       "      <td>0</td>\n",
       "      <td>0</td>\n",
       "      <td>0</td>\n",
       "      <td>0</td>\n",
       "      <td>0</td>\n",
       "      <td>0</td>\n",
       "      <td>0</td>\n",
       "      <td>0</td>\n",
       "      <td>0</td>\n",
       "      <td>1</td>\n",
       "    </tr>\n",
       "    <tr>\n",
       "      <th>16550</th>\n",
       "      <td>83601</td>\n",
       "      <td>Amer (2009)</td>\n",
       "      <td>Drama|Horror</td>\n",
       "      <td>2009.0</td>\n",
       "      <td>0</td>\n",
       "      <td>0</td>\n",
       "      <td>0</td>\n",
       "      <td>0</td>\n",
       "      <td>0</td>\n",
       "      <td>0</td>\n",
       "      <td>...</td>\n",
       "      <td>1</td>\n",
       "      <td>0</td>\n",
       "      <td>0</td>\n",
       "      <td>0</td>\n",
       "      <td>0</td>\n",
       "      <td>0</td>\n",
       "      <td>0</td>\n",
       "      <td>0</td>\n",
       "      <td>0</td>\n",
       "      <td>2</td>\n",
       "    </tr>\n",
       "    <tr>\n",
       "      <th>8621</th>\n",
       "      <td>26117</td>\n",
       "      <td>Killers, The (1964)</td>\n",
       "      <td>Action|Crime|Drama|Film-Noir|Thriller</td>\n",
       "      <td>1964.0</td>\n",
       "      <td>0</td>\n",
       "      <td>1</td>\n",
       "      <td>0</td>\n",
       "      <td>0</td>\n",
       "      <td>0</td>\n",
       "      <td>0</td>\n",
       "      <td>...</td>\n",
       "      <td>0</td>\n",
       "      <td>0</td>\n",
       "      <td>0</td>\n",
       "      <td>0</td>\n",
       "      <td>0</td>\n",
       "      <td>0</td>\n",
       "      <td>1</td>\n",
       "      <td>0</td>\n",
       "      <td>0</td>\n",
       "      <td>5</td>\n",
       "    </tr>\n",
       "  </tbody>\n",
       "</table>\n",
       "<p>5 rows × 25 columns</p>\n",
       "</div>"
      ],
      "text/plain": [
       "       movieId                                              title  \\\n",
       "7304      7416                          Sunshine Boys, The (1975)   \n",
       "19541    96817                                  Boxing Gym (2010)   \n",
       "784        797  Old Lady Who Walked in the Sea, The (Vieille q...   \n",
       "16550    83601                                        Amer (2009)   \n",
       "8621     26117                                Killers, The (1964)   \n",
       "\n",
       "                                      genres  release_date  \\\n",
       "7304                                  Comedy        1975.0   \n",
       "19541                            Documentary        2010.0   \n",
       "784                                   Comedy        1991.0   \n",
       "16550                           Drama|Horror        2009.0   \n",
       "8621   Action|Crime|Drama|Film-Noir|Thriller        1964.0   \n",
       "\n",
       "       gen:(no genres listed)  gen:Action  gen:Adventure  gen:Animation  \\\n",
       "7304                        0           0              0              0   \n",
       "19541                       0           0              0              0   \n",
       "784                         0           0              0              0   \n",
       "16550                       0           0              0              0   \n",
       "8621                        0           1              0              0   \n",
       "\n",
       "       gen:Children  gen:Comedy   ...     gen:Horror  gen:IMAX  gen:Musical  \\\n",
       "7304              0           1   ...              0         0            0   \n",
       "19541             0           0   ...              0         0            0   \n",
       "784               0           1   ...              0         0            0   \n",
       "16550             0           0   ...              1         0            0   \n",
       "8621              0           0   ...              0         0            0   \n",
       "\n",
       "       gen:Mystery  gen:Romance  gen:Sci-Fi  gen:Thriller  gen:War  \\\n",
       "7304             0            0           0             0        0   \n",
       "19541            0            0           0             0        0   \n",
       "784              0            0           0             0        0   \n",
       "16550            0            0           0             0        0   \n",
       "8621             0            0           0             1        0   \n",
       "\n",
       "       gen:Western  num_gen  \n",
       "7304             0        1  \n",
       "19541            0        1  \n",
       "784              0        1  \n",
       "16550            0        2  \n",
       "8621             0        5  \n",
       "\n",
       "[5 rows x 25 columns]"
      ]
     },
     "execution_count": 27,
     "metadata": {},
     "output_type": "execute_result"
    }
   ],
   "source": [
    "dt_movies = pd.concat([dt_movies, movies_gen], axis=1)\n",
    "dt_movies.sample(5)"
   ]
  },
  {
   "cell_type": "code",
   "execution_count": 28,
   "metadata": {
    "collapsed": false
   },
   "outputs": [
    {
     "data": {
      "text/plain": [
       "(27278, 24)"
      ]
     },
     "execution_count": 28,
     "metadata": {},
     "output_type": "execute_result"
    }
   ],
   "source": [
    "dt_movies = dt_movies.drop('genres',axis=1)\n",
    "dt_movies.shape"
   ]
  },
  {
   "cell_type": "markdown",
   "metadata": {},
   "source": [
    "**Dataframe: dt_ratings**  \n",
    "Um fator que pode ser importante em uma recomendação é o horário em que ela foi feita. No fim de um dia usualmente estamos mais cansados e portanto somos menos criteriosos ao dar uma nota. Assim transformamos 'timestamp' em categorias de 0 a 23 para as horas."
   ]
  },
  {
   "cell_type": "code",
   "execution_count": 29,
   "metadata": {
    "collapsed": false
   },
   "outputs": [
    {
     "data": {
      "text/html": [
       "<div>\n",
       "<style scoped>\n",
       "    .dataframe tbody tr th:only-of-type {\n",
       "        vertical-align: middle;\n",
       "    }\n",
       "\n",
       "    .dataframe tbody tr th {\n",
       "        vertical-align: top;\n",
       "    }\n",
       "\n",
       "    .dataframe thead th {\n",
       "        text-align: right;\n",
       "    }\n",
       "</style>\n",
       "<table border=\"1\" class=\"dataframe\">\n",
       "  <thead>\n",
       "    <tr style=\"text-align: right;\">\n",
       "      <th></th>\n",
       "      <th>userId</th>\n",
       "      <th>movieId</th>\n",
       "      <th>rating</th>\n",
       "      <th>timestamp</th>\n",
       "      <th>hour</th>\n",
       "    </tr>\n",
       "  </thead>\n",
       "  <tbody>\n",
       "    <tr>\n",
       "      <th>0</th>\n",
       "      <td>1</td>\n",
       "      <td>2</td>\n",
       "      <td>3.5</td>\n",
       "      <td>1112486027</td>\n",
       "      <td>23</td>\n",
       "    </tr>\n",
       "    <tr>\n",
       "      <th>1</th>\n",
       "      <td>1</td>\n",
       "      <td>29</td>\n",
       "      <td>3.5</td>\n",
       "      <td>1112484676</td>\n",
       "      <td>23</td>\n",
       "    </tr>\n",
       "    <tr>\n",
       "      <th>2</th>\n",
       "      <td>1</td>\n",
       "      <td>32</td>\n",
       "      <td>3.5</td>\n",
       "      <td>1112484819</td>\n",
       "      <td>23</td>\n",
       "    </tr>\n",
       "    <tr>\n",
       "      <th>3</th>\n",
       "      <td>1</td>\n",
       "      <td>47</td>\n",
       "      <td>3.5</td>\n",
       "      <td>1112484727</td>\n",
       "      <td>23</td>\n",
       "    </tr>\n",
       "    <tr>\n",
       "      <th>4</th>\n",
       "      <td>1</td>\n",
       "      <td>50</td>\n",
       "      <td>3.5</td>\n",
       "      <td>1112484580</td>\n",
       "      <td>23</td>\n",
       "    </tr>\n",
       "    <tr>\n",
       "      <th>5</th>\n",
       "      <td>1</td>\n",
       "      <td>112</td>\n",
       "      <td>3.5</td>\n",
       "      <td>1094785740</td>\n",
       "      <td>3</td>\n",
       "    </tr>\n",
       "    <tr>\n",
       "      <th>6</th>\n",
       "      <td>1</td>\n",
       "      <td>151</td>\n",
       "      <td>4.0</td>\n",
       "      <td>1094785734</td>\n",
       "      <td>3</td>\n",
       "    </tr>\n",
       "    <tr>\n",
       "      <th>7</th>\n",
       "      <td>1</td>\n",
       "      <td>223</td>\n",
       "      <td>4.0</td>\n",
       "      <td>1112485573</td>\n",
       "      <td>23</td>\n",
       "    </tr>\n",
       "    <tr>\n",
       "      <th>8</th>\n",
       "      <td>1</td>\n",
       "      <td>253</td>\n",
       "      <td>4.0</td>\n",
       "      <td>1112484940</td>\n",
       "      <td>23</td>\n",
       "    </tr>\n",
       "    <tr>\n",
       "      <th>9</th>\n",
       "      <td>1</td>\n",
       "      <td>260</td>\n",
       "      <td>4.0</td>\n",
       "      <td>1112484826</td>\n",
       "      <td>23</td>\n",
       "    </tr>\n",
       "  </tbody>\n",
       "</table>\n",
       "</div>"
      ],
      "text/plain": [
       "   userId  movieId  rating   timestamp  hour\n",
       "0       1        2     3.5  1112486027    23\n",
       "1       1       29     3.5  1112484676    23\n",
       "2       1       32     3.5  1112484819    23\n",
       "3       1       47     3.5  1112484727    23\n",
       "4       1       50     3.5  1112484580    23\n",
       "5       1      112     3.5  1094785740     3\n",
       "6       1      151     4.0  1094785734     3\n",
       "7       1      223     4.0  1112485573    23\n",
       "8       1      253     4.0  1112484940    23\n",
       "9       1      260     4.0  1112484826    23"
      ]
     },
     "execution_count": 29,
     "metadata": {},
     "output_type": "execute_result"
    }
   ],
   "source": [
    "dt_ratings['hour'] = (dt_ratings['timestamp'] // 3600) % 24\n",
    "dt_ratings.head(10)"
   ]
  },
  {
   "cell_type": "code",
   "execution_count": 30,
   "metadata": {
    "collapsed": false
   },
   "outputs": [
    {
     "name": "stdout",
     "output_type": "stream",
     "text": [
      "23\n",
      "0\n",
      "12.435294675875012\n",
      "7.354489179676474\n"
     ]
    }
   ],
   "source": [
    "# verificando\n",
    "print(dt_ratings['hour'].max())\n",
    "print(dt_ratings['hour'].min())\n",
    "print(dt_ratings['hour'].mean())\n",
    "print(dt_ratings['hour'].std())"
   ]
  },
  {
   "cell_type": "markdown",
   "metadata": {},
   "source": [
    "Agora vamos unir os dataframes de acordo com a vriável em comum \"movieId\"."
   ]
  },
  {
   "cell_type": "code",
   "execution_count": 31,
   "metadata": {
    "collapsed": false
   },
   "outputs": [
    {
     "data": {
      "text/html": [
       "<div>\n",
       "<style scoped>\n",
       "    .dataframe tbody tr th:only-of-type {\n",
       "        vertical-align: middle;\n",
       "    }\n",
       "\n",
       "    .dataframe tbody tr th {\n",
       "        vertical-align: top;\n",
       "    }\n",
       "\n",
       "    .dataframe thead th {\n",
       "        text-align: right;\n",
       "    }\n",
       "</style>\n",
       "<table border=\"1\" class=\"dataframe\">\n",
       "  <thead>\n",
       "    <tr style=\"text-align: right;\">\n",
       "      <th></th>\n",
       "      <th>movieId</th>\n",
       "      <th>title</th>\n",
       "      <th>release_date</th>\n",
       "      <th>gen:(no genres listed)</th>\n",
       "      <th>gen:Action</th>\n",
       "      <th>gen:Adventure</th>\n",
       "      <th>gen:Animation</th>\n",
       "      <th>gen:Children</th>\n",
       "      <th>gen:Comedy</th>\n",
       "      <th>gen:Crime</th>\n",
       "      <th>...</th>\n",
       "      <th>gen:Romance</th>\n",
       "      <th>gen:Sci-Fi</th>\n",
       "      <th>gen:Thriller</th>\n",
       "      <th>gen:War</th>\n",
       "      <th>gen:Western</th>\n",
       "      <th>num_gen</th>\n",
       "      <th>userId</th>\n",
       "      <th>rating</th>\n",
       "      <th>timestamp</th>\n",
       "      <th>hour</th>\n",
       "    </tr>\n",
       "  </thead>\n",
       "  <tbody>\n",
       "    <tr>\n",
       "      <th>0</th>\n",
       "      <td>1</td>\n",
       "      <td>Toy Story (1995)</td>\n",
       "      <td>1995.0</td>\n",
       "      <td>0</td>\n",
       "      <td>0</td>\n",
       "      <td>1</td>\n",
       "      <td>1</td>\n",
       "      <td>1</td>\n",
       "      <td>1</td>\n",
       "      <td>0</td>\n",
       "      <td>...</td>\n",
       "      <td>0</td>\n",
       "      <td>0</td>\n",
       "      <td>0</td>\n",
       "      <td>0</td>\n",
       "      <td>0</td>\n",
       "      <td>5</td>\n",
       "      <td>3</td>\n",
       "      <td>4.0</td>\n",
       "      <td>944919407</td>\n",
       "      <td>13</td>\n",
       "    </tr>\n",
       "    <tr>\n",
       "      <th>1</th>\n",
       "      <td>1</td>\n",
       "      <td>Toy Story (1995)</td>\n",
       "      <td>1995.0</td>\n",
       "      <td>0</td>\n",
       "      <td>0</td>\n",
       "      <td>1</td>\n",
       "      <td>1</td>\n",
       "      <td>1</td>\n",
       "      <td>1</td>\n",
       "      <td>0</td>\n",
       "      <td>...</td>\n",
       "      <td>0</td>\n",
       "      <td>0</td>\n",
       "      <td>0</td>\n",
       "      <td>0</td>\n",
       "      <td>0</td>\n",
       "      <td>5</td>\n",
       "      <td>6</td>\n",
       "      <td>5.0</td>\n",
       "      <td>858275452</td>\n",
       "      <td>17</td>\n",
       "    </tr>\n",
       "    <tr>\n",
       "      <th>2</th>\n",
       "      <td>1</td>\n",
       "      <td>Toy Story (1995)</td>\n",
       "      <td>1995.0</td>\n",
       "      <td>0</td>\n",
       "      <td>0</td>\n",
       "      <td>1</td>\n",
       "      <td>1</td>\n",
       "      <td>1</td>\n",
       "      <td>1</td>\n",
       "      <td>0</td>\n",
       "      <td>...</td>\n",
       "      <td>0</td>\n",
       "      <td>0</td>\n",
       "      <td>0</td>\n",
       "      <td>0</td>\n",
       "      <td>0</td>\n",
       "      <td>5</td>\n",
       "      <td>8</td>\n",
       "      <td>4.0</td>\n",
       "      <td>833981871</td>\n",
       "      <td>13</td>\n",
       "    </tr>\n",
       "    <tr>\n",
       "      <th>3</th>\n",
       "      <td>1</td>\n",
       "      <td>Toy Story (1995)</td>\n",
       "      <td>1995.0</td>\n",
       "      <td>0</td>\n",
       "      <td>0</td>\n",
       "      <td>1</td>\n",
       "      <td>1</td>\n",
       "      <td>1</td>\n",
       "      <td>1</td>\n",
       "      <td>0</td>\n",
       "      <td>...</td>\n",
       "      <td>0</td>\n",
       "      <td>0</td>\n",
       "      <td>0</td>\n",
       "      <td>0</td>\n",
       "      <td>0</td>\n",
       "      <td>5</td>\n",
       "      <td>10</td>\n",
       "      <td>4.0</td>\n",
       "      <td>943497887</td>\n",
       "      <td>2</td>\n",
       "    </tr>\n",
       "    <tr>\n",
       "      <th>4</th>\n",
       "      <td>1</td>\n",
       "      <td>Toy Story (1995)</td>\n",
       "      <td>1995.0</td>\n",
       "      <td>0</td>\n",
       "      <td>0</td>\n",
       "      <td>1</td>\n",
       "      <td>1</td>\n",
       "      <td>1</td>\n",
       "      <td>1</td>\n",
       "      <td>0</td>\n",
       "      <td>...</td>\n",
       "      <td>0</td>\n",
       "      <td>0</td>\n",
       "      <td>0</td>\n",
       "      <td>0</td>\n",
       "      <td>0</td>\n",
       "      <td>5</td>\n",
       "      <td>11</td>\n",
       "      <td>4.5</td>\n",
       "      <td>1230858821</td>\n",
       "      <td>1</td>\n",
       "    </tr>\n",
       "  </tbody>\n",
       "</table>\n",
       "<p>5 rows × 28 columns</p>\n",
       "</div>"
      ],
      "text/plain": [
       "   movieId             title  release_date  gen:(no genres listed)  \\\n",
       "0        1  Toy Story (1995)        1995.0                       0   \n",
       "1        1  Toy Story (1995)        1995.0                       0   \n",
       "2        1  Toy Story (1995)        1995.0                       0   \n",
       "3        1  Toy Story (1995)        1995.0                       0   \n",
       "4        1  Toy Story (1995)        1995.0                       0   \n",
       "\n",
       "   gen:Action  gen:Adventure  gen:Animation  gen:Children  gen:Comedy  \\\n",
       "0           0              1              1             1           1   \n",
       "1           0              1              1             1           1   \n",
       "2           0              1              1             1           1   \n",
       "3           0              1              1             1           1   \n",
       "4           0              1              1             1           1   \n",
       "\n",
       "   gen:Crime  ...   gen:Romance  gen:Sci-Fi  gen:Thriller  gen:War  \\\n",
       "0          0  ...             0           0             0        0   \n",
       "1          0  ...             0           0             0        0   \n",
       "2          0  ...             0           0             0        0   \n",
       "3          0  ...             0           0             0        0   \n",
       "4          0  ...             0           0             0        0   \n",
       "\n",
       "   gen:Western  num_gen  userId  rating   timestamp  hour  \n",
       "0            0        5       3     4.0   944919407    13  \n",
       "1            0        5       6     5.0   858275452    17  \n",
       "2            0        5       8     4.0   833981871    13  \n",
       "3            0        5      10     4.0   943497887     2  \n",
       "4            0        5      11     4.5  1230858821     1  \n",
       "\n",
       "[5 rows x 28 columns]"
      ]
     },
     "execution_count": 31,
     "metadata": {},
     "output_type": "execute_result"
    }
   ],
   "source": [
    "dt_user_movie = pd.merge(dt_movies,dt_ratings)\n",
    "dt_user_movie.head()"
   ]
  },
  {
   "cell_type": "code",
   "execution_count": 32,
   "metadata": {
    "collapsed": false
   },
   "outputs": [
    {
     "data": {
      "text/plain": [
       "(20000263, 27)"
      ]
     },
     "execution_count": 32,
     "metadata": {},
     "output_type": "execute_result"
    }
   ],
   "source": [
    "dt_user_movie = dt_user_movie.drop('timestamp',axis=1)\n",
    "dt_user_movie.shape"
   ]
  },
  {
   "cell_type": "markdown",
   "metadata": {},
   "source": [
    "### Respondendo:  \n",
    "\n",
    "Agora estamos prontos para responder as perguntas."
   ]
  },
  {
   "cell_type": "markdown",
   "metadata": {},
   "source": [
    "#### Quantas avaliações em média tem um filme? Qual o número de vezes mínimo significativo que um filme foi avaliado?\n",
    "\n",
    "O número de vezes que um filme foi avaliado é importante para um modelo estatístico, por exemplo, um filme que só foi avaliado uma vez e obteve boa avaliação pode ser erroneamente sugerido ao usuário no lugar de um com avaliação mediana e muitas avaliações. Vamos então contar quantas vezes cada filme foi avaliado."
   ]
  },
  {
   "cell_type": "code",
   "execution_count": 33,
   "metadata": {
    "collapsed": true
   },
   "outputs": [],
   "source": [
    "freq_count = dt_user_movie.groupby(by='movieId').count()"
   ]
  },
  {
   "cell_type": "code",
   "execution_count": 34,
   "metadata": {
    "collapsed": false
   },
   "outputs": [
    {
     "data": {
      "text/plain": [
       "movieId\n",
       "1    49695\n",
       "2    22243\n",
       "3    12735\n",
       "4     2756\n",
       "5    12161\n",
       "Name: title, dtype: int64"
      ]
     },
     "execution_count": 34,
     "metadata": {},
     "output_type": "execute_result"
    }
   ],
   "source": [
    "freq_count['title'].head()"
   ]
  },
  {
   "cell_type": "code",
   "execution_count": 35,
   "metadata": {
    "collapsed": false
   },
   "outputs": [
    {
     "name": "stdout",
     "output_type": "stream",
     "text": [
      "Número máximo de avaliações: 67310\n",
      "Número mínimo de avaliações: 1\n",
      "Número total de avaliações: 20000263\n",
      "Número médio de avaliações: 747.8411232425965\n",
      "Desvio padrão do número médio de avaliações: 3085.818267903586\n",
      "Variância do número médio de avaliações: 0.6900054045536871\n"
     ]
    }
   ],
   "source": [
    "print(\"Número máximo de avaliações:\",freq_count['title'].max())\n",
    "print(\"Número mínimo de avaliações:\",freq_count['title'].min())\n",
    "print(\"Número total de avaliações:\",freq_count['title'].sum())\n",
    "print(\"Número médio de avaliações:\",freq_count['title'].mean())\n",
    "print(\"Desvio padrão do número médio de avaliações:\",freq_count['title'].std())\n",
    "print(\"Variância do número médio de avaliações:\",freq_count['title'].std()/np.sqrt(freq_count['title'].sum()))"
   ]
  },
  {
   "cell_type": "code",
   "execution_count": 36,
   "metadata": {
    "collapsed": false
   },
   "outputs": [
    {
     "data": {
      "text/plain": [
       "<matplotlib.axes._subplots.AxesSubplot at 0x3180cf8828>"
      ]
     },
     "execution_count": 36,
     "metadata": {},
     "output_type": "execute_result"
    },
    {
     "data": {
      "image/png": "[encoded data removed]",
      "text/plain": [
       "<Figure size 1080x360 with 1 Axes>"
      ]
     },
     "metadata": {
      "needs_background": "light"
     },
     "output_type": "display_data"
    }
   ],
   "source": [
    "freq_count['title'].hist(edgecolor='w', bins=30,figsize=(15,5))"
   ]
  },
  {
   "cell_type": "markdown",
   "metadata": {},
   "source": [
    "Essa distribuição claramente não é gaussiana, de acordo com o significado dos dados, esta poderia se adequar a uma distribuição de Poisson, já que um filme tem maior chance de ser assistido com o passar do tempo (se os dados vierem de um sistema de recomendação essa estatística pode ser alterada). Um teste $\\chi^{2}$ poderia ser utilizado para confirmar ou não se a distribuição é de Poisson, entretanto não utilizaremos isso aqui para que a análise seja mais rápida. Em seguida vamos utilizar a correlação de Pearson e para tal é usual considerar o número mínimo significativo de observações sendo 25, ou seja, um filme com 25 avaliações já pode ser considerado em nossa estatística."
   ]
  },
  {
   "cell_type": "code",
   "execution_count": 37,
   "metadata": {
    "collapsed": true
   },
   "outputs": [],
   "source": [
    "# nomes das colunas que contém o gênero\n",
    "gen_cols = ['gen:(no genres listed)','gen:Action','gen:Adventure','gen:Animation','gen:Children','gen:Comedy','gen:Crime',\n",
    "            'gen:Documentary','gen:Drama','gen:Fantasy','gen:Film-Noir','gen:Horror','gen:IMAX','gen:Musical','gen:Mystery',\n",
    "            'gen:Romance', 'gen:Sci-Fi','gen:Thriller','gen:War','gen:Western']"
   ]
  },
  {
   "cell_type": "code",
   "execution_count": 38,
   "metadata": {
    "collapsed": true
   },
   "outputs": [],
   "source": [
    "n_crit = 25\n",
    "corr_pearson = dt_user_movie.corr(method='pearson',min_periods=n_crit)"
   ]
  },
  {
   "cell_type": "code",
   "execution_count": 39,
   "metadata": {
    "collapsed": false
   },
   "outputs": [
    {
     "data": {
      "text/plain": [
       "(26, 26)"
      ]
     },
     "execution_count": 39,
     "metadata": {},
     "output_type": "execute_result"
    }
   ],
   "source": [
    "corr_pearson.shape"
   ]
  },
  {
   "cell_type": "code",
   "execution_count": 40,
   "metadata": {
    "collapsed": false,
    "scrolled": true
   },
   "outputs": [
    {
     "data": {
      "text/html": [
       "<div>\n",
       "<style scoped>\n",
       "    .dataframe tbody tr th:only-of-type {\n",
       "        vertical-align: middle;\n",
       "    }\n",
       "\n",
       "    .dataframe tbody tr th {\n",
       "        vertical-align: top;\n",
       "    }\n",
       "\n",
       "    .dataframe thead th {\n",
       "        text-align: right;\n",
       "    }\n",
       "</style>\n",
       "<table border=\"1\" class=\"dataframe\">\n",
       "  <thead>\n",
       "    <tr style=\"text-align: right;\">\n",
       "      <th></th>\n",
       "      <th>movieId</th>\n",
       "      <th>release_date</th>\n",
       "      <th>gen:(no genres listed)</th>\n",
       "      <th>gen:Action</th>\n",
       "      <th>gen:Adventure</th>\n",
       "      <th>gen:Animation</th>\n",
       "      <th>gen:Children</th>\n",
       "      <th>gen:Comedy</th>\n",
       "      <th>gen:Crime</th>\n",
       "      <th>gen:Documentary</th>\n",
       "      <th>...</th>\n",
       "      <th>gen:Mystery</th>\n",
       "      <th>gen:Romance</th>\n",
       "      <th>gen:Sci-Fi</th>\n",
       "      <th>gen:Thriller</th>\n",
       "      <th>gen:War</th>\n",
       "      <th>gen:Western</th>\n",
       "      <th>num_gen</th>\n",
       "      <th>userId</th>\n",
       "      <th>rating</th>\n",
       "      <th>hour</th>\n",
       "    </tr>\n",
       "  </thead>\n",
       "  <tbody>\n",
       "    <tr>\n",
       "      <th>movieId</th>\n",
       "      <td>1.000000</td>\n",
       "      <td>0.373048</td>\n",
       "      <td>0.023785</td>\n",
       "      <td>0.037459</td>\n",
       "      <td>0.008756</td>\n",
       "      <td>0.042020</td>\n",
       "      <td>-0.020018</td>\n",
       "      <td>-0.046625</td>\n",
       "      <td>0.015988</td>\n",
       "      <td>0.073967</td>\n",
       "      <td>...</td>\n",
       "      <td>0.024602</td>\n",
       "      <td>-0.030999</td>\n",
       "      <td>0.031865</td>\n",
       "      <td>0.022203</td>\n",
       "      <td>-0.009593</td>\n",
       "      <td>-0.016453</td>\n",
       "      <td>0.074693</td>\n",
       "      <td>-0.000850</td>\n",
       "      <td>0.002606</td>\n",
       "      <td>-0.004318</td>\n",
       "    </tr>\n",
       "    <tr>\n",
       "      <th>release_date</th>\n",
       "      <td>0.373048</td>\n",
       "      <td>1.000000</td>\n",
       "      <td>-0.002015</td>\n",
       "      <td>0.104454</td>\n",
       "      <td>0.023895</td>\n",
       "      <td>-0.002461</td>\n",
       "      <td>-0.053542</td>\n",
       "      <td>0.057903</td>\n",
       "      <td>0.048651</td>\n",
       "      <td>0.052712</td>\n",
       "      <td>...</td>\n",
       "      <td>0.004273</td>\n",
       "      <td>-0.009629</td>\n",
       "      <td>0.037898</td>\n",
       "      <td>0.107899</td>\n",
       "      <td>-0.077143</td>\n",
       "      <td>-0.072039</td>\n",
       "      <td>0.071861</td>\n",
       "      <td>-0.003367</td>\n",
       "      <td>-0.098451</td>\n",
       "      <td>0.001762</td>\n",
       "    </tr>\n",
       "    <tr>\n",
       "      <th>gen:(no genres listed)</th>\n",
       "      <td>0.023785</td>\n",
       "      <td>-0.002015</td>\n",
       "      <td>1.000000</td>\n",
       "      <td>-0.002654</td>\n",
       "      <td>-0.002250</td>\n",
       "      <td>-0.001045</td>\n",
       "      <td>-0.001282</td>\n",
       "      <td>-0.003292</td>\n",
       "      <td>-0.001888</td>\n",
       "      <td>-0.000473</td>\n",
       "      <td>...</td>\n",
       "      <td>-0.001235</td>\n",
       "      <td>-0.002058</td>\n",
       "      <td>-0.001837</td>\n",
       "      <td>-0.002555</td>\n",
       "      <td>-0.000999</td>\n",
       "      <td>-0.000625</td>\n",
       "      <td>-0.006062</td>\n",
       "      <td>0.001899</td>\n",
       "      <td>-0.002094</td>\n",
       "      <td>-0.000483</td>\n",
       "    </tr>\n",
       "    <tr>\n",
       "      <th>gen:Action</th>\n",
       "      <td>0.037459</td>\n",
       "      <td>0.104454</td>\n",
       "      <td>-0.002654</td>\n",
       "      <td>1.000000</td>\n",
       "      <td>0.330372</td>\n",
       "      <td>-0.100714</td>\n",
       "      <td>-0.144060</td>\n",
       "      <td>-0.232105</td>\n",
       "      <td>0.097373</td>\n",
       "      <td>-0.065659</td>\n",
       "      <td>...</td>\n",
       "      <td>-0.057524</td>\n",
       "      <td>-0.164084</td>\n",
       "      <td>0.309365</td>\n",
       "      <td>0.271010</td>\n",
       "      <td>0.062813</td>\n",
       "      <td>0.031409</td>\n",
       "      <td>0.389519</td>\n",
       "      <td>0.000467</td>\n",
       "      <td>-0.048495</td>\n",
       "      <td>0.004229</td>\n",
       "    </tr>\n",
       "    <tr>\n",
       "      <th>gen:Adventure</th>\n",
       "      <td>0.008756</td>\n",
       "      <td>0.023895</td>\n",
       "      <td>-0.002250</td>\n",
       "      <td>0.330372</td>\n",
       "      <td>1.000000</td>\n",
       "      <td>0.222271</td>\n",
       "      <td>0.224097</td>\n",
       "      <td>-0.065425</td>\n",
       "      <td>-0.172845</td>\n",
       "      <td>-0.055252</td>\n",
       "      <td>...</td>\n",
       "      <td>-0.089392</td>\n",
       "      <td>-0.142613</td>\n",
       "      <td>0.236653</td>\n",
       "      <td>-0.038838</td>\n",
       "      <td>-0.048252</td>\n",
       "      <td>0.045472</td>\n",
       "      <td>0.427638</td>\n",
       "      <td>0.000163</td>\n",
       "      <td>-0.011898</td>\n",
       "      <td>-0.000328</td>\n",
       "    </tr>\n",
       "  </tbody>\n",
       "</table>\n",
       "<p>5 rows × 26 columns</p>\n",
       "</div>"
      ],
      "text/plain": [
       "                         movieId  release_date  gen:(no genres listed)  \\\n",
       "movieId                 1.000000      0.373048                0.023785   \n",
       "release_date            0.373048      1.000000               -0.002015   \n",
       "gen:(no genres listed)  0.023785     -0.002015                1.000000   \n",
       "gen:Action              0.037459      0.104454               -0.002654   \n",
       "gen:Adventure           0.008756      0.023895               -0.002250   \n",
       "\n",
       "                        gen:Action  gen:Adventure  gen:Animation  \\\n",
       "movieId                   0.037459       0.008756       0.042020   \n",
       "release_date              0.104454       0.023895      -0.002461   \n",
       "gen:(no genres listed)   -0.002654      -0.002250      -0.001045   \n",
       "gen:Action                1.000000       0.330372      -0.100714   \n",
       "gen:Adventure             0.330372       1.000000       0.222271   \n",
       "\n",
       "                        gen:Children  gen:Comedy  gen:Crime  gen:Documentary  \\\n",
       "movieId                    -0.020018   -0.046625   0.015988         0.073967   \n",
       "release_date               -0.053542    0.057903   0.048651         0.052712   \n",
       "gen:(no genres listed)     -0.001282   -0.003292  -0.001888        -0.000473   \n",
       "gen:Action                 -0.144060   -0.232105   0.097373        -0.065659   \n",
       "gen:Adventure               0.224097   -0.065425  -0.172845        -0.055252   \n",
       "\n",
       "                          ...     gen:Mystery  gen:Romance  gen:Sci-Fi  \\\n",
       "movieId                   ...        0.024602    -0.030999    0.031865   \n",
       "release_date              ...        0.004273    -0.009629    0.037898   \n",
       "gen:(no genres listed)    ...       -0.001235    -0.002058   -0.001837   \n",
       "gen:Action                ...       -0.057524    -0.164084    0.309365   \n",
       "gen:Adventure             ...       -0.089392    -0.142613    0.236653   \n",
       "\n",
       "                        gen:Thriller   gen:War  gen:Western   num_gen  \\\n",
       "movieId                     0.022203 -0.009593    -0.016453  0.074693   \n",
       "release_date                0.107899 -0.077143    -0.072039  0.071861   \n",
       "gen:(no genres listed)     -0.002555 -0.000999    -0.000625 -0.006062   \n",
       "gen:Action                  0.271010  0.062813     0.031409  0.389519   \n",
       "gen:Adventure              -0.038838 -0.048252     0.045472  0.427638   \n",
       "\n",
       "                          userId    rating      hour  \n",
       "movieId                -0.000850  0.002606 -0.004318  \n",
       "release_date           -0.003367 -0.098451  0.001762  \n",
       "gen:(no genres listed)  0.001899 -0.002094 -0.000483  \n",
       "gen:Action              0.000467 -0.048495  0.004229  \n",
       "gen:Adventure           0.000163 -0.011898 -0.000328  \n",
       "\n",
       "[5 rows x 26 columns]"
      ]
     },
     "execution_count": 40,
     "metadata": {},
     "output_type": "execute_result"
    }
   ],
   "source": [
    "corr_pearson.head()"
   ]
  },
  {
   "cell_type": "markdown",
   "metadata": {},
   "source": [
    "Para eliminar os filmes com menos de 25 avaliações fazemos:"
   ]
  },
  {
   "cell_type": "code",
   "execution_count": 41,
   "metadata": {
    "collapsed": false
   },
   "outputs": [
    {
     "name": "stdout",
     "output_type": "stream",
     "text": [
      "14326\n"
     ]
    },
    {
     "data": {
      "text/plain": [
       "array([   109,    133,    143, ..., 131258, 131260, 131262], dtype=int64)"
      ]
     },
     "execution_count": 41,
     "metadata": {},
     "output_type": "execute_result"
    }
   ],
   "source": [
    "A = freq_count[freq_count['title']<=25].index.values\n",
    "print(len(A))\n",
    "A"
   ]
  },
  {
   "cell_type": "code",
   "execution_count": 42,
   "metadata": {
    "collapsed": true
   },
   "outputs": [],
   "source": [
    "dt_user_movie = dt_user_movie[~dt_user_movie['movieId'].isin(A)]"
   ]
  },
  {
   "cell_type": "code",
   "execution_count": 43,
   "metadata": {
    "collapsed": false
   },
   "outputs": [
    {
     "data": {
      "text/plain": [
       "(19917174, 27)"
      ]
     },
     "execution_count": 43,
     "metadata": {},
     "output_type": "execute_result"
    }
   ],
   "source": [
    "dt_user_movie.shape"
   ]
  },
  {
   "cell_type": "markdown",
   "metadata": {},
   "source": [
    "#### Existe alguma relação entre o gênero do filme e o padrão de avaliação dos usuários?"
   ]
  },
  {
   "cell_type": "code",
   "execution_count": 44,
   "metadata": {
    "collapsed": true
   },
   "outputs": [],
   "source": [
    "corr = corr_pearson['rating'][gen_cols].sort_values(ascending=False)"
   ]
  },
  {
   "cell_type": "code",
   "execution_count": 45,
   "metadata": {
    "collapsed": false
   },
   "outputs": [
    {
     "data": {
      "text/plain": [
       "<matplotlib.axes._subplots.AxesSubplot at 0x31802840b8>"
      ]
     },
     "execution_count": 45,
     "metadata": {},
     "output_type": "execute_result"
    },
    {
     "data": {
      "image/png": "[encoded data removed]",
      "text/plain": [
       "<Figure size 864x576 with 1 Axes>"
      ]
     },
     "metadata": {
      "needs_background": "light"
     },
     "output_type": "display_data"
    }
   ],
   "source": [
    "plt.figure(figsize=(12,8))\n",
    "plt.title('Correlação: Rating X gêneros')\n",
    "corr_pearson['rating'][gen_cols].sort_values(ascending=False).plot.bar()"
   ]
  },
  {
   "cell_type": "code",
   "execution_count": 46,
   "metadata": {
    "collapsed": false
   },
   "outputs": [
    {
     "data": {
      "text/plain": [
       "<matplotlib.axes._subplots.AxesSubplot at 0x3180029908>"
      ]
     },
     "execution_count": 46,
     "metadata": {},
     "output_type": "execute_result"
    },
    {
     "data": {
      "image/png": "[encoded data removed]",
      "text/plain": [
       "<Figure size 864x576 with 1 Axes>"
      ]
     },
     "metadata": {
      "needs_background": "light"
     },
     "output_type": "display_data"
    }
   ],
   "source": [
    "plt.figure(figsize=(12,8))\n",
    "plt.title('Correlação: |Rating| X gêneros')\n",
    "abs(corr_pearson['rating'][gen_cols]).sort_values(ascending=False).plot.bar()"
   ]
  },
  {
   "cell_type": "markdown",
   "metadata": {},
   "source": [
    "O gênero \"Drama\" é o que apresenta maior correlação com a variável \"rating\" e mesmo sendo o maior apresenta uma correlação baixa. Isso indica que um sistema de recomendação baseado apenas no gênero dificilmente resultaria em avaliações altas. Em destaque os gêneros \"Comedy\" e \"Horror\" (há outros) apresentam correlação negativa indicando que filmes com estes gêneros tendem a não ser bem classificados.  Com isso podemos perceber que \"Drama\", \"War\", \"Crime\", e \"Film-Noir\" são gêneros com maior correlação com \"rating\" e este fato pode ser explicado. Tais gêneros são geralmente considerados mais cultos e há maior investimento e qualidade na feitura dos mesmos, resultando em avaliações melhores.\n",
    "Entretanto, estressamos que estes valores de correlação são pequenos e nenhuma decisão deve ser baseada unicamente neste parâmetro."
   ]
  },
  {
   "cell_type": "markdown",
   "metadata": {},
   "source": [
    "#### Existe correlação entre os gêneros de filme? Usuários que gostam de um gênero também gostam de outro(s)?  "
   ]
  },
  {
   "cell_type": "code",
   "execution_count": 47,
   "metadata": {
    "collapsed": false
   },
   "outputs": [
    {
     "data": {
      "image/png": "[encoded data removed]",
      "text/plain": [
       "<Figure size 1080x720 with 2 Axes>"
      ]
     },
     "metadata": {
      "needs_background": "light"
     },
     "output_type": "display_data"
    }
   ],
   "source": [
    "corr_map = corr_pearson.loc[gen_cols, gen_cols]\n",
    "mask = np.zeros_like(corr_map)\n",
    "mask[np.triu_indices_from(mask)] = True\n",
    "plt.subplots(figsize=(15, 10))\n",
    "cmap = sns.diverging_palette(240, 10, n=9, as_cmap=True)\n",
    "grid = sns.heatmap(corr_map, mask=mask, square=True, annot=True, fmt='.1f', cmap=cmap, vmin=-1, center=0, linewidths=.5)\n",
    "plt.show()"
   ]
  },
  {
   "cell_type": "markdown",
   "metadata": {},
   "source": [
    "Usualmente uma correlação é considerada \"forte\" ou \"alta\" quando é maior que |0.5|. Podemos usar o contexto do problema para entender isto:\n",
    "-  Os gêneros \"Children\" e \"Animation\" são os únicos que tem correlação maior que 0.5, isto faz sentido já que a maior parte do conteúdo infantil é também uma animação. Vamos então considerar que estes gêneros representam a mesma categoria e descartaremos o gênero com o menor número de avaliações;\n",
    "-  \"Musical\" e \"Animation\"  apresentam correlação igual a 0.4. Vários musicais são também uma animação, entretanto se assumirmos que podemos descartar o gênero \"Musical\" um usuário que gosta deste gênero receberia muitas sugestões que não são musicais."
   ]
  },
  {
   "cell_type": "code",
   "execution_count": 48,
   "metadata": {
    "collapsed": false
   },
   "outputs": [
    {
     "name": "stdout",
     "output_type": "stream",
     "text": [
      "gen:(no genres listed) :     36\n",
      "gen:Action :     5604802\n",
      "gen:Adventure :     4374690\n",
      "gen:Animation :     1137231\n",
      "gen:Children :     1666728\n",
      "gen:Comedy :     7479180\n",
      "gen:Crime :     3289309\n",
      "gen:Documentary :     235402\n",
      "gen:Drama :     8814723\n",
      "gen:Fantasy :     2107632\n",
      "gen:Film-Noir :     215432\n",
      "gen:Horror :     1474794\n",
      "gen:IMAX :     492086\n",
      "gen:Musical :     867553\n",
      "gen:Mystery :     1552807\n",
      "gen:Romance :     3789771\n",
      "gen:Sci-Fi :     3145863\n",
      "gen:Thriller :     5301975\n",
      "gen:War :     1044827\n",
      "gen:Western :     421686\n"
     ]
    }
   ],
   "source": [
    "for item in gen_cols:\n",
    "    print(item,':    ',dt_user_movie[item].sum())"
   ]
  },
  {
   "cell_type": "code",
   "execution_count": 49,
   "metadata": {
    "collapsed": true
   },
   "outputs": [],
   "source": [
    "dt_user_movie = dt_user_movie.drop('gen:Animation',axis=1)"
   ]
  },
  {
   "cell_type": "markdown",
   "metadata": {},
   "source": [
    "A decisão de descartar ou não um gênero é importante para o modelo e deve ser discutida e analisada com cuidado. Aqui decidimos excluir o gênero \"Animation\" baseado unicamente na sua correlação com outro gênero, mas poderíamos pensar que todos os filmes que pertenceriam a uma categoria chamada \"Anime\" teriam dificuldades em serem sugeridos e portanto \"Animation\" deveria continuar como um gênero válido."
   ]
  },
  {
   "cell_type": "markdown",
   "metadata": {},
   "source": [
    "#### Existe correlação entre a hora do dia e a avaliação que o usuário dá para um filme?"
   ]
  },
  {
   "cell_type": "code",
   "execution_count": 50,
   "metadata": {
    "collapsed": false
   },
   "outputs": [
    {
     "data": {
      "text/plain": [
       "Text(0.5,0,'Hora da avaliação')"
      ]
     },
     "execution_count": 50,
     "metadata": {},
     "output_type": "execute_result"
    },
    {
     "data": {
      "image/png": "[encoded data removed]",
      "text/plain": [
       "<Figure size 576x360 with 1 Axes>"
      ]
     },
     "metadata": {
      "needs_background": "light"
     },
     "output_type": "display_data"
    }
   ],
   "source": [
    "dt_user_movie['hour'].hist(edgecolor='w', figsize=(8,5), bins=24)\n",
    "plt.xlabel('Hora da avaliação')"
   ]
  },
  {
   "cell_type": "markdown",
   "metadata": {},
   "source": [
    "# terminar!"
   ]
  },
  {
   "cell_type": "code",
   "execution_count": null,
   "metadata": {
    "collapsed": true
   },
   "outputs": [],
   "source": [
    "movies_hour = pd.get_dummies(dt_user_movie['hour']).sum(level=0).add_prefix('h:')\n",
    "movies_hour.head()"
   ]
  },
  {
   "cell_type": "markdown",
   "metadata": {},
   "source": [
    "#### Existe correlação entre o ano de lançamento do filme  e a avaliação?"
   ]
  },
  {
   "cell_type": "code",
   "execution_count": null,
   "metadata": {
    "collapsed": true
   },
   "outputs": [],
   "source": [
    "#dt_user_movie.plot.scatter(x='release_date',y='rating',c='DarkBlue',alpha=0.5)"
   ]
  },
  {
   "cell_type": "markdown",
   "metadata": {},
   "source": [
    "#### Existe correlação entre variedade de gênero de um filme e sua avaliação?"
   ]
  },
  {
   "cell_type": "code",
   "execution_count": 51,
   "metadata": {
    "collapsed": false
   },
   "outputs": [
    {
     "data": {
      "text/plain": [
       "0.01865051623267796"
      ]
     },
     "execution_count": 51,
     "metadata": {},
     "output_type": "execute_result"
    }
   ],
   "source": [
    "corr_pearson['num_gen']['rating']"
   ]
  },
  {
   "cell_type": "markdown",
   "metadata": {},
   "source": [
    "A correlação é pequena, talvez a relação não seja linear e tenha um número ótimo de categorias."
   ]
  },
  {
   "cell_type": "code",
   "execution_count": null,
   "metadata": {
    "collapsed": true
   },
   "outputs": [],
   "source": [
    "#dt_user_movie.plot.scatter(x='num_gen',y='rating',c='DarkBlue',alpha=0.5)"
   ]
  },
  {
   "cell_type": "code",
   "execution_count": null,
   "metadata": {
    "collapsed": true
   },
   "outputs": [],
   "source": [
    "#df.plot.bar(stacked=True)"
   ]
  },
  {
   "cell_type": "markdown",
   "metadata": {},
   "source": [
    "# Fazer ainda:\n",
    "\n",
    "-  (rating por filme) médio\n",
    "-  (rating por gênero) médio"
   ]
  },
  {
   "cell_type": "markdown",
   "metadata": {},
   "source": [
    "# Observação:\n",
    "\n",
    "Meu computador está com dificuldades de manter o notebook ativo. Para resolver isso posso ser mais rigosoro ao escolher features a serem descartados, bem como eliminar outliers usando \"isolation forest\" ou o \"Generalized ESD Test\"."
   ]
  }
 ],
 "metadata": {
  "anaconda-cloud": {},
  "kernelspec": {
   "display_name": "Python [tensorflow]",
   "language": "python",
   "name": "Python [tensorflow]"
  },
  "language_info": {
   "codemirror_mode": {
    "name": "ipython",
    "version": 3
   },
   "file_extension": ".py",
   "mimetype": "text/x-python",
   "name": "python",
   "nbconvert_exporter": "python",
   "pygments_lexer": "ipython3",
   "version": "3.6.2"
  }
 },
 "nbformat": 4,
 "nbformat_minor": 2
}
