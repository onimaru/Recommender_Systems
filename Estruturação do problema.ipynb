{
 "cells": [
  {
   "cell_type": "markdown",
   "metadata": {},
   "source": [
    "## Sequência da abordagem\n",
    "\n",
    "1.  Sistemas de recomendação: Leitura de artigos sobre sistemas de recomendação\n",
    "    -  O caso Netflix\n",
    "    -  Sistema user-based ou  item-based\n",
    "2. Conhecendo os dados - Movie Lens\n",
    "3. Estrutura do problema\n",
    "    -  Perguntas"
   ]
  },
  {
   "cell_type": "markdown",
   "metadata": {},
   "source": [
    "### 1. Breve abordagem ao sistema de recomendação do Netflix\n",
    "\n",
    "#### O caso Netflix\n",
    "As duas postagens sobre o sistema de recomendação do Netflix apresentam boas táticas que podem ser usadas em sistemas de recomendação de modo geral, embora o sistema atual não seja mais baseado nas \"cinco estrelas\", as postagens são de 2012. A ideia mais óbvia e básica desse sistema é simplesmente recomendar ao usuário filmes com alto *score*. Entretanto, tal método não teria muito sucesso devido a complexidade dos dados e do comportamento dos usuários. Alguns pontos específicos que o sistema de recomendação do Netflix utiliza, ou utilizava em 2012 são abordados a seguir:  \n",
    "-  Usuário variado: uma mesma conta pode ser compartilhada por uma família, portanto não pode-se considerar que todas as sugestões são para uma pessoa. Poderia inicialmente ser identificado quantos usuários utilizam a conta, baseado na dispersão das avaliações dos mesmos, e então um pequeno número de sugestões simultâneas (uma linha na interface do Netflix) deveria atingir cada um destes usuários.\n",
    "-  Confiança do usuário: mostrar para o usuário que a recomendação é personalizada faz com que ele ganhe confiança em futuras recomendações. Isso mostra como uma análise cognitiva do problema pode ser mais eficiente do que um algoritmo complexo ou um grande conjunto de dados. Usualmente isso é feito com recomendações acompanhadas de: \"Como você viu X talvez goste de Y, Z, ...\"; ou \"Recomendações para NomeDeUsuario\". A personalização gera um sentimento de importância e unicidade ao usuário que consequentemente gera confiança na marca ou produto.\n",
    "-  Círculo social: há estudos sobre cognição (**indicar nerdologia**) que mostram que o ser humano muda de ideia ou aceita algo novo com maior facilidade se pessoas conhecidas ou queridas são as responsáveis de alguma forma pela sugestão. Assim também é comum utilizar em uma recomendação algo que já foi avaliado positivamente por um conhecido ou até mesmo outro usuário com perfil similar. Novamente para ganhar confiança é comum mostrar a foto, com ou sem o nome, do \"usuário que indica\".\n",
    "-  Gênero: a sugestão pode também ser feita por gênero e subgênero (ou palavras-chave) utilizando o *score* como critério de ordenamento. Este seria um método mais direto sem uma abordagem psicológica do usuário.\n",
    "-  Similaridade: baseado em uma série de critérios como palavras-chave, gênero, ator, diretor, etc. pode-se agrupar filmes em clusters e então fazer sugestões de um grupo que tem similaridade com filmes avaliados pelo usuário. Uma abordagem com um modelo linear poderia utilizar a correlação entre os critérios.\n",
    "-  Outros: há ainda várias possibilidades de abordagem ou de classificação das sugestões como a popularidade, o interesse visto nas procuras, o contexto ou mesmo a atualidade de um item.\n",
    "\n",
    "O ranqueamento de um sistema pode então utilizar alguns ou todos os métodos citados em um único sistema mais complexo com o objetivo de apresentar as sugestões que serão mais apreciadas pelo usuário. O Netflix utiliza vários modelos apresentando as sugestões nas diferentes linhas mostradas na sua interface. Com o passar do tempo a empresa vem adaptando, melhorando ou adicionando novos modelos se tornando referência na área de sistemas de recomendação.\n",
    "\n",
    "#### Sistema user-based ou  item-based\n",
    "\n",
    "A classificação básica de um sistema de recomendação é dada em duas categorias:\n",
    "-  user-based: este tipo de sistema é aquele que busca similaridades entre usuários para fazer ma sugestão. Ex: O usuário A gosta de Star Wars e Star Trek; o usuário B gosta de Star Trek então Star Wars seria uma boa sugestão para B e a similaridade entre A e B é dada pelo gosto mútuo por Star Trek.\n",
    "-  item-based: é o sistema que considera alguma característica do item para fazer a sugestão. Ex: se em um conjunto de filmes de ação Duro de Matar é o que mais gera \"plays\" quando sugerido ele pode ser uma boa sugestão para quem procura um filme de ação.\n",
    "\n",
    "Ambas categorias possuem características positivas e negativas que variam muito com a aplicação, dados disponíveis e modelo escolhido. Aparentemente (é uma opinião minha) hoje em dia o Netflix usa uma combinação desses sistemas, mas o seu sucesso se deve principalmente devido a personalização do sistema, ou seja, o foco é maior em user-based."
   ]
  },
  {
   "cell_type": "markdown",
   "metadata": {},
   "source": [
    "### 2. Conhecendo os dados - Movie Lens\n",
    "\n",
    "Antes de definir um modelo ou uma estratégia devemos entender que informação possuímos no dataset fornecido, Movie Lens."
   ]
  },
  {
   "cell_type": "markdown",
   "metadata": {},
   "source": [
    "### 3. Estrutura do problema\n",
    "\n",
    "Vendo o exemplo do Netflix e os dados disponíveis parece mais interessante criar um sistema baseado no usuário (user-based).\n",
    "\n",
    "#### Perguntas  \n",
    "-  Quantas avaliações em média tem um filme?\n",
    "-  Qual o número de vezes mínimo significativo que um filme foi avaliado?\n",
    "-  Existe alguma relação entre o gênero do filme e o padrão de avaliação dos usuários?\n",
    "-  Existe correlação entre os gêneros de filme? Usuários que gostam de um gênero também gostam de outro(s)?\n",
    "-  Existe correlação entre o ano de lançamento do filme e a avaliação?\n",
    "-  Existe correlação entre a hora do dia e a avaliação que o usuário dá para um filme?\n",
    "-  Existe correlação entre variedade de gênero de um filme e sua avaliação?"
   ]
  },
  {
   "cell_type": "markdown",
   "metadata": {},
   "source": [
    "### 4. Modelo para Sistema de Recomendação"
   ]
  },
  {
   "cell_type": "markdown",
   "metadata": {},
   "source": [
    "### 5. Avaliando o modelo"
   ]
  },
  {
   "cell_type": "markdown",
   "metadata": {},
   "source": [
    "### 6. Conclusão"
   ]
  },
  {
   "cell_type": "markdown",
   "metadata": {},
   "source": [
    "### 7. Sugestões: melhorias e análises extras"
   ]
  }
 ],
 "metadata": {
  "anaconda-cloud": {},
  "kernelspec": {
   "display_name": "Python [tensorflow]",
   "language": "python",
   "name": "Python [tensorflow]"
  },
  "language_info": {
   "codemirror_mode": {
    "name": "ipython",
    "version": 3
   },
   "file_extension": ".py",
   "mimetype": "text/x-python",
   "name": "python",
   "nbconvert_exporter": "python",
   "pygments_lexer": "ipython3",
   "version": "3.6.2"
  }
 },
 "nbformat": 4,
 "nbformat_minor": 2
}
